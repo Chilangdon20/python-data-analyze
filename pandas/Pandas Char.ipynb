{
 "cells": [
  {
   "cell_type": "markdown",
   "metadata": {},
   "source": [
    "'''\n",
    "【课程2.15】  文本数据\n",
    "\n",
    "Pandas针对字符串配备的一套方法，使其易于对数组的每个元素进行操作\n",
    " \n",
    "'''"
   ]
  },
  {
   "cell_type": "code",
   "execution_count": 37,
   "metadata": {},
   "outputs": [],
   "source": [
    "import numpy as np\n",
    "import pandas as pd"
   ]
  },
  {
   "cell_type": "code",
   "execution_count": 5,
   "metadata": {},
   "outputs": [
    {
     "name": "stdout",
     "output_type": "stream",
     "text": [
      "0          A\n",
      "1          b\n",
      "2          C\n",
      "3    bbhello\n",
      "4        123\n",
      "5        NaN\n",
      "6         hj\n",
      "dtype: object\n",
      "  key1  key2\n",
      "0    a   hee\n",
      "1    b    fv\n",
      "2    c     w\n",
      "3    d  hija\n",
      "4    e   123\n",
      "5    f   NaN\n",
      "----\n",
      "0    0.0\n",
      "1    1.0\n",
      "2    0.0\n",
      "3    2.0\n",
      "4    0.0\n",
      "5    NaN\n",
      "6    0.0\n",
      "dtype: float64\n",
      "0     HEE\n",
      "1      FV\n",
      "2       W\n",
      "3    HIJA\n",
      "4     123\n",
      "5     NaN\n",
      "Name: key2, dtype: object\n",
      "----\n",
      "  KEY1  KEY2\n",
      "0    a   hee\n",
      "1    b    fv\n",
      "2    c     w\n",
      "3    d  hija\n",
      "4    e   123\n",
      "5    f   NaN\n"
     ]
    }
   ],
   "source": [
    "# 通过str访问，且自动排除丢失/ NA值\n",
    "s = pd.Series(['A','b','C','bbhello','123',np.nan,'hj'])\n",
    "df = pd.DataFrame({'key1':list('abcdef'),\n",
    "                  'key2':['hee','fv','w','hija','123',np.nan]})\n",
    "print(s)\n",
    "print(df)\n",
    "print('----')\n",
    "\n",
    "print(s.str.count('b'))             # 直接通过.str调用字符串方法\n",
    "print(df['key2'].str.upper())       # 可以对Series、Dataframe使用\n",
    "print('----')                       # 自动过滤NaN值\n",
    "\n",
    "df.columns = df.columns.str.upper() # df.columns是一个Index对象，也可使用.str\n",
    "print(df)"
   ]
  },
  {
   "cell_type": "code",
   "execution_count": 6,
   "metadata": {},
   "outputs": [
    {
     "name": "stdout",
     "output_type": "stream",
     "text": [
      "0          a\n",
      "1          b\n",
      "2    bbhello\n",
      "3        123\n",
      "4        NaN\n",
      "dtype: object\n",
      "0          A\n",
      "1          B\n",
      "2    BBHELLO\n",
      "3        123\n",
      "4        NaN\n",
      "dtype: object\n",
      "0    1.0\n",
      "1    1.0\n",
      "2    7.0\n",
      "3    3.0\n",
      "4    NaN\n",
      "dtype: float64\n",
      "0    False\n",
      "1     True\n",
      "2     True\n",
      "3    False\n",
      "4      NaN\n",
      "dtype: object\n",
      "0    False\n",
      "1    False\n",
      "2     True\n",
      "3    False\n",
      "4      NaN\n",
      "dtype: object\n"
     ]
    }
   ],
   "source": [
    "# 字符串常用方法（1） - lower，upper，len，startswith，endswith\n",
    "\n",
    "s = pd.Series(['A','b','bbhello','123',np.nan])\n",
    "print(s.str.lower())               # lower转换为小写\n",
    "print(s.str.upper())               # upper转换为大写\n",
    "print(s.str.len())                 # len字符串长度\n",
    "print(s.str.startswith('b'))       # startswith以什么字符开头\n",
    "print(s.str.endswith('o'))         # endswith以什么字符结尾"
   ]
  },
  {
   "cell_type": "code",
   "execution_count": 13,
   "metadata": {},
   "outputs": [
    {
     "name": "stdout",
     "output_type": "stream",
     "text": [
      "0       jack\n",
      "1      jill \n",
      "2     jesse \n",
      "3      frank\n",
      "dtype: object\n",
      "          A         B\n",
      "0  1.575868  0.669396\n",
      "1 -0.717907 -1.004592\n",
      "2  0.863447 -0.221090\n",
      "----\n",
      "0     jack\n",
      "1     jill\n",
      "2    jesse\n",
      "3    frank\n",
      "dtype: object\n",
      "0      jack\n",
      "1     jill \n",
      "2    jesse \n",
      "3     frank\n",
      "dtype: object\n",
      "0      jack\n",
      "1      jill\n",
      "2     jesse\n",
      "3     frank\n",
      "dtype: object\n",
      "Index(['A', 'B'], dtype='object')\n"
     ]
    }
   ],
   "source": [
    "# 字符串常用方法（2） - strip\n",
    "s = pd.Series([' jack', 'jill ', ' jesse ', 'frank'])\n",
    "df = pd.DataFrame(np.random.randn(3,2),\n",
    "                  columns=['A','B'],\n",
    "                  index=range(3))\n",
    "print(s)\n",
    "print(df)\n",
    "print('----')\n",
    "\n",
    "print(s.str.strip())           # 去除字符串中的空格\n",
    "print(s.str.lstrip())          # 去除字符串中的左空格\n",
    "print(s.str.rstrip())          # 去除字符串中的右空格\n",
    "\n",
    "df = df.columns.str.strip()    # 这里去掉了columns的前后空格，但没有去掉中间空格\n",
    "print(df)"
   ]
  },
  {
   "cell_type": "code",
   "execution_count": 17,
   "metadata": {},
   "outputs": [
    {
     "name": "stdout",
     "output_type": "stream",
     "text": [
      "   Column-A  Column-B\n",
      "0  0.841521 -0.320560\n",
      "1 -0.819692 -0.510415\n",
      "2 -0.564480  0.577225\n",
      "   ColumnheA  ColumnheB\n",
      "0   0.841521  -0.320560\n",
      "1  -0.819692  -0.510415\n",
      "2  -0.564480   0.577225\n"
     ]
    }
   ],
   "source": [
    "# 字符串常用方法（3） - replace\n",
    "\n",
    "df = pd.DataFrame(np.random.randn(3,2),columns=['Column A','Column B'],\n",
    "                  index=range(3))\n",
    "df.columns = df.columns.str.replace(' ','-')         # 替换\n",
    "print(df)\n",
    "\n",
    "df.columns = df.columns.str.replace('-','he',n=1)    # n：替换个数\n",
    "print(df)"
   ]
  },
  {
   "cell_type": "code",
   "execution_count": 24,
   "metadata": {},
   "outputs": [
    {
     "name": "stdout",
     "output_type": "stream",
     "text": [
      "0    [a, b, c]\n",
      "1    [1, 2, 3]\n",
      "2          NaN\n",
      "3          NaN\n",
      "dtype: object\n",
      "----\n",
      "['a', 'b', 'c']\n",
      "----\n",
      "0      a\n",
      "1      1\n",
      "2    NaN\n",
      "3    NaN\n",
      "dtype: object\n",
      "0      b\n",
      "1      2\n",
      "2    NaN\n",
      "3    NaN\n",
      "dtype: object\n",
      "----\n",
      "     0    1    2\n",
      "0    a    b    c\n",
      "1    1    2    3\n",
      "2  NaN  NaN  NaN\n",
      "3  NaN  NaN  NaN\n",
      "     0    1\n",
      "0    a  b,c\n",
      "1    1  2,3\n",
      "2  NaN  NaN\n",
      "3  NaN  NaN\n",
      "     0    1\n",
      "0  a,b    c\n",
      "1  1,2    3\n",
      "2  NaN  NaN\n",
      "3  NaN  NaN\n",
      "----\n",
      "0    [a, b, c]\n",
      "1    [1, 2, 3]\n",
      "2          NaN\n",
      "Name: key2, dtype: object\n"
     ]
    }
   ],
   "source": [
    "# 字符串常用方法（4） - split、rsplit\n",
    "\n",
    "s = pd.Series(['a,b,c','1,2,3',['a,,,c'],np.nan])\n",
    "print(s.str.split(','))                 # 类似字符串的split\n",
    "print('----')\n",
    "\n",
    "print(s.str.split(',')[0])              # 直接索引得到一个list\n",
    "print('----')\n",
    "\n",
    "print(s.str.split(',').str[0])          # 可以使用get或[]符号访问拆分列表中的元素\n",
    "print(s.str.split(',').str.get(1))\n",
    "print('----')\n",
    "\n",
    "print(s.str.split(',',expand=True))     # 可以使用expand可以轻松扩展此操作以返回DataFrame\n",
    "print(s.str.split(',',expand=True,n=1)) # n参数限制分割数\n",
    "print(s.str.rsplit(',',expand=True,n=1))# rsplit类似于split，反向工作，即从字符串的末尾到字符串的开头\n",
    "print('----')\n",
    "\n",
    "df = pd.DataFrame({'key1':['a,b,c','1,2,3',[':,., ']],\n",
    "                  'key2':['a-b-c','1-2-3',[':-.- ']]})\n",
    "print(df['key2'].str.split('-'))        # Dataframe使用split"
   ]
  },
  {
   "cell_type": "code",
   "execution_count": 29,
   "metadata": {},
   "outputs": [
    {
     "name": "stdout",
     "output_type": "stream",
     "text": [
      "0      A\n",
      "1      b\n",
      "2      C\n",
      "3      b\n",
      "4      1\n",
      "5    NaN\n",
      "6      h\n",
      "dtype: object\n",
      "0      A\n",
      "1      b\n",
      "2      C\n",
      "3     bb\n",
      "4     12\n",
      "5    NaN\n",
      "6     hj\n",
      "dtype: object\n",
      "0      h\n",
      "1      f\n",
      "2      w\n",
      "3      h\n",
      "4      1\n",
      "5    NaN\n",
      "Name: key2, dtype: object\n"
     ]
    }
   ],
   "source": [
    "# 字符串索引\n",
    "\n",
    "s = pd.Series(['A','b','C','bbhello','123',np.nan,'hj'])\n",
    "df = pd.DataFrame({'key1':list('abcdef'),\n",
    "                  'key2':['hee','fv','w','hija','123',np.nan]})\n",
    "\n",
    "print(s.str[0])           # 每行取第一个字符串\n",
    "print(s.str[:2])          # 取前两个字符串\n",
    "print(df['key2'].str[0])  # str之后和字符串本身索引方式相同"
   ]
  },
  {
   "cell_type": "markdown",
   "metadata": {},
   "source": [
    "作业1：如图创建一个Dataframe，并分别通过字符串常用方法得到3个Series或得到新的Dataframe：\n",
    "① name字段首字母全部大写\n",
    "② gender字段去除所有空格\n",
    "③ score字段按照-拆分，分别是math，english，art三个学分\n"
   ]
  },
  {
   "cell_type": "code",
   "execution_count": 47,
   "metadata": {},
   "outputs": [
    {
     "name": "stdout",
     "output_type": "stream",
     "text": [
      "  gender    name     score\n",
      "0      M    jack  90-92-89\n",
      "1      M     tom  89-78-88\n",
      "2      F   marry  90-92-95\n",
      "3      M    zack  78-88-76\n",
      "4      F  heheda  60-60-67\n",
      "修改后的df\n",
      "   gender    name math english art\n",
      "0      M    Jack   90      92  89\n",
      "1      M     Tom   89      78  88\n",
      "2      F   Marry   90      92  95\n",
      "3      M    Zack   78      88  76\n",
      "4      F  Heheda   60      60  67\n"
     ]
    }
   ],
   "source": [
    "df = pd.DataFrame({'gender':list('MMFMF'),\n",
    "                   'name':['jack','tom','marry','zack','heheda'],\n",
    "                   'score':['90-92-89','89-78-88','90-92-95','78-88-76','60-60-67']})\n",
    "print(df)\n",
    "\n",
    "df['name'] = df['name'].str.capitalize()                     # name字段首字母全部大写\n",
    "df['gender']=df['gender'].str.strip()                        # gender字段去除所有空格\n",
    "df['math'] = df['score'].str.split('-',expand=True)[0]       # 拆分score字段,同时转换为dataframe\n",
    "df['english'] = df['score'].str.split('-',expand=True)[1]\n",
    "df['art'] = df['score'].str.split('-',expand=True)[2]\n",
    "del df['score']                                              # 删除旧的字段\n",
    "print('修改后的df\\n',df)"
   ]
  },
  {
   "cell_type": "code",
   "execution_count": null,
   "metadata": {},
   "outputs": [],
   "source": []
  }
 ],
 "metadata": {
  "kernelspec": {
   "display_name": "Python 3",
   "language": "python",
   "name": "python3"
  },
  "language_info": {
   "codemirror_mode": {
    "name": "ipython",
    "version": 3
   },
   "file_extension": ".py",
   "mimetype": "text/x-python",
   "name": "python",
   "nbconvert_exporter": "python",
   "pygments_lexer": "ipython3",
   "version": "3.6.5"
  }
 },
 "nbformat": 4,
 "nbformat_minor": 2
}
