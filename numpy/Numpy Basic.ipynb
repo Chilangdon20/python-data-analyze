{
 "cells": [
  {
   "cell_type": "code",
   "execution_count": 1,
   "metadata": {},
   "outputs": [],
   "source": [
    "'''\n",
    "【课程1.2】  Numpy基础数据结构\n",
    "\n",
    "NumPy数组是一个多维数组对象，称为ndarray。其由两部分组成：\n",
    "① 实际的数据\n",
    "② 描述这些数据的元数据\n",
    "\n",
    "'''"
   ]
  },
  {
   "cell_type": "code",
   "execution_count": 9,
   "metadata": {},
   "outputs": [
    {
     "name": "stdout",
     "output_type": "stream",
     "text": [
      "[1 2 3 4 5 6 7 8 9]\n",
      "1\n",
      "(9,)\n",
      "9\n",
      "int32\n",
      "4\n",
      "<memory at 0x000001A6D5B12E88>\n"
     ]
    },
    {
     "data": {
      "text/plain": [
       "array([1, 2, 3, 4, 5, 6, 7, 8, 9])"
      ]
     },
     "execution_count": 9,
     "metadata": {},
     "output_type": "execute_result"
    }
   ],
   "source": [
    "import numpy as np\n",
    "\n",
    "# 多维数组ndarray\n",
    "\n",
    "ar = np.array([1,2,3,4,5,6,7,8,9])\n",
    "print(ar)               # 输出数组，注意数组的格式：中括号，元素之间没有逗号（和列表区分）\n",
    "print(ar.ndim)          # 输出数组维度的个数（轴数），或者说“秩”，维度的数量也称rank\n",
    "print(ar.shape)         # 输出数组的维度,对于n行m列的数组,shape为(n,m)\n",
    "print(ar.size)          # 数组的元素总数，对于n行m列的数组，元素总数为n*m\n",
    "print(ar.dtype)         # 数组中元素的类型，类似type()（注意了，type()是函数，.dtype是方法）\n",
    "print(ar.itemsize)      # 数组中每个元素的字节大小，int32类型字节为4，float64的字节为8\n",
    "print(ar.data)          # 包含实际数组元素的缓冲区，由于一般通过数组的索引获取元素，所以通常不需要使用这个属性。\n",
    "ar                      # 交互方式下输出，会有array(数组)\n",
    "\n",
    "'''\n",
    " 数组的基本属性\n",
    " ① 数组的维数称为秩（rank），一维数组的秩为1，二维数组的秩为2，以此类推\n",
    " ② 在NumPy中，每一个线性的数组称为是一个轴（axes），秩其实是描述轴的数量：\n",
    " 比如说，二维数组相当于是两个一维数组，其中第一个一维数组中每个元素又是一个一维数组\n",
    " 所以一维数组就是NumPy中的轴（axes），第一个轴相当于是底层数组，第二个轴是底层数组里的数组。\n",
    " 而轴的数量——秩，就是数组的维数。 \n",
    "\n",
    "'''"
   ]
  },
  {
   "cell_type": "code",
   "execution_count": 10,
   "metadata": {},
   "outputs": [
    {
     "name": "stdout",
     "output_type": "stream",
     "text": [
      "[0 1 2 3 4 5 6 7 8 9] <class 'numpy.ndarray'> int32\n",
      "[1.   2.   3.14 5.   6.  ] <class 'numpy.ndarray'> float64\n",
      "[['1' '2' '3']\n",
      " ['a' 'b' 'c']] (2, 3) 2 6\n",
      "[list([1, 2, 3]) list(['a', 'b', 'c', 'd'])] (2,) 1 2\n"
     ]
    }
   ],
   "source": [
    "# 创建数组：array()函数，括号内可以是列表、元祖、数组、生成器等\n",
    "\n",
    "ar1 = np.array(range(10))                   # 整型\n",
    "ar2 = np.array([1,2,3.14,5,6])              # 浮点型\n",
    "ar3 = np.array([[1,2,3],['a','b','c']])     # 二维数组\n",
    "ar4 = np.array([[1,2,3],['a','b','c','d']]) # 如果数据不对称,矩阵的秩会改变\n",
    "\n",
    "print(ar1,type(ar1),ar1.dtype)\n",
    "print(ar2,type(ar2),ar2.dtype)\n",
    "print(ar3,ar3.shape,ar3.ndim,ar3.size)      # 二维数组,一共6个元素\n",
    "print(ar4,ar4.shape,ar4.ndim,ar4.size)      # 一维数组,一共2个元素"
   ]
  },
  {
   "cell_type": "code",
   "execution_count": 11,
   "metadata": {},
   "outputs": [
    {
     "name": "stdout",
     "output_type": "stream",
     "text": [
      "[0 1 2 3 4 5 6 7 8 9]\n",
      "[0. 1. 2. 3. 4. 5. 6. 7. 8. 9.]\n",
      "[ 5  6  7  8  9 10 11 12]\n",
      "[ 5.  7.  9. 11.]\n",
      "[    0     1     2 ... 99997 99998 99999]\n"
     ]
    }
   ],
   "source": [
    "# 创建数组：arange()，类似range()，在给定间隔内返回均匀间隔的值。\n",
    "\n",
    "print(np.arange(10))               # 返回0-9,整型\n",
    "print(np.arange(10.0))             # 返回0-9,浮点型\n",
    "print(np.arange(5,13))             # 返回5-12,整型\n",
    "print(np.arange(5.0,13.0,2))       # 返回5-12,浮点型,步长为2\n",
    "print(np.arange(100000))           # 如果数组太大而无法打印，NumPy会自动跳过数组的中心部分，并只打印边角："
   ]
  },
  {
   "cell_type": "code",
   "execution_count": 16,
   "metadata": {},
   "outputs": [
    {
     "name": "stdout",
     "output_type": "stream",
     "text": [
      "[ 1.  2.  3.  4.  5.  6.  7.  8.  9. 10.] <class 'numpy.ndarray'>\n",
      "[1.  1.9 2.8 3.7 4.6 5.5 6.4 7.3 8.2 9.1] <class 'numpy.ndarray'>\n",
      "(array([ 1.,  2.,  3.,  4.,  5.,  6.,  7.,  8.,  9., 10.]), 1.0) <class 'tuple'>\n"
     ]
    }
   ],
   "source": [
    "# 创建数组：linspace():返回在间隔[开始，停止]上计算的num个均匀间隔的样本。\n",
    "\n",
    "ar1 = np.linspace(1,10,num=10)\n",
    "ar2 = np.linspace(1,10,num=10,endpoint=False)   # endpoint去掉最后一个值\n",
    "ar3 = np.linspace(1,10,num=10,retstep=True)     # retstep返回步长\n",
    "print(ar1,type(ar1))\n",
    "print(ar2,type(ar2))\n",
    "print(ar3,type(ar3))\n",
    "\n",
    "'''\n",
    " numpy.linspace(start, stop, num=50, endpoint=True, retstep=False, dtype=None)\n",
    " start：起始值，stop：结束值\n",
    " num：生成样本数，默认为50\n",
    " endpoint：如果为真，则停止是最后一个样本。否则，不包括在内。默认值为True。\n",
    " retstep：如果为真，返回（样本，步骤），其中步长是样本之间的间距 → 输出为一个包含2个元素的元祖，第一个元素为array，第二个为步长实际值\n",
    "\n",
    "'''"
   ]
  },
  {
   "cell_type": "code",
   "execution_count": 19,
   "metadata": {},
   "outputs": [
    {
     "name": "stdout",
     "output_type": "stream",
     "text": [
      "[0. 0. 0. 0. 0.] float64\n",
      "[[0 0]\n",
      " [0 0]] int32\n",
      "[[0 1 2 3 4]\n",
      " [5 6 7 8 9]] int32\n",
      "[[0 0 0 0 0]\n",
      " [0 0 0 0 0]] int32\n",
      "[1. 1. 1. 1. 1. 1. 1. 1. 1.] float64\n",
      "[[[1. 1. 1. 1.]\n",
      "  [1. 1. 1. 1.]\n",
      "  [1. 1. 1. 1.]]\n",
      "\n",
      " [[1. 1. 1. 1.]\n",
      "  [1. 1. 1. 1.]\n",
      "  [1. 1. 1. 1.]]] float64\n",
      "[[1 1 1 1 1]\n",
      " [1 1 1 1 1]] int32\n"
     ]
    }
   ],
   "source": [
    "# 创建数组：zeros()/zeros_like()/ones()/ones_like()\n",
    "\n",
    "ar1 = np.zeros(5)                         # 返回全是0的数组\n",
    "ar2 = np.zeros((2,2),dtype=np.int)        # 可以指定数组形状和元素的数据类型\n",
    "print(ar1,ar1.dtype)\n",
    "print(ar2,ar2.dtype)\n",
    "'''\n",
    " numpy.zeros(shape, dtype=float, order='C'):返回给定形状和类型的新数组，用零填充。\n",
    " shape：数组纬度，二维以上需要用()，且输入参数为整数\n",
    " dtype：数据类型，默认numpy.float64\n",
    " order：是否在存储器中以C或Fortran连续（按行或列方式）存储多维数据。\n",
    "'''\n",
    "\n",
    "ar3 = np.array([list(range(5)),list(range(5,10))])\n",
    "ar4 = np.zeros_like(ar3)                   # 返回具有与给定数组相同的形状和类型的零数组，这里ar4根据ar3的形状和dtype创建一个全0的数组\n",
    "print(ar3,ar3.dtype)\n",
    "print(ar4,ar4.dtype)\n",
    "\n",
    "ar5 = np.ones(9)\n",
    "ar6 = np.ones((2,3,4))\n",
    "ar7 = np.ones_like(ar3)\n",
    "print(ar5,ar5.dtype)\n",
    "print(ar6,ar6.dtype)\n",
    "print(ar7,ar7.dtype)"
   ]
  },
  {
   "cell_type": "code",
   "execution_count": 20,
   "metadata": {},
   "outputs": [
    {
     "name": "stdout",
     "output_type": "stream",
     "text": [
      "[[1. 0. 0. 0. 0.]\n",
      " [0. 1. 0. 0. 0.]\n",
      " [0. 0. 1. 0. 0.]\n",
      " [0. 0. 0. 1. 0.]\n",
      " [0. 0. 0. 0. 1.]]\n"
     ]
    }
   ],
   "source": [
    "# 创建数组：eye()\n",
    "\n",
    "print(np.eye(5)) # 创建一个正方的N*N的单位矩阵，对角线值为1，其余为0"
   ]
  },
  {
   "cell_type": "code",
   "execution_count": null,
   "metadata": {},
   "outputs": [],
   "source": [
    "作业1：分别按照要求，生成一个一维数组、二维数组，并且查看其shape\n",
    "\n",
    "作业2：生成一个一维数组，起始值为5，终点值为15，样本数为10个\n",
    " \n",
    "作业3：按照要求创建以下数组\n",
    " \n"
   ]
  },
  {
   "cell_type": "code",
   "execution_count": 25,
   "metadata": {},
   "outputs": [
    {
     "name": "stdout",
     "output_type": "stream",
     "text": [
      "(6,)\n",
      "(3, 6)\n"
     ]
    }
   ],
   "source": [
    "# 1\n",
    "a1 = np.array([1,2,'a','hello',[1,2,3],{'two':200,'one':100}])\n",
    "print(a1.shape)\n",
    "\n",
    "a2 = np.array([['0','1','2','3','4','5'],\n",
    "               ['a','b','c','d','e','f'],\n",
    "               ['True','False','True','False','True','True']]\n",
    "             )\n",
    "print(a2.shape)"
   ]
  },
  {
   "cell_type": "code",
   "execution_count": 31,
   "metadata": {},
   "outputs": [
    {
     "name": "stdout",
     "output_type": "stream",
     "text": [
      "[ 5.  6.  7.  8.  9. 10. 11. 12. 13. 14.]\n"
     ]
    }
   ],
   "source": [
    "# 2\n",
    "\n",
    "a3 = np.linspace(5,14,num=10)\n",
    "print(a3)"
   ]
  },
  {
   "cell_type": "code",
   "execution_count": 40,
   "metadata": {},
   "outputs": [
    {
     "name": "stdout",
     "output_type": "stream",
     "text": [
      "[[0. 0. 0. 0.]\n",
      " [0. 0. 0. 0.]\n",
      " [0. 0. 0. 0.]\n",
      " [0. 0. 0. 0.]]\n",
      "[[1. 1. 1.]\n",
      " [1. 1. 1.]]\n",
      "[[1 0 0]\n",
      " [0 1 0]\n",
      " [0 0 1]]\n"
     ]
    }
   ],
   "source": [
    "# 3\n",
    "a4 = np.zeros((4,4),dtype=np.float)\n",
    "print(a4)\n",
    "\n",
    "a5 = np.ones((2,3),dtype=np.float)\n",
    "print(a5)\n",
    "\n",
    "a6 = np.eye(3,dtype=np.int)\n",
    "print(a6)"
   ]
  },
  {
   "cell_type": "code",
   "execution_count": null,
   "metadata": {},
   "outputs": [],
   "source": []
  }
 ],
 "metadata": {
  "kernelspec": {
   "display_name": "Python 3",
   "language": "python",
   "name": "python3"
  },
  "language_info": {
   "codemirror_mode": {
    "name": "ipython",
    "version": 3
   },
   "file_extension": ".py",
   "mimetype": "text/x-python",
   "name": "python",
   "nbconvert_exporter": "python",
   "pygments_lexer": "ipython3",
   "version": "3.6.5"
  }
 },
 "nbformat": 4,
 "nbformat_minor": 2
}
