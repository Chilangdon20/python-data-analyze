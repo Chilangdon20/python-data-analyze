{
 "cells": [
  {
   "cell_type": "code",
   "execution_count": null,
   "metadata": {},
   "outputs": [],
   "source": [
    "'''\n",
    "【课程2.5】  Pandas数据结构Dataframe：基本概念及创建\n",
    "\n",
    "\"二维数组\"Dataframe：是一个表格型的数据结构，包含一组有序的列，其列的值类型可以是数值、字符串、布尔值等。\n",
    "\n",
    "Dataframe中的数据以一个或多个二维块存放，不是列表、字典或一维数组结构。\n",
    "\n",
    "'''"
   ]
  },
  {
   "cell_type": "code",
   "execution_count": 8,
   "metadata": {},
   "outputs": [],
   "source": [
    "import numpy as np\n",
    "import pandas as pd"
   ]
  },
  {
   "cell_type": "code",
   "execution_count": 7,
   "metadata": {},
   "outputs": [
    {
     "name": "stdout",
     "output_type": "stream",
     "text": [
      "    name  age gender\n",
      "0   Jack   23      m\n",
      "1    Tom   24      m\n",
      "2  Alice   25      f\n",
      "<class 'pandas.core.frame.DataFrame'>\n",
      "RangeIndex(start=0, stop=3, step=1) \n",
      "该数据类型是:<class 'pandas.core.indexes.range.RangeIndex'>\n",
      "Index(['name', 'age', 'gender'], dtype='object') \n",
      "该数据类型是:<class 'pandas.core.indexes.base.Index'>\n",
      "[['Jack' 23 'm']\n",
      " ['Tom' 24 'm']\n",
      " ['Alice' 25 'f']] \n",
      "该数据类型是:<class 'numpy.ndarray'>\n"
     ]
    }
   ],
   "source": [
    "# Dataframe 数据结构\n",
    "# Dataframe是一个表格型的数据结构，“带有标签的二维数组”。\n",
    "# Dataframe带有index（行标签）和columns（列标签）\n",
    "\n",
    "data = {'name':['Jack','Tom','Alice'],\n",
    "        'age':[23,24,25],\n",
    "        'gender':['m','m','f']}\n",
    "frame = pd.DataFrame(data)\n",
    "print(frame)\n",
    "print(type(frame))\n",
    "print(frame.index,f'\\n该数据类型是:{type(frame.index)}')\n",
    "print(frame.columns,f'\\n该数据类型是:{type(frame.columns)}')\n",
    "print(frame.values,f'\\n该数据类型是:{type(frame.values)}')\n",
    "\n",
    "'''\n",
    " 查看数据，数据类型为dataframe\n",
    " .index查看行标签\n",
    " .columns查看列标签\n",
    " .values查看值，数据类型为ndarray\n",
    "'''"
   ]
  },
  {
   "cell_type": "code",
   "execution_count": 13,
   "metadata": {},
   "outputs": [
    {
     "name": "stdout",
     "output_type": "stream",
     "text": [
      "{'a': [1, 2, 3], 'b': [3, 4, 5], 'c': [5, 6, 7]}\n",
      "{'one': array([0.15952154, 0.72002228, 0.3421577 ]), 'two': array([0.17376482, 0.59372166, 0.56777493])}\n",
      "   a  b  c\n",
      "0  1  3  5\n",
      "1  2  4  6\n",
      "2  3  5  7\n",
      "        one       two\n",
      "0  0.159522  0.173765\n",
      "1  0.720022  0.593722\n",
      "2  0.342158  0.567775\n",
      "   b  c  a    d\n",
      "0  3  5  1  NaN\n",
      "1  4  6  2  NaN\n",
      "2  5  7  3  NaN\n",
      "   b  c\n",
      "0  3  5\n",
      "1  4  6\n",
      "2  5  7\n",
      "         one       two\n",
      "f1  0.159522  0.173765\n",
      "f2  0.720022  0.593722\n",
      "f3  0.342158  0.567775\n"
     ]
    }
   ],
   "source": [
    "# Dataframe 创建方法一：由数组/list组成的字典\n",
    "# 创建方法:pandas.Dataframe()\n",
    "\n",
    "data1 = {\n",
    "    'a':[1,2,3],\n",
    "    'b':[3,4,5],\n",
    "    'c':[5,6,7]\n",
    "}\n",
    "data2 = {'one':np.random.rand(3),\n",
    "         'two':np.random.rand(3)}\n",
    "print(data1)\n",
    "print(data2)\n",
    "\n",
    "df1 = pd.DataFrame(data1)             # 由数组/list组成的字典 创建Dataframe，columns为字典key，index为默认数字标签\n",
    "df2 = pd.DataFrame(data2)             # 字典的值的长度必须保持一致\n",
    "\n",
    "print(df1)\n",
    "print(df2)\n",
    "\n",
    "df1 = pd.DataFrame(data1,columns=['b','c','a','d']) # columns参数：可以重新指定列的顺序，格式为list，如果现有数据中没有该列（比如'd'），则产生NaN值\n",
    "print(df1)\n",
    "df2 = pd.DataFrame(data1,columns=['b','c'])         # 如果columns重新指定时候，列的数量可以少于原数据\n",
    "print(df2)\n",
    "\n",
    "df2 = pd.DataFrame(data2,index=['f1','f2','f3'])    # index参数：重新定义index，格式为list，长度必须保持一致\n",
    "print(df2)"
   ]
  },
  {
   "cell_type": "code",
   "execution_count": 14,
   "metadata": {},
   "outputs": [
    {
     "name": "stdout",
     "output_type": "stream",
     "text": [
      "{'one': 0    0.441779\n",
      "1    0.292909\n",
      "dtype: float64, 'two': 0    0.577493\n",
      "1    0.589455\n",
      "2    0.062039\n",
      "dtype: float64}\n",
      "{'one': a    0.412221\n",
      "b    0.158195\n",
      "dtype: float64, 'two': a    0.011613\n",
      "b    0.438659\n",
      "c    0.513564\n",
      "dtype: float64}\n",
      "        one       two\n",
      "0  0.441779  0.577493\n",
      "1  0.292909  0.589455\n",
      "2       NaN  0.062039\n",
      "        one       two\n",
      "a  0.412221  0.011613\n",
      "b  0.158195  0.438659\n",
      "c       NaN  0.513564\n"
     ]
    }
   ],
   "source": [
    "# Dataframe 创建方法二：由Series组成的字典\n",
    "\n",
    "data1 = {'one':pd.Series(np.random.rand(2)),                                      # 没有设置index的Series\n",
    "         'two':pd.Series(np.random.rand(3))}\n",
    "\n",
    "data2 = {'one':pd.Series(np.random.rand(2),index=['a','b']),                      # 设置index的Series\n",
    "         'two':pd.Series(np.random.rand(3),index=['a','b','c'])}\n",
    "\n",
    "print(data1)\n",
    "print(data2)\n",
    "\n",
    "df1 = pd.DataFrame(data1)  # 由Seris组成的字典 创建Dataframe，columns为字典key，index为Series的标签（如果Series没有指定标签，则是默认数字标签）           \n",
    "df2 = pd.DataFrame(data2)  # Series可以长度不一样，生成的Dataframe会出现NaN值\n",
    "\n",
    "print(df1)\n",
    "print(df2)\n",
    "\n"
   ]
  },
  {
   "cell_type": "code",
   "execution_count": 19,
   "metadata": {},
   "outputs": [
    {
     "name": "stdout",
     "output_type": "stream",
     "text": [
      "[[0.0534642  0.27963767 0.84071368]\n",
      " [0.36385315 0.58337928 0.33826202]\n",
      " [0.3417927  0.15710704 0.37571708]]\n",
      "          0         1         2\n",
      "0  0.053464  0.279638  0.840714\n",
      "1  0.363853  0.583379  0.338262\n",
      "2  0.341793  0.157107  0.375717\n",
      "        one       two     three\n",
      "a  0.053464  0.279638  0.840714\n",
      "b  0.363853  0.583379  0.338262\n",
      "c  0.341793  0.157107  0.375717\n"
     ]
    }
   ],
   "source": [
    "# Dataframe 创建方法三：通过二维数组直接创建\n",
    "\n",
    "ar = np.random.rand(9).reshape(3,3)\n",
    "print(ar)\n",
    "df1 = pd.DataFrame(ar)                                                    # 通过二维数组直接创建Dataframe，得到一样形状的结果数据，如果不指定index和columns，两者均返回默认数字格式\n",
    "df2 = pd.DataFrame(ar,index=['a','b','c'],columns=['one','two','three'])  # index和colunms指定长度与原数组保持一致\n",
    "print(df1)                      \n",
    "print(df2)"
   ]
  },
  {
   "cell_type": "code",
   "execution_count": 21,
   "metadata": {},
   "outputs": [
    {
     "name": "stdout",
     "output_type": "stream",
     "text": [
      "[{'one': 1, 'two': 2}, {'one': 5, 'two': 10, 'three': 20}]\n",
      "   one  three  two\n",
      "0    1    NaN    2\n",
      "1    5   20.0   10\n",
      "   one  three  two\n",
      "a    1    NaN    2\n",
      "b    5   20.0   10\n",
      "   one  two\n",
      "0    1    2\n",
      "1    5   10\n"
     ]
    }
   ],
   "source": [
    "# Dataframe 创建方法四：由字典组成的列表\n",
    "\n",
    "data = [{'one':1,'two':2},\n",
    "        {'one':5,'two':10,'three':20}]\n",
    "print(data)\n",
    "df1 = pd.DataFrame(data)\n",
    "df2 = pd.DataFrame(data,index=['a','b'])           \n",
    "df3 = pd.DataFrame(data,columns=['one','two'])     # 由字典组成的列表创建Dataframe，columns为字典的key，index不做指定则为默认数组标签\n",
    "print(df1)                                         # colunms和index参数分别重新指定相应列及行标签\n",
    "print(df2)\n",
    "print(df3)"
   ]
  },
  {
   "cell_type": "code",
   "execution_count": 29,
   "metadata": {},
   "outputs": [
    {
     "name": "stdout",
     "output_type": "stream",
     "text": [
      "         Jack  Marry   Tom\n",
      "art        78     92   NaN\n",
      "english    89     95  67.0\n",
      "math       90     82  78.0\n",
      "         Jack   Tom  Bob\n",
      "art        78   NaN  NaN\n",
      "english    89  67.0  NaN\n",
      "math       90  78.0  NaN\n"
     ]
    }
   ],
   "source": [
    "# Dataframe 创建方法五：由字典组成的字典\n",
    "\n",
    "data = {'Jack':{'math':90,'english':89,'art':78},\n",
    "       'Marry':{'math':82,'english':95,'art':92},\n",
    "       'Tom':{'math':78,'english':67}}\n",
    "df1 = pd.DataFrame(data)                               # 由字典组成的字典创建Dataframe，columns为字典的key，index为子字典的key\n",
    "print(df1)\n",
    "\n",
    "df2 = pd.DataFrame(data,columns=['Jack','Tom','Bob'])  # columns参数可以增加和减少现有列，如出现新的列，值为NaN\n",
    "\n",
    "print(df2)                                             # index在这里和之前不同，并不能改变原有index，如果指向新的标签，值为NaN\n"
   ]
  },
  {
   "cell_type": "markdown",
   "metadata": {},
   "source": [
    "作业1：用四种不同的方法，创建以下Dataframe（保证columns和index一致，值不做要求）"
   ]
  },
  {
   "cell_type": "code",
   "execution_count": 38,
   "metadata": {},
   "outputs": [
    {
     "name": "stdout",
     "output_type": "stream",
     "text": [
      "   four  one  three  two\n",
      "a     4    1      3    2\n",
      "b     5    2      4    3\n",
      "c     6    3      5    4\n",
      "d     7    4      6    5\n",
      "e     8    5      7    6\n",
      "   one  two  three  four\n",
      "a    1    2      3     4\n",
      "b    2    3      4     5\n",
      "c    3    4      5     6\n",
      "d    4    5      6     7\n",
      "e    5    6      7     8\n",
      "   one  two  three  four\n",
      "a    0    1      2     3\n",
      "b    4    5      6     7\n",
      "c    8    9     10    11\n",
      "d   12   13     14    15\n",
      "e   16   17     18    19\n",
      "   four  one  three  two\n",
      "a     4    1      3    2\n",
      "b     5    2      4    3\n",
      "c     6    3      5    4\n",
      "d     7    4      6    5\n",
      "e     8    5      7    6\n"
     ]
    }
   ],
   "source": [
    "df1 = pd.DataFrame(\n",
    "    {'four':[4,5,6,7,8],\n",
    "     'one':[1,2,3,4,5],\n",
    "     'three':[3,4,5,6,7],\n",
    "     'two':[2,3,4,5,6]},\n",
    "    index=['a','b','c','d','e']\n",
    ")\n",
    "df2 = pd.DataFrame(\n",
    "    {\n",
    "        'one':pd.Series([1,2,3,4,5],index=list('abcde')),\n",
    "        'two':pd.Series([2,3,4,5,6],index=list('abcde')),\n",
    "        'three':pd.Series([3,4,5,6,7],index=list('abcde')),\n",
    "        'four':pd.Series([4,5,6,7,8],index=list('abcde')),\n",
    "    }\n",
    ")\n",
    "\n",
    "df3 = pd.DataFrame(np.arange(20).reshape(5,4),index=list('abcde'),columns=['one','two','three','four'])\n",
    "\n",
    "df4 = pd.DataFrame([\n",
    "    {'one':1,'two':2,'three':3,'four':4},\n",
    "    {'one':2,'two':3,'three':4,'four':5},\n",
    "    {'one':3,'two':4,'three':5,'four':6},\n",
    "    {'one':4,'two':5,'three':6,'four':7},\n",
    "    {'one':5,'two':6,'three':7,'four':8},\n",
    "],index=list('abcde'))\n",
    "\n",
    "print(df1)\n",
    "print(df2)\n",
    "print(df3)\n",
    "print(df4)"
   ]
  },
  {
   "cell_type": "code",
   "execution_count": null,
   "metadata": {},
   "outputs": [],
   "source": []
  }
 ],
 "metadata": {
  "kernelspec": {
   "display_name": "Python 3",
   "language": "python",
   "name": "python3"
  },
  "language_info": {
   "codemirror_mode": {
    "name": "ipython",
    "version": 3
   },
   "file_extension": ".py",
   "mimetype": "text/x-python",
   "name": "python",
   "nbconvert_exporter": "python",
   "pygments_lexer": "ipython3",
   "version": "3.6.5"
  }
 },
 "nbformat": 4,
 "nbformat_minor": 2
}
