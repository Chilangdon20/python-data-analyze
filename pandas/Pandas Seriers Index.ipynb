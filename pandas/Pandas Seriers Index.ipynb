{
 "cells": [
  {
   "cell_type": "code",
   "execution_count": 2,
   "metadata": {},
   "outputs": [
    {
     "data": {
      "text/plain": [
       "'\\n【课程2.3】  Pandas数据结构Series：索引\\n\\n位置下标 / 标签索引 / 切片索引 / 布尔型索引\\n\\n'"
      ]
     },
     "execution_count": 2,
     "metadata": {},
     "output_type": "execute_result"
    }
   ],
   "source": [
    "'''\n",
    "【课程2.3】  Pandas数据结构Series：索引\n",
    "\n",
    "位置下标 / 标签索引 / 切片索引 / 布尔型索引\n",
    "\n",
    "'''"
   ]
  },
  {
   "cell_type": "code",
   "execution_count": 4,
   "metadata": {},
   "outputs": [],
   "source": [
    "import numpy as np\n",
    "import pandas as pd\n"
   ]
  },
  {
   "cell_type": "code",
   "execution_count": 13,
   "metadata": {},
   "outputs": [
    {
     "name": "stdout",
     "output_type": "stream",
     "text": [
      "0    0.820680\n",
      "1    0.640183\n",
      "2    0.438699\n",
      "3    0.293938\n",
      "4    0.612744\n",
      "dtype: float64\n",
      "0.8206801792934936 <class 'numpy.float64'> float64\n",
      "0.8206801792934936 <class 'float'>\n"
     ]
    },
    {
     "data": {
      "text/plain": [
       "'\\n print(s[-1]) 会报错,因为不同于python中的list\\n 位置下标从0开始\\n 输出结果为numpy.float格式，\\n 可以通过float()函数转换为python float格式\\n numpy.float与float占用字节不同\\n\\n'"
      ]
     },
     "execution_count": 13,
     "metadata": {},
     "output_type": "execute_result"
    }
   ],
   "source": [
    "# 位置下标，类似序列\n",
    "\n",
    "s = pd.Series(np.random.rand(5))\n",
    "print(s)\n",
    "print(s[0],type(s[0]),s[0].dtype)\n",
    "print(float(s[0]),type(float(s[0])))\n",
    "\n",
    "'''\n",
    " print(s[-1]) 会报错,因为不同于python中的list\n",
    " 位置下标从0开始\n",
    " 输出结果为numpy.float格式，\n",
    " 可以通过float()函数转换为python float格式\n",
    " numpy.float与float占用字节不同\n",
    "\n",
    "'''"
   ]
  },
  {
   "cell_type": "code",
   "execution_count": 8,
   "metadata": {},
   "outputs": [
    {
     "name": "stdout",
     "output_type": "stream",
     "text": [
      "a    0.437152\n",
      "b    0.228123\n",
      "c    0.045170\n",
      "d    0.568531\n",
      "e    0.934629\n",
      "dtype: float64\n",
      "0.43715188723520826 <class 'numpy.float64'> float64\n",
      "a    0.437152\n",
      "b    0.228123\n",
      "c    0.045170\n",
      "dtype: float64 <class 'pandas.core.series.Series'>\n"
     ]
    }
   ],
   "source": [
    "# 标签索引\n",
    "\n",
    "s = pd.Series(np.random.rand(5),index=['a','b','c','d','e'])        # 方法类似下标索引，用[]表示，内写上index，注意index是字符串\n",
    "print(s)\n",
    "print(s['a'],type(s['a']),s['a'].dtype)\n",
    "\n",
    "sci = s[['a','b','c']]                                              # 如果需要选择多个标签的值，用[[]]来表示（相当于[]中包含一个列表）\n",
    "\n",
    "print(sci,type(sci))                                                # 多标签索引结果是新的数组"
   ]
  },
  {
   "cell_type": "code",
   "execution_count": 11,
   "metadata": {},
   "outputs": [
    {
     "name": "stdout",
     "output_type": "stream",
     "text": [
      "a    0.844234\n",
      "b    0.577290\n",
      "c    0.636882\n",
      "d    0.299576\n",
      "dtype: float64\n",
      "a    0.844234\n",
      "c    0.636882\n",
      "e    0.299495\n",
      "dtype: float64\n"
     ]
    }
   ],
   "source": [
    "# 切片索引\n",
    "\n",
    "s1 = pd.Series(np.random.rand(5))\n",
    "s2 = pd.Series(np.random.rand(5),index=['a','b','c','d','e'])\n",
    "\n",
    "print(s1[1:4],s1[4])\n",
    "print(s2['a':'c'],s2['c'])\n",
    "print(s2[0:3],s2[3])               # 用index做切片是末端包含\n",
    "\n",
    "print(s2[:-1])                     # 下标索引做切片，和list写法一样\n",
    "print(s2[::2])"
   ]
  },
  {
   "cell_type": "code",
   "execution_count": 15,
   "metadata": {},
   "outputs": [
    {
     "name": "stdout",
     "output_type": "stream",
     "text": [
      "0    11.8899\n",
      "1    40.2585\n",
      "2    65.5044\n",
      "3       None\n",
      "dtype: object\n",
      "0    False\n",
      "1    False\n",
      "2     True\n",
      "3    False\n",
      "dtype: bool <class 'pandas.core.series.Series'> bool\n",
      "0    False\n",
      "1    False\n",
      "2    False\n",
      "3     True\n",
      "dtype: bool <class 'pandas.core.series.Series'> bool\n",
      "0     True\n",
      "1     True\n",
      "2     True\n",
      "3    False\n",
      "dtype: bool <class 'pandas.core.series.Series'> bool\n",
      "2    65.5044\n",
      "dtype: object\n",
      "0    11.8899\n",
      "1    40.2585\n",
      "2    65.5044\n",
      "dtype: object\n"
     ]
    }
   ],
   "source": [
    "# 布尔型索引\n",
    "\n",
    "s = pd.Series(np.random.rand(3)*100)\n",
    "s[3] = None\n",
    "print(s)\n",
    "\n",
    "bs1 = s >50                                # 数组做判断之后，返回的是一个由布尔值组成的新的数组                     \n",
    "bs2 = s.isnull()                           # .isnull() / .notnull() 判断是否为空值 (None代表空值，NaN代表有问题的数值，两个都会识别为空值)  \n",
    "bs3 = s.notnull()\n",
    "\n",
    "print(bs1,type(bs1),bs1.dtype)\n",
    "print(bs2,type(bs2),bs2.dtype)\n",
    "print(bs3,type(bs3),bs3.dtype)\n",
    "\n",
    "\n",
    "print(s[s > 50])                            # 布尔型索引方法：用[判断条件]表示，其中判断条件可以是 一个语句,\n",
    "                                        \n",
    "print(s[bs3])                               # 或者是 一个布尔型数组"
   ]
  },
  {
   "cell_type": "markdown",
   "metadata": {},
   "source": [
    "作业1：创建一个Series，包含10个元素，且每个值为0-100的均匀分布随机值，index为a-j，请分别筛选出：\n",
    "① 标签为b，c的值为多少\n",
    "② Series中第4到6个值是哪些？\n",
    "③ Series中大于50的值有哪些？\n"
   ]
  },
  {
   "cell_type": "code",
   "execution_count": 30,
   "metadata": {},
   "outputs": [
    {
     "name": "stdout",
     "output_type": "stream",
     "text": [
      "a    71.212868\n",
      "b    52.994297\n",
      "c    98.536045\n",
      "d    81.832997\n",
      "e    91.347936\n",
      "f    85.367466\n",
      "g    61.747891\n",
      "h     5.166545\n",
      "i    96.231157\n",
      "j    44.758987\n",
      "dtype: float64\n",
      "标签为b,c的值是52.99429675018278,98.53604549543397\n",
      "标签由4到6值是d    81.832997\n",
      "e    91.347936\n",
      "f    85.367466\n",
      "dtype: float64\n",
      "大于50的值是a    71.212868\n",
      "b    52.994297\n",
      "c    98.536045\n",
      "d    81.832997\n",
      "e    91.347936\n",
      "f    85.367466\n",
      "g    61.747891\n",
      "i    96.231157\n",
      "dtype: float64\n"
     ]
    }
   ],
   "source": [
    "s = pd.Series(np.random.rand(10)*100,index=list('abcdefghij'))\n",
    "print(s)\n",
    "print(f\"标签为b,c的值是{s['b']},{s['c']}\")\n",
    "print(f\"标签由4到6值是{s[3:6]}\")\n",
    "print(f\"大于50的值是{s[s>50]}\")"
   ]
  },
  {
   "cell_type": "code",
   "execution_count": null,
   "metadata": {},
   "outputs": [],
   "source": []
  }
 ],
 "metadata": {
  "kernelspec": {
   "display_name": "Python 3",
   "language": "python",
   "name": "python3"
  },
  "language_info": {
   "codemirror_mode": {
    "name": "ipython",
    "version": 3
   },
   "file_extension": ".py",
   "mimetype": "text/x-python",
   "name": "python",
   "nbconvert_exporter": "python",
   "pygments_lexer": "ipython3",
   "version": "3.6.5"
  }
 },
 "nbformat": 4,
 "nbformat_minor": 2
}
