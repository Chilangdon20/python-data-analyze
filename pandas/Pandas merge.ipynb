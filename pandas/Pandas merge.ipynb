{
 "cells": [
  {
   "cell_type": "markdown",
   "metadata": {},
   "source": [
    "'''\n",
    "【课程2.16】  合并 merge、join\n",
    "\n",
    "Pandas具有全功能的，高性能内存中连接操作，与SQL等关系数据库非常相似\n",
    "\n",
    "pd.merge(left, right, how='inner', on=None, left_on=None, right_on=None,\n",
    "         left_index=False, right_index=False, sort=True,\n",
    "         suffixes=('_x', '_y'), copy=True, indicator=False)\n",
    " \n",
    "'''"
   ]
  },
  {
   "cell_type": "code",
   "execution_count": 2,
   "metadata": {
    "collapsed": true
   },
   "outputs": [],
   "source": [
    "import numpy as np\n",
    "import pandas as pd"
   ]
  },
  {
   "cell_type": "code",
   "execution_count": 4,
   "metadata": {},
   "outputs": [
    {
     "name": "stdout",
     "output_type": "stream",
     "text": [
      "    A   B key   C   D\n",
      "0  A0  B0  K0  C0  D0\n",
      "1  A1  B1  K1  C1  D1\n",
      "2  A2  B2  K2  C2  D2\n",
      "3  A3  B3  K3  C3  D3\n",
      "    A   B key1 key2   C   D\n",
      "0  A0  B0   K0   K0  C0  D0\n",
      "1  A2  B2   K1   K0  C1  D1\n",
      "2  A2  B2   K1   K0  C2  D2\n"
     ]
    }
   ],
   "source": [
    "# merge合并 → 类似excel的vlookup\n",
    "\n",
    "df1 = pd.DataFrame({'key': ['K0', 'K1', 'K2', 'K3'],\n",
    "                     'A': ['A0', 'A1', 'A2', 'A3'],\n",
    "                     'B': ['B0', 'B1', 'B2', 'B3']})\n",
    "df2 = pd.DataFrame({'key': ['K0', 'K1', 'K2', 'K3'],\n",
    "                      'C': ['C0', 'C1', 'C2', 'C3'],\n",
    "                      'D': ['D0', 'D1', 'D2', 'D3']})\n",
    "df3 = pd.DataFrame({'key1': ['K0', 'K0', 'K1', 'K2'],\n",
    "                    'key2': ['K0', 'K1', 'K0', 'K1'],\n",
    "                    'A': ['A0', 'A1', 'A2', 'A3'],\n",
    "                    'B': ['B0', 'B1', 'B2', 'B3']})\n",
    "df4 = pd.DataFrame({'key1': ['K0', 'K1', 'K1', 'K2'],\n",
    "                    'key2': ['K0', 'K0', 'K0', 'K0'],\n",
    "                    'C': ['C0', 'C1', 'C2', 'C3'],\n",
    "                    'D': ['D0', 'D1', 'D2', 'D3']})\n",
    "\n",
    "print(pd.merge(df1,df2,on='key'))                               # left：第一个df    right：第二个df  on：参考键\n",
    "print(pd.merge(df3,df4,on=['key1','key2']))                     # 多个链接键"
   ]
  },
  {
   "cell_type": "code",
   "execution_count": 7,
   "metadata": {},
   "outputs": [
    {
     "name": "stdout",
     "output_type": "stream",
     "text": [
      "    A   B key1 key2   C   D\n",
      "0  A0  B0   K0   K0  C0  D0\n",
      "1  A2  B2   K1   K0  C1  D1\n",
      "2  A2  B2   K1   K0  C2  D2\n",
      "     A    B key1 key2    C    D\n",
      "0   A0   B0   K0   K0   C0   D0\n",
      "1   A1   B1   K0   K1  NaN  NaN\n",
      "2   A2   B2   K1   K0   C1   D1\n",
      "3   A2   B2   K1   K0   C2   D2\n",
      "4   A3   B3   K2   K1  NaN  NaN\n",
      "5  NaN  NaN   K2   K0   C3   D3\n",
      "    A   B key1 key2    C    D\n",
      "0  A0  B0   K0   K0   C0   D0\n",
      "1  A1  B1   K0   K1  NaN  NaN\n",
      "2  A2  B2   K1   K0   C1   D1\n",
      "3  A2  B2   K1   K0   C2   D2\n",
      "4  A3  B3   K2   K1  NaN  NaN\n",
      "     A    B key1 key2   C   D\n",
      "0   A0   B0   K0   K0  C0  D0\n",
      "1   A2   B2   K1   K0  C1  D1\n",
      "2   A2   B2   K1   K0  C2  D2\n",
      "3  NaN  NaN   K2   K0  C3  D3\n"
     ]
    }
   ],
   "source": [
    "# 参数how → 合并方式\n",
    "\n",
    "print(pd.merge(df3,df4,on=['key1','key2'],how='inner'))       # inner：默认，取交集\n",
    "\n",
    "print(pd.merge(df3,df4,on=['key1','key2'],how='outer'))       # outer：取并集，数据缺失范围NaN\n",
    "\n",
    "print(pd.merge(df3,df4,on=['key1','key2'],how='left'))        # left：按照df3为参考合并，数据缺失范围NaN\n",
    "\n",
    "print(pd.merge(df3,df4,on=['key1','key2'],how='right'))       # right：按照df4为参考合并，数据缺失范围NaN"
   ]
  },
  {
   "cell_type": "code",
   "execution_count": 11,
   "metadata": {},
   "outputs": [
    {
     "name": "stdout",
     "output_type": "stream",
     "text": [
      "   data1 lkey\n",
      "0      0    b\n",
      "1      1    b\n",
      "2      2    a\n",
      "3      3    c\n",
      "4      4    a\n",
      "5      5    a\n",
      "6      6    b \n",
      "    data2 rkey\n",
      "0      0    a\n",
      "1      1    d\n",
      "2      2    d\n",
      "   data1 lkey  data2 rkey\n",
      "0      2    a      0    a\n",
      "1      4    a      0    a\n",
      "2      5    a      0    a\n",
      "   data1 key  date2\n",
      "0      0   a    100\n",
      "1      1   b    101\n",
      "2      2   c    102\n",
      "3      3   d    103\n",
      "5      5   e    104\n"
     ]
    },
    {
     "data": {
      "text/plain": [
       "'\\n\\n'"
      ]
     },
     "execution_count": 11,
     "metadata": {},
     "output_type": "execute_result"
    }
   ],
   "source": [
    "# 参数 left_on, right_on, left_index, right_index → 当键不为一个列时，可以单独设置左键与右键\n",
    "\n",
    "d1 = pd.DataFrame({'lkey':list('bbacaab'),\n",
    "                   'data1':range(7)})\n",
    "d2 = pd.DataFrame({'rkey':list('add'),\n",
    "                   'data2':range(3)})\n",
    "print(d1,'\\n',d2)\n",
    "print(pd.merge(d1,d2,left_on='lkey',right_on='rkey'))    # df1以‘lkey’为键，df2以‘rkey’为键\n",
    "\n",
    "df1 = pd.DataFrame({'key':list('abcdfeg'),\n",
    "                   'data1':range(7)})\n",
    "df2 = pd.DataFrame({'date2':range(100,105)},\n",
    "                  index = list('abcde'))\n",
    "print(pd.merge(df1,df2,left_on='key',right_index=True))\n",
    "\n",
    "'''\n",
    " df1以‘key’为键，df2以index为键\n",
    " left_index：为True时，第一个df以index为键，默认False\n",
    " right_index：为True时，第二个df以index为键，默认False\n",
    "\n",
    " 所以left_on, right_on, left_index, right_index可以相互组合：\n",
    " left_on + right_on, left_on + right_index, left_index + right_on, left_index + right_index\n",
    "'''"
   ]
  },
  {
   "cell_type": "code",
   "execution_count": 14,
   "metadata": {},
   "outputs": [
    {
     "name": "stdout",
     "output_type": "stream",
     "text": [
      "   data1 key  date2\n",
      "0    1.0   b    2.0\n",
      "1    3.0   b    2.0\n",
      "2    7.0   b    2.0\n",
      "3    2.0   a   11.0\n",
      "4    5.0   a   11.0\n",
      "5    9.0   a   11.0\n",
      "6    4.0   c    NaN\n",
      "7    NaN   d   33.0\n",
      "   data1 key  date2\n",
      "0    2.0   a   11.0\n",
      "1    5.0   a   11.0\n",
      "2    9.0   a   11.0\n",
      "3    1.0   b    2.0\n",
      "4    3.0   b    2.0\n",
      "5    7.0   b    2.0\n",
      "6    4.0   c    NaN\n",
      "7    NaN   d   33.0\n",
      "   data1 key  date2\n",
      "3    1.0   b    2.0\n",
      "0    2.0   a   11.0\n",
      "4    3.0   b    2.0\n",
      "6    4.0   c    NaN\n",
      "1    5.0   a   11.0\n",
      "5    7.0   b    2.0\n",
      "2    9.0   a   11.0\n",
      "7    NaN   d   33.0\n"
     ]
    }
   ],
   "source": [
    "# 参数 sort\n",
    "\n",
    "df1 = pd.DataFrame({'key':list('bbacaab'),\n",
    "                   'data1':[1,3,2,4,5,9,7]})\n",
    "df2 = pd.DataFrame({'key':list('abd'),\n",
    "                   'date2':[11,2,33]})\n",
    "\n",
    "x1 = pd.merge(df1,df2,on='key',how='outer')\n",
    "x2 = pd.merge(df1,df2,on='key',how='outer',sort=True)\n",
    "\n",
    "print(x1)\n",
    "print(x2)           # sort：按照字典顺序通过 连接键 对结果DataFrame进行排序。默认为False，设置为False会大幅提高性能\n",
    "\n",
    "print(x2.sort_values('data1'))"
   ]
  },
  {
   "cell_type": "code",
   "execution_count": 19,
   "metadata": {},
   "outputs": [
    {
     "name": "stdout",
     "output_type": "stream",
     "text": [
      "     A   B\n",
      "K0  A0  B0\n",
      "K1  A1  B1\n",
      "K2  A2  B2\n",
      "     C   D\n",
      "K0  C0  D0\n",
      "K2  C2  D2\n",
      "K3  C3  D3\n",
      "     A   B    C    D\n",
      "K0  A0  B0   C0   D0\n",
      "K1  A1  B1  NaN  NaN\n",
      "K2  A2  B2   C2   D2\n",
      "      A    B    C    D\n",
      "K0   A0   B0   C0   D0\n",
      "K1   A1   B1  NaN  NaN\n",
      "K2   A2   B2   C2   D2\n",
      "K3  NaN  NaN   C3   D3\n",
      "   data1 key\n",
      "0      1   b\n",
      "1      3   b\n",
      "2      2   a\n",
      "3      4   c\n",
      "4      5   a\n",
      "5      9   a\n",
      "6      7   b\n",
      "   date2 key\n",
      "0     11   a\n",
      "1      2   b\n",
      "2     33   d\n",
      "   data1 key_1  date2 key_2\n",
      "0      1     b     11     a\n",
      "1      3     b      2     b\n",
      "2      2     a     33     d\n",
      "    A   B key\n",
      "0  A0  B0  K0\n",
      "1  A1  B1  K1\n",
      "2  A2  B2  K0\n",
      "3  A3  B3  K1\n",
      "     C   D\n",
      "K0  C0  D0\n",
      "K1  C1  D1\n",
      "    A   B key   C   D\n",
      "0  A0  B0  K0  C0  D0\n",
      "1  A1  B1  K1  C1  D1\n",
      "2  A2  B2  K0  C0  D0\n",
      "3  A3  B3  K1  C1  D1\n"
     ]
    }
   ],
   "source": [
    "# pd.join() → 直接通过索引链接\n",
    "\n",
    "left = pd.DataFrame({'A': ['A0', 'A1', 'A2'],\n",
    "                     'B': ['B0', 'B1', 'B2']},\n",
    "                    index=['K0', 'K1', 'K2'])\n",
    "right = pd.DataFrame({'C': ['C0', 'C2', 'C3'],\n",
    "                      'D': ['D0', 'D2', 'D3']},\n",
    "                     index=['K0', 'K2', 'K3'])\n",
    "\n",
    "print(left)\n",
    "print(right)\n",
    "print(left.join(right))\n",
    "print(left.join(right,how='outer')) # 等价于：pd.merge(left, right, left_index=True, right_index=True, how='outer')\n",
    "\n",
    "df1 = pd.DataFrame({'key':list('bbacaab'),\n",
    "                   'data1':[1,3,2,4,5,9,7]})\n",
    "df2 = pd.DataFrame({'key':list('abd'),\n",
    "                   'date2':[11,2,33]})\n",
    "print(df1)\n",
    "print(df2)\n",
    "print(pd.merge(df1,df2,left_index=True,right_index=True,suffixes=('_1','_2')))\n",
    "\n",
    "left = pd.DataFrame({'A': ['A0', 'A1', 'A2', 'A3'],\n",
    "                     'B': ['B0', 'B1', 'B2', 'B3'],\n",
    "                     'key': ['K0', 'K1', 'K0', 'K1']})\n",
    "right = pd.DataFrame({'C': ['C0', 'C1'],\n",
    "                      'D': ['D0', 'D1']},\n",
    "                     index=['K0', 'K1'])\n",
    "\n",
    "print(left)\n",
    "print(right)\n",
    "print(left.join(right,on='key'))  # 等价于pd.merge(left, right, left_on='key', right_index=True, how='left', sort=False);\n",
    "                                  # left的‘key’和right的index"
   ]
  },
  {
   "cell_type": "code",
   "execution_count": null,
   "metadata": {
    "collapsed": true
   },
   "outputs": [],
   "source": [
    "\t作业1：按要求创建Dataframe df1、df2，并合并成df3\n",
    "\n",
    "\t作业2：按要求创建Dataframe df1、df2，并合并成df3\n",
    "\n",
    "\t作业3：按要求创建Dataframe df1、df2，并合并成df3\t"
   ]
  },
  {
   "cell_type": "code",
   "execution_count": 22,
   "metadata": {},
   "outputs": [
    {
     "name": "stdout",
     "output_type": "stream",
     "text": [
      "  key    value1\n",
      "0   a  0.416489\n",
      "1   b  0.401150\n",
      "2   c  0.924324\n",
      "  key    value2\n",
      "0   b  0.886684\n",
      "1   c  0.820470\n",
      "2   d  0.235763\n",
      "  key    value1    value2\n",
      "0   a  0.416489       NaN\n",
      "1   b  0.401150  0.886684\n",
      "2   c  0.924324  0.820470\n",
      "3   d       NaN  0.235763\n"
     ]
    }
   ],
   "source": [
    "df1 = pd.DataFrame({\n",
    "    'key':list('abc'),\n",
    "    'value1':np.random.rand(3)\n",
    "})\n",
    "\n",
    "df2 = pd.DataFrame({\n",
    "    'key':list('bcd'),\n",
    "    'value2':np.random.rand(3)\n",
    "})\n",
    "print(df1)\n",
    "print(df2)\n",
    "print(pd.merge(df1,df2,on='key',how='outer'))"
   ]
  },
  {
   "cell_type": "code",
   "execution_count": 26,
   "metadata": {},
   "outputs": [
    {
     "name": "stdout",
     "output_type": "stream",
     "text": [
      "  lkey    value1\n",
      "0    a  0.055725\n",
      "1    b  0.230667\n",
      "2    c  0.221078\n",
      "  rkey    value2\n",
      "0    b  0.433309\n",
      "1    c  0.728505\n",
      "2    d  0.519332\n",
      "  lkey    value1 rkey    value2\n",
      "0    a  0.055725  NaN       NaN\n",
      "1    b  0.230667    b  0.433309\n",
      "2    c  0.221078    c  0.728505\n"
     ]
    }
   ],
   "source": [
    "df1 = pd.DataFrame({\n",
    "    'lkey':list('abc'),\n",
    "    'value1':np.random.rand(3)\n",
    "})\n",
    "\n",
    "df2 = pd.DataFrame({\n",
    "    'rkey':list('bcd'),\n",
    "    'value2':np.random.rand(3)\n",
    "})\n",
    "print(df1)\n",
    "print(df2)\n",
    "print(pd.merge(df1,df2,left_on='lkey',right_on='rkey',how='left'))"
   ]
  },
  {
   "cell_type": "code",
   "execution_count": 31,
   "metadata": {},
   "outputs": [
    {
     "name": "stdout",
     "output_type": "stream",
     "text": [
      "  key    value1\n",
      "0   a  0.255839\n",
      "1   b  0.539217\n",
      "2   c  0.458445\n",
      "     value2  value3\n",
      "b  0.058390       5\n",
      "c  0.709778       6\n",
      "d  0.858366       7\n",
      "  key    value1    value2  value3\n",
      "1   b  0.539217  0.058390       5\n",
      "2   c  0.458445  0.709778       6\n"
     ]
    }
   ],
   "source": [
    "df1 = pd.DataFrame({\n",
    "    'key':list('abc'),\n",
    "    'value1':np.random.rand(3)\n",
    "})\n",
    "df2 = pd.DataFrame({\n",
    "    'value2':np.random.rand(3),\n",
    "    'value3':[5,6,7]  },index=['b','c','d'])\n",
    "print(df1)\n",
    "print(df2)\n",
    "print(pd.merge(df1,df2,left_on='key',right_index=True))"
   ]
  },
  {
   "cell_type": "markdown",
   "metadata": {
    "collapsed": true
   },
   "source": [
    "'''\n",
    "【课程2.17】  连接与修补 concat、combine_first\n",
    "\n",
    "连接 - 沿轴执行连接操作\n",
    "\n",
    "pd.concat(objs, axis=0, join='outer', join_axes=None, ignore_index=False,\n",
    "          keys=None, levels=None, names=None, verify_integrity=False,\n",
    "          copy=True)\n",
    " \n",
    "'''"
   ]
  },
  {
   "cell_type": "code",
   "execution_count": 5,
   "metadata": {},
   "outputs": [
    {
     "name": "stdout",
     "output_type": "stream",
     "text": [
      "0    1\n",
      "1    2\n",
      "2    3\n",
      "0    2\n",
      "1    3\n",
      "2    4\n",
      "dtype: int64\n",
      "a    1\n",
      "b    2\n",
      "c    2\n",
      "d    4\n",
      "e    3\n",
      "h    3\n",
      "dtype: int64\n",
      "     0    1\n",
      "a  1.0  NaN\n",
      "b  NaN  2.0\n",
      "c  2.0  NaN\n",
      "d  NaN  4.0\n",
      "e  NaN  3.0\n",
      "h  3.0  NaN\n"
     ]
    }
   ],
   "source": [
    "# 连接：concat\n",
    "\n",
    "s1 = pd.Series([1,2,3])\n",
    "s2 = pd.Series([2,3,4])\n",
    "s3 = pd.Series([1,2,3],index=['a','c','h'])\n",
    "s4 = pd.Series([2,3,4],index=['b','e','d'])\n",
    "print(pd.concat([s1,s2]))                             # 默认按照列拼接\n",
    "print(pd.concat([s3,s4]).sort_index())                # 默认axis=0，行+行\n",
    "\n",
    "print(pd.concat([s3,s4],axis=1))                      # axis=1,列+列，成为一个Dataframe"
   ]
  },
  {
   "cell_type": "code",
   "execution_count": 9,
   "metadata": {},
   "outputs": [
    {
     "name": "stdout",
     "output_type": "stream",
     "text": [
      "     0    1\n",
      "a  1.0  NaN\n",
      "b  2.0  2.0\n",
      "c  3.0  3.0\n",
      "d  NaN  4.0\n",
      "   0  1\n",
      "b  2  2\n",
      "c  3  3\n",
      "     0    1\n",
      "a  1.0  NaN\n",
      "b  2.0  2.0\n",
      "d  NaN  4.0\n"
     ]
    }
   ],
   "source": [
    "# 连接方式：join，join_axes\n",
    "\n",
    "s5 = pd.Series([1,2,3],index=['a','b','c'])\n",
    "s6 = pd.Series([2,3,4],index=['b','c','d'])\n",
    "print(pd.concat([s5,s6],axis=1))\n",
    "print(pd.concat([s5,s6],axis=1,join='inner'))\n",
    "print(pd.concat([s5,s6],axis=1,join_axes=[['a','b','d']]))\n",
    "'''\n",
    " join：{'inner'，'outer'}，默认为“outer”。如何处理其他轴上的索引。outer为联合和inner为交集。\n",
    " join_axes：指定联合的index\n",
    " \n",
    "'''"
   ]
  },
  {
   "cell_type": "code",
   "execution_count": 11,
   "metadata": {},
   "outputs": [
    {
     "name": "stdout",
     "output_type": "stream",
     "text": [
      "one  a    1\n",
      "     b    2\n",
      "     c    3\n",
      "two  b    2\n",
      "     c    3\n",
      "     d    4\n",
      "dtype: int64 <class 'pandas.core.series.Series'>\n",
      "MultiIndex(levels=[['one', 'two'], ['a', 'b', 'c', 'd']],\n",
      "           labels=[[0, 0, 0, 1, 1, 1], [0, 1, 2, 1, 2, 3]])\n",
      "   one  two\n",
      "a  1.0  NaN\n",
      "b  2.0  2.0\n",
      "c  3.0  3.0\n",
      "d  NaN  4.0\n"
     ]
    }
   ],
   "source": [
    "# 覆盖列名\n",
    "\n",
    "sre = pd.concat([s5,s6],keys=['one','two'])                  # keys：序列，默认值无。使用传递的键作为最外层构建层次索引\n",
    "print(sre,type(sre))\n",
    "print(sre.index)\n",
    "\n",
    "sre = pd.concat([s5,s6],axis=1,keys=['one','two'])           # axis = 1, 覆盖列名\n",
    "print(sre)"
   ]
  },
  {
   "cell_type": "code",
   "execution_count": 14,
   "metadata": {},
   "outputs": [
    {
     "name": "stdout",
     "output_type": "stream",
     "text": [
      "     0    1    2\n",
      "0  NaN  3.0  5.0\n",
      "1 -4.6  NaN  NaN\n",
      "2  NaN  7.0  NaN\n",
      "      0    1    2\n",
      "1 -42.6  NaN -8.2\n",
      "2  -5.0  1.6  4.0\n",
      "     0    1    2\n",
      "0  NaN  3.0  5.0\n",
      "1 -4.6  NaN -8.2\n",
      "2 -5.0  7.0  4.0\n",
      "      0    1    2\n",
      "0   NaN  3.0  5.0\n",
      "1 -42.6  NaN -8.2\n",
      "2  -5.0  1.6  4.0\n"
     ]
    }
   ],
   "source": [
    "# 修补 pd.combine_first()\n",
    "\n",
    "df1 = pd.DataFrame([[np.nan,3.,5.],[-4.6,np.nan,np.nan],[np.nan,7.,np.nan]])\n",
    "df2 = pd.DataFrame([[-42.6, np.nan, -8.2], [-5., 1.6, 4]],index=[1, 2])\n",
    "print(df1)\n",
    "print(df2)\n",
    "print(df1.combine_first(df2))                                    # 根据index，df1的空值被df2替代\n",
    "                                                                 # 如果df2的index多于df1，则更新到df1上，比如index=['a',1]\n",
    "\n",
    "df1.update(df2)                                                  # update，直接df2覆盖df1，相同index位置\n",
    "print(df1)\n"
   ]
  },
  {
   "cell_type": "markdown",
   "metadata": {},
   "source": [
    "\t作业1：按要求创建Dataframe df1、df2，并连接成df3\n",
    "\n",
    "\t作业2：按要求创建Dataframe df1、df2，并用df2的值修补df1，生成df3"
   ]
  },
  {
   "cell_type": "code",
   "execution_count": 18,
   "metadata": {},
   "outputs": [
    {
     "name": "stdout",
     "output_type": "stream",
     "text": [
      "     value1    value2\n",
      "a  0.705388  0.887430\n",
      "b  0.139323  0.611686\n",
      "c  0.964530  0.500237\n",
      "d  0.482046  0.848607\n",
      "     value1    value2\n",
      "e  0.643685  0.991280\n",
      "f  0.562632  0.520688\n",
      "g  0.336736  0.272253\n",
      "h  0.377579  0.058404\n",
      "     value1    value2\n",
      "a  0.705388  0.887430\n",
      "b  0.139323  0.611686\n",
      "c  0.964530  0.500237\n",
      "d  0.482046  0.848607\n",
      "e  0.643685  0.991280\n",
      "f  0.562632  0.520688\n",
      "g  0.336736  0.272253\n",
      "h  0.377579  0.058404\n"
     ]
    }
   ],
   "source": [
    "df1 = pd.DataFrame(np.random.rand(4,2),\n",
    "                  index=['a','b','c','d'],\n",
    "                  columns=['value1','value2'])\n",
    "df2 = pd.DataFrame(np.random.rand(4,2),\n",
    "                  index=['e','f','g','h'],\n",
    "                  columns=['value1','value2'])\n",
    "print(df1)\n",
    "print(df2)\n",
    "df3 = pd.concat([df1,df2])\n",
    "print(pf3)"
   ]
  },
  {
   "cell_type": "code",
   "execution_count": 28,
   "metadata": {},
   "outputs": [
    {
     "name": "stdout",
     "output_type": "stream",
     "text": [
      "     value1    value2\n",
      "a  0.324519  0.856443\n",
      "b       NaN  0.365295\n",
      "c       NaN  0.356939\n",
      "d  0.782114  0.988695\n",
      "   value1  value2\n",
      "a       0       1\n",
      "b       2       3\n",
      "c       4       5\n",
      "d       6       7\n",
      "     value1    value2\n",
      "a  0.324519  0.856443\n",
      "b  2.000000  0.365295\n",
      "c  4.000000  0.356939\n",
      "d  0.782114  0.988695\n"
     ]
    }
   ],
   "source": [
    "df1 = pd.DataFrame(np.random.rand(4,2),\n",
    "                  index=['a','b','c','d'],\n",
    "                  columns=['value1','value2'])\n",
    "df1['value1'].loc[['b','c']] = np.nan\n",
    "df2 = pd.DataFrame(np.arange(8).reshape(4,2),\n",
    "                  columns=['value1','value2'],\n",
    "                  index=['a','b','c','d'])\n",
    "print(df1)\n",
    "print(df2)\n",
    "print(df1.combine_first(df2))"
   ]
  },
  {
   "cell_type": "code",
   "execution_count": null,
   "metadata": {
    "collapsed": true
   },
   "outputs": [],
   "source": [
    "'''\n",
    "【课程2.18】  去重及替换\n",
    "\n",
    ".duplicated / .replace\n",
    " \n",
    "'''"
   ]
  },
  {
   "cell_type": "code",
   "execution_count": 33,
   "metadata": {},
   "outputs": [
    {
     "name": "stdout",
     "output_type": "stream",
     "text": [
      "0     False\n",
      "1      True\n",
      "2      True\n",
      "3      True\n",
      "4     False\n",
      "5      True\n",
      "6      True\n",
      "7     False\n",
      "8     False\n",
      "9     False\n",
      "10     True\n",
      "11     True\n",
      "12     True\n",
      "dtype: bool\n",
      "0    1\n",
      "4    2\n",
      "7    3\n",
      "8    4\n",
      "9    5\n",
      "dtype: int64\n",
      "0    1\n",
      "4    2\n",
      "7    3\n",
      "8    4\n",
      "9    5\n",
      "dtype: int64\n",
      "0    False\n",
      "1     True\n",
      "2    False\n",
      "3    False\n",
      "4    False\n",
      "dtype: bool\n",
      "0    False\n",
      "1     True\n",
      "2    False\n",
      "3     True\n",
      "4    False\n",
      "Name: key2, dtype: bool\n"
     ]
    }
   ],
   "source": [
    "# 去重 .duplicated\n",
    "\n",
    "s = pd.Series([1,1,1,1,2,2,2,3,4,5,5,5,5])\n",
    "print(s.duplicated())                            # 判断是否重复\n",
    "print(s[s.duplicated()==False])                 # 通过布尔判断，得到不重复的值\n",
    "\n",
    "se = s.drop_duplicates()                        # drop.duplicates移除重复\n",
    "print(se)                                       # inplace参数：是否替换原值，默认False\n",
    "\n",
    "df = pd.DataFrame({'key1':['a','a',3,4,5],\n",
    "                  'key2':['a','a','b','b','c']})\n",
    "print(df.duplicated())\n",
    "print(df['key2'].duplicated())                  # Dataframe中使用duplicated"
   ]
  },
  {
   "cell_type": "code",
   "execution_count": 36,
   "metadata": {},
   "outputs": [
    {
     "name": "stdout",
     "output_type": "stream",
     "text": [
      "0    NaN\n",
      "1      s\n",
      "2      c\n",
      "3    NaN\n",
      "4    NaN\n",
      "5      z\n",
      "6      s\n",
      "7      d\n",
      "dtype: object\n",
      "0    NaN\n",
      "1    NaN\n",
      "2      c\n",
      "3    NaN\n",
      "4    NaN\n",
      "5      z\n",
      "6    NaN\n",
      "7      d\n",
      "dtype: object\n",
      "0     hello\n",
      "1    python\n",
      "2         c\n",
      "3     hello\n",
      "4     hello\n",
      "5         z\n",
      "6    python\n",
      "7         d\n",
      "dtype: object\n"
     ]
    }
   ],
   "source": [
    "# 替换 .replace\n",
    "\n",
    "s = pd.Series(list('ascaazsd'))\n",
    "print(s.replace('a',np.nan))                     # 替换一个值\n",
    "print(s.replace(['a','s'],np.nan))               # 可一次性替换一个值或多个值\n",
    "print(s.replace({'a':'hello','s':'python'}))     # 可传入列表或字典"
   ]
  },
  {
   "cell_type": "code",
   "execution_count": null,
   "metadata": {
    "collapsed": true
   },
   "outputs": [],
   "source": []
  }
 ],
 "metadata": {
  "kernelspec": {
   "display_name": "Python 3",
   "language": "python",
   "name": "python3"
  },
  "language_info": {
   "codemirror_mode": {
    "name": "ipython",
    "version": 3
   },
   "file_extension": ".py",
   "mimetype": "text/x-python",
   "name": "python",
   "nbconvert_exporter": "python",
   "pygments_lexer": "ipython3",
   "version": "3.6.1"
  }
 },
 "nbformat": 4,
 "nbformat_minor": 2
}
