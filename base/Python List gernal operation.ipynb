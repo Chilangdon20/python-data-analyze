{
 "cells": [
  {
   "cell_type": "code",
   "execution_count": null,
   "metadata": {},
   "outputs": [],
   "source": [
    "'''\n",
    "【课程3.2】  序列通用操作\n",
    "\n",
    "序列分类：可变序列list，不可变序列tuple、str\n",
    "\n",
    "'''"
   ]
  },
  {
   "cell_type": "code",
   "execution_count": 2,
   "metadata": {},
   "outputs": [
    {
     "name": "stdout",
     "output_type": "stream",
     "text": [
      "True\n",
      "True\n"
     ]
    }
   ],
   "source": [
    "# 判断是否属于序列\n",
    "lst = [1,2,3,4,5,6]\n",
    "a,b = 1,10\n",
    "print(a in lst)\n",
    "print(b not in lst)"
   ]
  },
  {
   "cell_type": "code",
   "execution_count": 3,
   "metadata": {},
   "outputs": [
    {
     "name": "stdout",
     "output_type": "stream",
     "text": [
      "[1, 2, 3, 'a', 'b', 'c']\n",
      "[1, 2, 3, 1, 2, 3, 1, 2, 3] ['a', 'b', 'c', 'a', 'b', 'c']\n"
     ]
    }
   ],
   "source": [
    "# 序列链接与重复\n",
    "lst1 = [1,2,3]\n",
    "lst2 = ['a','b','c']\n",
    "print(lst1 + lst2)\n",
    "print(lst1*3,lst2*2)"
   ]
  },
  {
   "cell_type": "code",
   "execution_count": 4,
   "metadata": {},
   "outputs": [
    {
     "name": "stdout",
     "output_type": "stream",
     "text": [
      "1 3 0\n",
      "0\n"
     ]
    }
   ],
   "source": [
    "# 下标索引\n",
    "lst = [1,2,3,4,5,6,7,8,9,0]\n",
    "print(lst[0],lst[2],lst[9]) #索引从0开始,lst[2]中下标索引是2,指向列表中的第三个元素\n",
    "print(lst[-1]) # -表示从末端开始获取数据,-1表示最后一个值\n",
    "#print(lst[10])  # 这里一共有10个值，所以最大索引是9"
   ]
  },
  {
   "cell_type": "code",
   "execution_count": 6,
   "metadata": {},
   "outputs": [
    {
     "name": "stdout",
     "output_type": "stream",
     "text": [
      "[3, 4, 5]\n",
      "[1, 2, 3, 4, 5]\n",
      "[5, 6, 7, 8, 9, 0]\n",
      "[6, 7, 8, 9]\n"
     ]
    }
   ],
   "source": [
    "# 切片\n",
    "lst = [1,2,3,4,5,6,7,8,9,0]\n",
    "print(lst[2:5])   #切片可以看做是列表的值得区间,且是一个左闭右开的区间,这里lst[2:5]代表的区间是:索引\n",
    "print(lst[:5])    #左边无索引,代表从0开始\n",
    "print(lst[4:])    #右边无索引,代表以最后一个值结束\n",
    "print(lst[5:-1])  #索引为5的值 - 到索引倒数第二个值"
   ]
  },
  {
   "cell_type": "code",
   "execution_count": 7,
   "metadata": {},
   "outputs": [
    {
     "name": "stdout",
     "output_type": "stream",
     "text": [
      "[1, 3, 5]\n",
      "[1, 3, 5, 7, 9]\n",
      "[2, 4, 6, 8, 0]\n"
     ]
    }
   ],
   "source": [
    "# 切片\n",
    "lst = [1,2,3,4,5,6,7,8,9,0]\n",
    "print(lst[0:5:2])  #List[i:j:k]代表:索引i到索引j,以k为步长\n",
    "print(lst[::2])    #按照2为步长,从第一个值开始截取lst的数据\n",
    "print(lst[1::2])   #按照2为步长,从第二个值开始截取lst的数据"
   ]
  },
  {
   "cell_type": "code",
   "execution_count": 8,
   "metadata": {},
   "outputs": [
    {
     "name": "stdout",
     "output_type": "stream",
     "text": [
      "10\n",
      "9 0 45\n",
      "2\n",
      "1\n"
     ]
    }
   ],
   "source": [
    "# 序列的基本内置全局函数\n",
    "\n",
    "lst = [1,2,3,4,5,6,7,8,9,0]\n",
    "print(len(lst))     #获取列表的元素个数\n",
    "print(max(lst),min(lst),sum(lst)) #返回列表中的最大值,最小值,求和,只针对number类型的列表\n",
    "print(lst.index(3)) #通过索引来获取lst中对应的值\n",
    "print(lst.count(4)) #计算lst中该值出现的次数"
   ]
  },
  {
   "cell_type": "markdown",
   "metadata": {},
   "source": [
    "小作业\n",
    "① x=[1,2,3,1,[1],[1,1]]，请问x.count(1)为多少？\n",
    "② x=[1,2,5,1,“1”，“1”]，请问x.count(1)为多少？\n",
    "③ y=[45,67,89,45,34,22,1],请问y.index(45)等于多少？\n",
    "④ 创建一个列表，用type函数判断list[1]和list[2:5]的区别"
   ]
  },
  {
   "cell_type": "code",
   "execution_count": 14,
   "metadata": {},
   "outputs": [
    {
     "name": "stdout",
     "output_type": "stream",
     "text": [
      "2\n",
      "2\n",
      "0\n",
      "<class 'int'>\n",
      "<class 'list'>\n"
     ]
    }
   ],
   "source": [
    "lst = [1,2,3,1,[1],[1,1]]\n",
    "print(lst.count(1))\n",
    "\n",
    "lst = [1,2,5,1,'1','1']\n",
    "print(lst.count(1))\n",
    "\n",
    "lst = [45,67,89,45,34,22,1]\n",
    "print(lst.index(45))\n",
    "\n",
    "lst = [1,2,3,4,5,6,7,8,9,0]\n",
    "print(type(lst[1]))\n",
    "print(type(lst[2:5]))"
   ]
  },
  {
   "cell_type": "markdown",
   "metadata": {},
   "source": [
    "'''\n",
    "【课程3.3】  列表list常用操作\n",
    "\n",
    "序列是Python中最基本的数据结构，它支持字符，数字，字符串甚至可以包含列表（即嵌套）\n",
    "列表用 [ ] 标识，是 python 最通用的复合数据类型。\n",
    "列表中值的切片也可以用到变量 [头下标:尾下标] ，就可以截取相应的列表，从左到右索引默认 0 开始，从右到左索引默认 -1 开始，下标可以为空表示取到头或尾。\n",
    "加号 + 是列表连接运算符，星号 * 是重复操作\n",
    "\n",
    "'''"
   ]
  },
  {
   "cell_type": "code",
   "execution_count": 17,
   "metadata": {},
   "outputs": [
    {
     "name": "stdout",
     "output_type": "stream",
     "text": [
      "143 43 43\n",
      "[1, 2, 3, 1, 2, 3, 1, 2, 3]\n",
      "[10, 101, 102]\n"
     ]
    }
   ],
   "source": [
    "# 列表的特征\n",
    "\n",
    "#1.可以包含任意的对象:数值,字符串,列表,字典\n",
    "lst1 = [1,2,3,'a','b','c',[1,2,3]]\n",
    "\n",
    "#2.通过下标索引访问序列中的值 → 序列的顺序是不变的,通过索引来定位列表的元素\n",
    "lst2 = [143,56,894,67,43]\n",
    "print(lst2[0],lst2[4],lst2[-1])\n",
    "\n",
    "#3.可以任意改变列表长度,相当于重新生成一份新的列表\n",
    "lst3 = [1,2,3]\n",
    "lst3 = lst3 * 3\n",
    "print(lst3)\n",
    "\n",
    "#4.可以嵌套列表\n",
    "lst4 = [1,2,['a','b']]\n",
    "\n",
    "#5.可以根据索引来修改值\n",
    "lst5 = [100,101,102]\n",
    "lst5[0] = 10\n",
    "print(lst5)"
   ]
  },
  {
   "cell_type": "markdown",
   "metadata": {},
   "source": [
    "小作业\n",
    "① [1,2,3]和[“1”, “2”, “3”]什么区别\n",
    "② 创建一个列表，包括3个人的数学成绩100，89,78\n",
    "③ 创建一个列表，包括5个中国城市名称\n",
    "④ 现有一个列表name = ['小明', '小红'] ,增加“团支书”的名字上去\n",
    "⑤ 现有一个列表m=[3.1,5.5,4,3,77,8]，用print分别输出第2、4个元素"
   ]
  },
  {
   "cell_type": "code",
   "execution_count": 21,
   "metadata": {},
   "outputs": [
    {
     "name": "stdout",
     "output_type": "stream",
     "text": [
      "['小明', '小红', '团支书']\n",
      "None\n",
      "5.5 3\n"
     ]
    }
   ],
   "source": [
    "#第一个list中是存储的是number类型的元素,第二个list中存放的是字符串类型的元素\n",
    "\n",
    "lst1 = [100,89,78]\n",
    "\n",
    "lst2 = ['北京','上海','深圳','广州','南京']\n",
    "\n",
    "name = ['小明', '小红']\n",
    "print(name + ['团支书'])\n",
    "print(name.append('团支书'))\n",
    "\n",
    "m = [3.1,5.5,4,3,77,8]\n",
    "print(m[1],m[3])"
   ]
  },
  {
   "cell_type": "code",
   "execution_count": 22,
   "metadata": {},
   "outputs": [
    {
     "name": "stdout",
     "output_type": "stream",
     "text": [
      "range(0, 5) <class 'range'>\n"
     ]
    }
   ],
   "source": [
    "# 列表与生成器\n",
    "\n",
    "#1. range()是生成器,表示一段范围\n",
    "#2. range(5)代表指向了0,1,2,3,4这5个元素\n",
    "#3. range(2,5)代表指向了2,3,4这3个元素\n",
    "#4. range(0,10,2)代表指向1,2,4,6,8这5个元素,2这里表示步长\n",
    "print(range(5),type(range(5)))"
   ]
  },
  {
   "cell_type": "markdown",
   "metadata": {},
   "source": [
    "① range()生成的是不是都是整数?\n",
    "② 创建一个range，用type()函数查看其类型\n",
    "③ 哪种方式书写正确：x=range(5), x=range(4:7), x=range(4,8)\n",
    "④ 创建一个range，用print输出其值，看一下输出结果\n",
    "⑤ 用list()函数，将一个range范围变为列表\n",
    "⑥ m=range(10),请问m[2],m[-1],m[5]是多少"
   ]
  },
  {
   "cell_type": "code",
   "execution_count": 28,
   "metadata": {},
   "outputs": [
    {
     "name": "stdout",
     "output_type": "stream",
     "text": [
      "<class 'range'>\n",
      "range(0, 5)\n",
      "[0, 1, 2, 3, 4]\n",
      "2 9 5\n"
     ]
    }
   ],
   "source": [
    "# 是的\n",
    "\n",
    "lst = range(5)\n",
    "print(type(lst))\n",
    "\n",
    "# 1 ,3 \n",
    "\n",
    "lst = range(5)\n",
    "print(lst)\n",
    "\n",
    "lst = list(range(5))\n",
    "print(lst)\n",
    "\n",
    "m = range(10)\n",
    "print(m[2],m[-1],m[5])"
   ]
  },
  {
   "cell_type": "code",
   "execution_count": 31,
   "metadata": {},
   "outputs": [
    {
     "name": "stdout",
     "output_type": "stream",
     "text": [
      "[0, 1, 2, 3, 4, 5, 6, 7, 8, 9, 'hello']\n",
      "[0, 1, 2, 3, 4, 5, 6, 7, 8, 9, 'hello', ['a', 'b', 'c']]\n",
      "[0, 1, 2, 3, 4, 5, 6, 7, 8, 9, 'a', 'b', 'c']\n"
     ]
    }
   ],
   "source": [
    "# 可变列表list常用操作 - 添加元素\n",
    "\n",
    "# append 在列表的尾部追加元素\n",
    "lst = list(range(10))\n",
    "lst.append('hello')\n",
    "print(lst)\n",
    "\n",
    "# 如果是append一个列表,会把所有的元素以列表的形式追加到尾部\n",
    "lst.append(['a','b','c'])\n",
    "print(lst)\n",
    "\n",
    "#如果是extend一个列表,会把所有的元素以单个值的形式追加到尾部,用新列表来扩展原有的列表\n",
    "lst = list(range(10))\n",
    "lst.extend(['a','b','c'])\n",
    "print(lst)"
   ]
  },
  {
   "cell_type": "code",
   "execution_count": 35,
   "metadata": {},
   "outputs": [
    {
     "name": "stdout",
     "output_type": "stream",
     "text": [
      "['Jack', 'Jack', 'Tracy', 'Alex', 'White']\n",
      "['Jack', 'Jack', 'Tracy']\n",
      "[]\n"
     ]
    }
   ],
   "source": [
    "# 可变列表list常用操作 - 删除元素\n",
    "\n",
    "lst = ['Jack','Jack','Tom','Tracy','Alex','White']\n",
    "# 直接删除列表中的值,如果有多个重复的值只移除第一个\n",
    "lst.remove('Tom')\n",
    "print(lst)\n",
    "\n",
    "# 根据索引,删除列表中多个元素\n",
    "del lst[3:5]\n",
    "print(lst)\n",
    "\n",
    "# 清空列表\n",
    "lst.clear()\n",
    "\n",
    "print(lst)"
   ]
  },
  {
   "cell_type": "code",
   "execution_count": 2,
   "metadata": {},
   "outputs": [
    {
     "name": "stdout",
     "output_type": "stream",
     "text": [
      "[0, 1, 2, 3, 4, 5, 6, 7, 8, 9]\n",
      "[0, 1, 2, 'a', 3, 4, 5, 6, 7, 8, 9]\n",
      "[0, 1, 2, 'a', 3, [1, 2, 3], 4, 5, 6, 7, 8, 9]\n"
     ]
    }
   ],
   "source": [
    "# 可变列表list常用操作 - 插入元素\n",
    "\n",
    "lst = list(range(10))\n",
    "print(lst)\n",
    "#  在索引i的地方插入元素m\n",
    "lst.insert(3,'a')\n",
    "print(lst)\n",
    "\n",
    "# 可以插入任意的数据类型\n",
    "lst.insert(5,[1,2,3])\n",
    "print(lst)"
   ]
  },
  {
   "cell_type": "code",
   "execution_count": 4,
   "metadata": {},
   "outputs": [
    {
     "name": "stdout",
     "output_type": "stream",
     "text": [
      "[0, 1, 'hello', 3, 4, 5, 6, 7, 8, 9] [0, 1, 'hello', 3, 4, 5, 6, 7, 8, 9]\n",
      "[0, 1, 2, 3, 4, 5, 6, 7, 8, 9] [0, 1, 'hello', 3, 4, 5, 6, 7, 8, 9]\n"
     ]
    }
   ],
   "source": [
    "# 可变列表list常用操作 - 复制\n",
    "\n",
    "lst = list(range(10))\n",
    "lst1 = lst\n",
    "lst1[2] = 'hello'\n",
    "print(lst,lst1)  # 这里lst和lst1都指向了同一个内存地址\n",
    "\n",
    "lst = list(range(10))\n",
    "lst2 = lst.copy()\n",
    "lst2[2] = 'hello'\n",
    "print(lst,lst2)"
   ]
  },
  {
   "cell_type": "code",
   "execution_count": 9,
   "metadata": {},
   "outputs": [
    {
     "name": "stdout",
     "output_type": "stream",
     "text": [
      "[3, 12, 32, 45, 45, 66, 98] ['asd', 'cxv', 'ghv']\n",
      "[98, 66, 45, 45, 32, 12, 3] ['ghv', 'cxv', 'asd']\n",
      "[98, 66, 45, 45, 32, 12, 3] [3, 12, 32, 45, 45, 66, 98, 'hello']\n"
     ]
    }
   ],
   "source": [
    "# 可变列表list常用操作 - 排序\n",
    "\n",
    "lst1 = [12,45,32,98,45,66,3]\n",
    "lst2 = [\"asd\", \"cxv\", \"ghv\"]\n",
    "lst1.sort()\n",
    "lst2.sort()\n",
    "# 默认按照升序进行排序\n",
    "print(lst1,lst2)\n",
    "\n",
    "# 选择reverse 表示按照逆位进行排序\n",
    "lst1.sort(reverse=True)\n",
    "lst2.sort(reverse=True)\n",
    "print(lst1,lst2)\n",
    "\n",
    "# sorted函数,复制原先的序列并且排序\n",
    "lst3 = sorted(lst1)\n",
    "lst3.append('hello')\n",
    "print(lst1,lst3)\n"
   ]
  },
  {
   "cell_type": "code",
   "execution_count": 15,
   "metadata": {},
   "outputs": [
    {
     "name": "stdout",
     "output_type": "stream",
     "text": [
      "('physics', 'chemity', 1997, 200) (1, 2, 3, 4, 5, 6) ('a', 'b', 'c', 'd', 'e') (40,)\n",
      "1997 ('a', 'b')\n",
      "6\n",
      "(1, 2, 3, 4, 5, 6, 'a', 'b', 'c', 'd', 'e')\n",
      "(40, 40, 40, 40)\n",
      "1 6\n",
      "(0, 1, 2, 3, 4, 5, 6, 7, 8, 9) <class 'tuple'>\n"
     ]
    }
   ],
   "source": [
    "# tuple 不可变的元组\n",
    "\n",
    "tup1 = ('physics','chemity',1997,200)\n",
    "tup2 = (1,2,3,4,5,6)\n",
    "tup3 = 'a','b','c','d','e' #可以不加括号\n",
    "tup4 = (40,)               #元组中只包含一个元素的时候,要用,加在元素的末尾\n",
    "print(tup1,tup2,tup3,tup4)\n",
    "\n",
    "print(tup1[2],tup3[:2])    #索引,切片和list一致\n",
    "\n",
    "del tup1                  #元组不能按照索引删除某一个元素\n",
    "\n",
    "print(len(tup2))\n",
    "print(tup2+tup3)\n",
    "print(tup4*4)\n",
    "print(min(tup2),max(tup2))\n",
    "\n",
    "# 将list转换为元组\n",
    "lst5 = list(range(10))\n",
    "tup5 = tuple(lst5)\n",
    "print(tup5,type(tup5))"
   ]
  },
  {
   "cell_type": "markdown",
   "metadata": {},
   "source": [
    "小作业\n",
    "① 分别用append、extend方法，给一个序列增加一个元素1\n",
    "② x.append([1,2,3])和x.extend([1,2,3])的区别\n",
    "③ x.append('abc')和x.extend('abc')的区别\n",
    "④ 创建某一列表，在列表中间插入一个值\n",
    "⑤ 创建一个随机数值列表，按照降序排列\n",
    "⑥ sort()和sorted()什么区别\n",
    "⑦ s=[32,45,63,12,45,89,77], s.remove(45), del s[2], s.pop(4)分别什么区别\n",
    "⑧ m=[4,5,6,73,4,4,4,4,2]，删除2，删除所有的4"
   ]
  },
  {
   "cell_type": "code",
   "execution_count": 29,
   "metadata": {},
   "outputs": [
    {
     "name": "stdout",
     "output_type": "stream",
     "text": [
      "['e', 'f', 'g', 'abc'] ['e', 'f', 'g', 'a', 'b', 'c']\n",
      "[0, 1, 2, 3, 'a', 4, 5, 6, 7, 8, 9]\n",
      "[56, 34, 22, 10, 7, 6]\n",
      "[4, 5, 6, 73, 4, 4, 4, 4]\n",
      "[5, 6, 73, 4, 4]\n"
     ]
    }
   ],
   "source": [
    "lst = [1,2,3,4,5,6,7,8,9,0]\n",
    "\n",
    "lst.append(1)\n",
    "lst.extend([1,])\n",
    "\n",
    "lst1 = ['e','f','g']\n",
    "lst2 = ['e','f','g']\n",
    "lst1.append('abc')\n",
    "lst2.extend('abc')\n",
    "print(lst1,lst2)\n",
    "\n",
    "# append 将任意数据以列表的形式追加到末尾 extend把列表中的数据拆分成每一项追加到末尾\n",
    "# append ['e', 'f', 'g', 'abc'],extend ['e', 'f', 'g', 'a', 'b', 'c']\n",
    "\n",
    "lst = list(range(10))\n",
    "lst.insert(4,'a')\n",
    "print(lst)\n",
    "\n",
    "lst = [34,7,56,22,10,6]\n",
    "print(sorted(lst,reverse=True))\n",
    "\n",
    "# sort 是排序方法,原序列没有发生改变,sorted是内置函数 \n",
    "s=[32,45,63,12,45,89,77]\n",
    "s.remove(45)  #根据元素移除列表中的值\n",
    "del s[2]      #根据索引删除列表中的值\n",
    "s.pop(4)      #根据索引删除值 \n",
    "\n",
    "m=[4,5,6,73,4,4,4,4,2]\n",
    "m.remove(2)\n",
    "print(m)\n"
   ]
  },
  {
   "cell_type": "code",
   "execution_count": null,
   "metadata": {},
   "outputs": [],
   "source": []
  }
 ],
 "metadata": {
  "kernelspec": {
   "display_name": "Python 3",
   "language": "python",
   "name": "python3"
  },
  "language_info": {
   "codemirror_mode": {
    "name": "ipython",
    "version": 3
   },
   "file_extension": ".py",
   "mimetype": "text/x-python",
   "name": "python",
   "nbconvert_exporter": "python",
   "pygments_lexer": "ipython3",
   "version": "3.6.5"
  }
 },
 "nbformat": 4,
 "nbformat_minor": 2
}
