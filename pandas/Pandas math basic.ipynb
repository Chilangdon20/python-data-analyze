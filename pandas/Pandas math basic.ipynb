{
 "cells": [
  {
   "cell_type": "markdown",
   "metadata": {},
   "source": [
    "'''\n",
    "【课程2.14】  数值计算和统计基础\n",
    "\n",
    "常用数学、统计方法\n",
    " \n",
    "'''"
   ]
  },
  {
   "cell_type": "code",
   "execution_count": 2,
   "metadata": {
    "collapsed": true
   },
   "outputs": [],
   "source": [
    "import numpy as np\n",
    "import pandas as pd"
   ]
  },
  {
   "cell_type": "code",
   "execution_count": 12,
   "metadata": {},
   "outputs": [
    {
     "name": "stdout",
     "output_type": "stream",
     "text": [
      "   key1  key2 key3\n",
      "a   4.0   1.0    1\n",
      "b   5.0   2.0    2\n",
      "c   3.0   NaN    3\n",
      "d   NaN   4.0    j\n",
      "e   6.0   5.0    k\n",
      "(dtype('float64'), dtype('float64'), dtype('O'))\n",
      "(key1    4.5\n",
      "key2    3.0\n",
      "dtype: float64, <class 'pandas.core.series.Series'>)\n",
      "('\\xe5\\x8d\\x95\\xe7\\x8b\\xac\\xe7\\xbb\\x9f\\xe8\\xae\\xa1\\xe4\\xb8\\x80\\xe5\\x88\\x97\\xef\\xbc\\x9a', 4.5)\n",
      "-----\n",
      "a    2.5\n",
      "b    3.5\n",
      "c    3.0\n",
      "d    4.0\n",
      "e    5.5\n",
      "dtype: float64\n",
      "key1   NaN\n",
      "key2   NaN\n",
      "dtype: float64\n"
     ]
    }
   ],
   "source": [
    "# 基本参数：axis、skipna\n",
    "\n",
    "df = pd.DataFrame({'key1':[4,5,3,np.nan,6],\n",
    "                   'key2':[1,2,np.nan,4,5],\n",
    "                   'key3':[1,2,3,'j','k']},\n",
    "                 index=['a','b','c','d','e'])\n",
    "print(df)\n",
    "print(df['key1'].dtype,df['key2'].dtype,df['key3'].dtype)\n",
    "\n",
    "m1 = df.mean()\n",
    "print(m1,type(m1))\n",
    "print('单独统计一列：',df['key1'].mean())\n",
    "print('-----')\n",
    "'''\n",
    " np.nan ：空值\n",
    " .mean()计算均值\n",
    " 只统计数字列\n",
    " 可以通过索引单独统计一列\n",
    "\n",
    "'''\n",
    "m2 = df.mean(axis=1)                # axis参数：默认为0，以列来计算，axis=1，以行来计算，这里就按照行来汇总了\n",
    "print(m2)\n",
    "\n",
    "m3 = df.mean(skipna=False)          # skipna参数：是否忽略NaN，默认True，如False，有NaN的列统计结果仍未NaN\n",
    "print(m3)"
   ]
  },
  {
   "cell_type": "code",
   "execution_count": 21,
   "metadata": {},
   "outputs": [
    {
     "name": "stdout",
     "output_type": "stream",
     "text": [
      "   key1      key2\n",
      "0     0  0.037249\n",
      "1     1  6.006876\n",
      "2     2  0.784946\n",
      "3     3  3.440619\n",
      "4     4  6.812252\n",
      "5     5  8.716813\n",
      "6     6  2.415575\n",
      "7     7  0.557290\n",
      "8     8  3.873261\n",
      "9     9  4.571714\n",
      "key1    10\n",
      "key2    10\n",
      "dtype: int64\n",
      "key1    0.000000\n",
      "key2    0.037249\n",
      "dtype: float64\n",
      "key1    9.000000\n",
      "key2    8.716813\n",
      "dtype: float64\n",
      "key1    6.750000\n",
      "key2    5.648086\n",
      "Name: 0.75, dtype: float64\n",
      "key1    45.000000\n",
      "key2    37.216594\n",
      "dtype: float64\n",
      "key1    4.500000\n",
      "key2    3.721659\n",
      "dtype: float64\n",
      "key1    4.50000\n",
      "key2    3.65694\n",
      "dtype: float64\n",
      "key1    3.027650\n",
      "key2    2.876502\n",
      "dtype: float64\n",
      "key1    9.166667\n",
      "key2    8.274261\n",
      "dtype: float64\n",
      "key1    0.000000\n",
      "key2    0.335134\n",
      "dtype: float64\n",
      "key1   -1.200000\n",
      "key2   -0.821614\n",
      "dtype: float64\n"
     ]
    }
   ],
   "source": [
    "# 主要数学计算方法，可用于Series和DataFrame（1）\n",
    "\n",
    "df = pd.DataFrame({'key1':np.arange(10),\n",
    "                   'key2':np.random.rand(10)*10})\n",
    "print(df)\n",
    "\n",
    "print(df.count())              # count统计非Na值的数量\n",
    "print(df.min())                # min统计每列最小值\n",
    "print(df.max())                # max统计每列最大值\n",
    "print(df.quantile(q=0.75))     # quantile统计分位数，参数q确定位置\n",
    "print(df.sum())                # sum按列求和\n",
    "print(df.mean())               # mean按列求平均\n",
    "print(df.median())             # median按列求中位数\n",
    "print(df.std())                # std标准差\n",
    "print(df.var())                # var方差\n",
    "print(df.skew())               # skew样本的偏度\n",
    "print(df.kurt())               # kurt样本的峰度"
   ]
  },
  {
   "cell_type": "code",
   "execution_count": 26,
   "metadata": {},
   "outputs": [
    {
     "name": "stdout",
     "output_type": "stream",
     "text": [
      "   key1      key2  key1_s     key2_s  key1_p      key2_p\n",
      "0     0  0.037249       0   0.037249       0    0.037249\n",
      "1     1  6.006876       1   6.044125       0    0.223751\n",
      "2     2  0.784946       3   6.829072       0    0.175632\n",
      "3     3  3.440619       6  10.269690       0    0.604284\n",
      "4     4  6.812252      10  17.081942       0    4.116538\n",
      "5     5  8.716813      15  25.798755       0   35.883091\n",
      "6     6  2.415575      21  28.214330       0   86.678282\n",
      "7     7  0.557290      28  28.771620       0   48.304936\n",
      "8     8  3.873261      36  32.644880       0  187.097605\n",
      "9     9  4.571714      45  37.216594       0  855.356723\n",
      "   key1      key2  key1_s     key2_s  key1_p      key2_p\n",
      "0     0  0.037249       0   0.037249       0    0.037249\n",
      "1     1  6.006876       1   6.044125       0    0.223751\n",
      "2     2  0.784946       3   6.829072       0    0.175632\n",
      "3     3  3.440619       6  10.269690       0    0.604284\n",
      "4     4  6.812252      10  17.081942       0    4.116538\n",
      "5     5  8.716813      15  25.798755       0   35.883091\n",
      "6     6  2.415575      21  28.214330       0   86.678282\n",
      "7     7  0.557290      28  28.771620       0   48.304936\n",
      "8     8  3.873261      36  32.644880       0  187.097605\n",
      "9     9  4.571714      45  37.216594       0  855.356723\n",
      "   key1      key2  key1_s     key2_s  key1_p      key2_p\n",
      "0   0.0  0.037249     0.0   0.037249     0.0    0.037249\n",
      "1   1.0  6.006876     1.0   6.044125     0.0    0.223751\n",
      "2   2.0  6.006876     3.0   6.829072     0.0    0.223751\n",
      "3   3.0  6.006876     6.0  10.269690     0.0    0.604284\n",
      "4   4.0  6.812252    10.0  17.081942     0.0    4.116538\n",
      "5   5.0  8.716813    15.0  25.798755     0.0   35.883091\n",
      "6   6.0  8.716813    21.0  28.214330     0.0   86.678282\n",
      "7   7.0  8.716813    28.0  28.771620     0.0   86.678282\n",
      "8   8.0  8.716813    36.0  32.644880     0.0  187.097605\n",
      "9   9.0  8.716813    45.0  37.216594     0.0  855.356723\n",
      "   key1      key2  key1_s    key2_s  key1_p    key2_p\n",
      "0   0.0  0.037249     0.0  0.037249     0.0  0.037249\n",
      "1   0.0  0.037249     0.0  0.037249     0.0  0.037249\n",
      "2   0.0  0.037249     0.0  0.037249     0.0  0.037249\n",
      "3   0.0  0.037249     0.0  0.037249     0.0  0.037249\n",
      "4   0.0  0.037249     0.0  0.037249     0.0  0.037249\n",
      "5   0.0  0.037249     0.0  0.037249     0.0  0.037249\n",
      "6   0.0  0.037249     0.0  0.037249     0.0  0.037249\n",
      "7   0.0  0.037249     0.0  0.037249     0.0  0.037249\n",
      "8   0.0  0.037249     0.0  0.037249     0.0  0.037249\n",
      "9   0.0  0.037249     0.0  0.037249     0.0  0.037249\n"
     ]
    }
   ],
   "source": [
    "# 主要数学计算方法，可用于Series和DataFrame（2）\n",
    "\n",
    "df['key1_s'] = df['key1'].cumsum()         # 样本的累积和\n",
    "df['key2_s'] = df['key2'].cumsum()\n",
    "print(df)\n",
    "df['key1_p'] = df['key1'].cumprod()        # 样本的累积积\n",
    "df['key2_p'] = df['key2'].cumprod()\n",
    "print(df)\n",
    "print(df.cummax())       # cummax,cummin分别求累计最大值，累计最小值\n",
    "print(df.cummin())"
   ]
  },
  {
   "cell_type": "code",
   "execution_count": 28,
   "metadata": {},
   "outputs": [
    {
     "name": "stdout",
     "output_type": "stream",
     "text": [
      "0     a\n",
      "1     s\n",
      "2     d\n",
      "3     v\n",
      "4     a\n",
      "5     s\n",
      "6     d\n",
      "7     c\n",
      "8     f\n",
      "9     g\n",
      "10    g\n",
      "dtype: object\n",
      "(array(['a', 's', 'd', 'v', 'c', 'f', 'g'], dtype=object), <type 'numpy.ndarray'>)\n",
      "['a' 'c' 'd' 'f' 'g' 's' 'v']\n"
     ]
    }
   ],
   "source": [
    "# 唯一值：.unique()\n",
    "\n",
    "s = pd.Series(list('asdvasdcfgg'))\n",
    "sq = s.unique()                        # 得到一个唯一值数组\n",
    "print(s)\n",
    "print(sq,type(sq))                    # 通过pd.Series重新变成新的Series\n",
    "sq.sort()                              # 重新排序\n",
    "print(sq)"
   ]
  },
  {
   "cell_type": "code",
   "execution_count": 29,
   "metadata": {},
   "outputs": [
    {
     "name": "stdout",
     "output_type": "stream",
     "text": [
      "a    2\n",
      "s    2\n",
      "d    2\n",
      "g    2\n",
      "f    1\n",
      "v    1\n",
      "c    1\n",
      "dtype: int64\n"
     ]
    }
   ],
   "source": [
    "# 值计数：.value_counts()\n",
    "\n",
    "sc = s.value_counts(sort=False)        # 得到一个新的Series，计算出不同值出现的频率\n",
    "print(sc)                             # sort参数：排序，默认为True\n"
   ]
  },
  {
   "cell_type": "code",
   "execution_count": 32,
   "metadata": {},
   "outputs": [
    {
     "name": "stdout",
     "output_type": "stream",
     "text": [
      "0    10\n",
      "1    11\n",
      "2    12\n",
      "3    13\n",
      "4    14\n",
      "dtype: int32\n",
      "  key1  key2\n",
      "0    a     4\n",
      "1    s     5\n",
      "2    d     6\n",
      "3    c     7\n",
      "4    b     8\n",
      "5    v     9\n",
      "6    a    10\n",
      "7    s    11\n",
      "8    d    12\n",
      "------\n",
      "0    False\n",
      "1    False\n",
      "2    False\n",
      "3    False\n",
      "4     True\n",
      "dtype: bool\n",
      "    key1   key2\n",
      "0   True  False\n",
      "1  False  False\n",
      "2  False  False\n",
      "3  False  False\n",
      "4  False   True\n",
      "5  False  False\n",
      "6   True  False\n",
      "7  False  False\n",
      "8  False  False\n"
     ]
    }
   ],
   "source": [
    "# 成员资格：.isin()\n",
    "\n",
    "s = pd.Series(np.arange(10,15))\n",
    "df = pd.DataFrame({'key1':list('asdcbvasd'),\n",
    "                   'key2':np.arange(4,13)})\n",
    "print(s)\n",
    "print(df)\n",
    "print('------')\n",
    "print(s.isin([5,14]))                          # 用[]表示\n",
    "print(df.isin(['a','bc','10',8]))              # 得到一个布尔值的Series或者Dataframe  "
   ]
  },
  {
   "cell_type": "markdown",
   "metadata": {},
   "source": [
    "\t作业1：如图创建一个Dataframe（5*2，值为0-100的随机值），并分别计算key1和key2的均值、中位数、累积和\n",
    "\n",
    "\t作业2：写出一个输入元素直接生成数组的代码块，然后创建一个函数，该函数功能用于判断一个Series是否是唯一值数组，返回“是”和“不是”"
   ]
  },
  {
   "cell_type": "code",
   "execution_count": 38,
   "metadata": {},
   "outputs": [
    {
     "name": "stdout",
     "output_type": "stream",
     "text": [
      "        key1       key2\n",
      "0  82.433504  57.998218\n",
      "1   5.892259  70.475357\n",
      "2  17.707734  63.328373\n",
      "3  72.987223  21.511988\n",
      "4  43.279742  70.708165\n",
      "(\"df['key1']\\xe7\\x9a\\x84\\xe5\\x9d\\x87\\xe5\\x80\\xbc:\", 44.46009260115454)\n",
      "(\"df['key1']\\xe7\\x9a\\x84\\xe4\\xb8\\xad\\xe4\\xbd\\x8d\\xe6\\x95\\xb0:\", 43.27974220008629)\n",
      "(\"df['key2']\\xe7\\x9a\\x84\\xe5\\x9d\\x87\\xe5\\x80\\xbc:\", 56.80442014823647)\n",
      "(\"df['key2']\\xe7\\x9a\\x84\\xe4\\xb8\\xad\\xe4\\xbd\\x8d\\xe6\\x95\\xb0:\", 63.3283733398524)\n",
      "('\\xe5\\x90\\x88\\xe5\\xb9\\xb6\\xe5\\x90\\x8e\\xe7\\x9a\\x84df:',         key1       key2  key1_cumsum  key2_cumsum\n",
      "0  82.433504  57.998218    82.433504    57.998218\n",
      "1   5.892259  70.475357    88.325763   128.473575\n",
      "2  17.707734  63.328373   106.033498   191.801948\n",
      "3  72.987223  21.511988   179.020721   213.313936\n",
      "4  43.279742  70.708165   222.300463   284.022101)\n"
     ]
    }
   ],
   "source": [
    "df = pd.DataFrame(np.random.rand(5,2)*100,\n",
    "                 columns=['key1','key2'])\n",
    "print(df)\n",
    "print(\"df['key1']的均值:\",df['key1'].mean())\n",
    "print(\"df['key1']的中位数:\",df['key1'].median())\n",
    "print(\"df['key2']的均值:\",df['key2'].mean())\n",
    "print(\"df['key2']的中位数:\",df['key2'].median())\n",
    "df['key1_cumsum'] = df['key1'].cumsum()\n",
    "df['key2_cumsum'] = df['key2'].cumsum()\n",
    "print('合并后的df:',df)"
   ]
  },
  {
   "cell_type": "code",
   "execution_count": 42,
   "metadata": {},
   "outputs": [
    {
     "name": "stdout",
     "output_type": "stream",
     "text": [
      "璇烽殢鏈鸿緭鍏ヤ竴缁勫厓绱狅紝鐢ㄩ�鍙凤紙鑻辨枃绗﹀彿锛夐殧寮�細\n",
      "a,sc,2,2,2,d,s,s,a\n"
     ]
    },
    {
     "ename": "NameError",
     "evalue": "name 'a' is not defined",
     "output_type": "error",
     "traceback": [
      "\u001b[1;31m---------------------------------------------------------------------------\u001b[0m",
      "\u001b[1;31mNameError\u001b[0m                                 Traceback (most recent call last)",
      "\u001b[1;32m<ipython-input-42-118cf2f2a52c>\u001b[0m in \u001b[0;36m<module>\u001b[1;34m()\u001b[0m\n\u001b[0;32m      7\u001b[0m \u001b[1;33m\u001b[0m\u001b[0m\n\u001b[0;32m      8\u001b[0m \u001b[1;33m\u001b[0m\u001b[0m\n\u001b[1;32m----> 9\u001b[1;33m \u001b[0md\u001b[0m \u001b[1;33m=\u001b[0m \u001b[0minput\u001b[0m\u001b[1;33m(\u001b[0m\u001b[1;34m'请随机输入一组元素，用逗号（英文符号）隔开：\\n'\u001b[0m\u001b[1;33m)\u001b[0m\u001b[1;33m\u001b[0m\u001b[0m\n\u001b[0m\u001b[0;32m     10\u001b[0m \u001b[0mlst\u001b[0m \u001b[1;33m=\u001b[0m \u001b[0md\u001b[0m\u001b[1;33m.\u001b[0m\u001b[0msplit\u001b[0m\u001b[1;33m(\u001b[0m\u001b[1;34m','\u001b[0m\u001b[1;33m)\u001b[0m\u001b[1;33m\u001b[0m\u001b[0m\n\u001b[0;32m     11\u001b[0m \u001b[0mds\u001b[0m \u001b[1;33m=\u001b[0m \u001b[0mpd\u001b[0m\u001b[1;33m.\u001b[0m\u001b[0mSeries\u001b[0m\u001b[1;33m(\u001b[0m\u001b[0mlst\u001b[0m\u001b[1;33m)\u001b[0m\u001b[1;33m\u001b[0m\u001b[0m\n",
      "\u001b[1;32mD:\\Anaconda\\lib\\site-packages\\ipykernel\\ipkernel.pyc\u001b[0m in \u001b[0;36m<lambda>\u001b[1;34m(prompt)\u001b[0m\n\u001b[0;32m    162\u001b[0m             \u001b[0mself\u001b[0m\u001b[1;33m.\u001b[0m\u001b[0m_sys_eval_input\u001b[0m \u001b[1;33m=\u001b[0m \u001b[0mbuiltin_mod\u001b[0m\u001b[1;33m.\u001b[0m\u001b[0minput\u001b[0m\u001b[1;33m\u001b[0m\u001b[0m\n\u001b[0;32m    163\u001b[0m             \u001b[0mbuiltin_mod\u001b[0m\u001b[1;33m.\u001b[0m\u001b[0mraw_input\u001b[0m \u001b[1;33m=\u001b[0m \u001b[0mself\u001b[0m\u001b[1;33m.\u001b[0m\u001b[0mraw_input\u001b[0m\u001b[1;33m\u001b[0m\u001b[0m\n\u001b[1;32m--> 164\u001b[1;33m             \u001b[0mbuiltin_mod\u001b[0m\u001b[1;33m.\u001b[0m\u001b[0minput\u001b[0m \u001b[1;33m=\u001b[0m \u001b[1;32mlambda\u001b[0m \u001b[0mprompt\u001b[0m\u001b[1;33m=\u001b[0m\u001b[1;34m''\u001b[0m\u001b[1;33m:\u001b[0m \u001b[0meval\u001b[0m\u001b[1;33m(\u001b[0m\u001b[0mself\u001b[0m\u001b[1;33m.\u001b[0m\u001b[0mraw_input\u001b[0m\u001b[1;33m(\u001b[0m\u001b[0mprompt\u001b[0m\u001b[1;33m)\u001b[0m\u001b[1;33m)\u001b[0m\u001b[1;33m\u001b[0m\u001b[0m\n\u001b[0m\u001b[0;32m    165\u001b[0m         \u001b[0mself\u001b[0m\u001b[1;33m.\u001b[0m\u001b[0m_save_getpass\u001b[0m \u001b[1;33m=\u001b[0m \u001b[0mgetpass\u001b[0m\u001b[1;33m.\u001b[0m\u001b[0mgetpass\u001b[0m\u001b[1;33m\u001b[0m\u001b[0m\n\u001b[0;32m    166\u001b[0m         \u001b[0mgetpass\u001b[0m\u001b[1;33m.\u001b[0m\u001b[0mgetpass\u001b[0m \u001b[1;33m=\u001b[0m \u001b[0mself\u001b[0m\u001b[1;33m.\u001b[0m\u001b[0mgetpass\u001b[0m\u001b[1;33m\u001b[0m\u001b[0m\n",
      "\u001b[1;32mD:\\Anaconda\\lib\\site-packages\\ipykernel\\ipkernel.pyc\u001b[0m in \u001b[0;36m<module>\u001b[1;34m()\u001b[0m\n",
      "\u001b[1;31mNameError\u001b[0m: name 'a' is not defined"
     ]
    }
   ],
   "source": [
    "def f(s):\n",
    "    s2 = s.unique()\n",
    "    if len(s) == len(s2):\n",
    "        print('该数组是唯一值数组')\n",
    "    else:\n",
    "         print('该数组不是唯一值数组')\n",
    "            \n",
    "d = input('请输入一个数组,以，分割:\\n')\n",
    "lst = d.split(',')\n",
    "p_lst = pd.Series(lst)\n",
    "f(p_lst)\n"
   ]
  },
  {
   "cell_type": "code",
   "execution_count": null,
   "metadata": {
    "collapsed": true
   },
   "outputs": [],
   "source": []
  }
 ],
 "metadata": {
  "kernelspec": {
   "display_name": "Python 2",
   "language": "python",
   "name": "python2"
  },
  "language_info": {
   "codemirror_mode": {
    "name": "ipython",
    "version": 2
   },
   "file_extension": ".py",
   "mimetype": "text/x-python",
   "name": "python",
   "nbconvert_exporter": "python",
   "pygments_lexer": "ipython2",
   "version": "2.7.13"
  }
 },
 "nbformat": 4,
 "nbformat_minor": 2
}
