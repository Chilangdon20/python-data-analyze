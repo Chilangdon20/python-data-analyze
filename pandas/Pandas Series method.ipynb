{
 "cells": [
  {
   "cell_type": "markdown",
   "metadata": {},
   "source": [
    "'''\n",
    "【课程2.4】  Pandas数据结构Series：基本技巧\n",
    "\n",
    "数据查看 / 重新索引 / 对齐 / 添加、修改、删除值\n",
    "\n",
    "'''"
   ]
  },
  {
   "cell_type": "code",
   "execution_count": 3,
   "metadata": {},
   "outputs": [],
   "source": [
    "import pandas as pd\n",
    "import numpy as np\n",
    "\n"
   ]
  },
  {
   "cell_type": "code",
   "execution_count": 4,
   "metadata": {},
   "outputs": [
    {
     "name": "stdout",
     "output_type": "stream",
     "text": [
      "0    0.998578\n",
      "1    0.563725\n",
      "2    0.719826\n",
      "3    0.609066\n",
      "4    0.171146\n",
      "5    0.012403\n",
      "6    0.335272\n",
      "7    0.689977\n",
      "8    0.576255\n",
      "9    0.311683\n",
      "dtype: float64\n",
      "45    0.470308\n",
      "46    0.731093\n",
      "47    0.154625\n",
      "48    0.573938\n",
      "49    0.352212\n",
      "dtype: float64\n"
     ]
    }
   ],
   "source": [
    "# 数据查看\n",
    "\n",
    "s = pd.Series(np.random.rand(50))\n",
    "print(s.head(10))                              # .head()查看头部数据,\n",
    "print(s.tail())                                # .tail()查看尾部数据\n",
    "                                               # 默认查看5调数据,可以进行更改"
   ]
  },
  {
   "cell_type": "code",
   "execution_count": 9,
   "metadata": {},
   "outputs": [
    {
     "name": "stdout",
     "output_type": "stream",
     "text": [
      "a    0.876272\n",
      "b    0.083881\n",
      "c    0.742705\n",
      "dtype: float64\n",
      "c    0.742705\n",
      "d         NaN\n",
      "a    0.876272\n",
      "b    0.083881\n",
      "dtype: float64\n",
      "c    0.742705\n",
      "d    0.000000\n",
      "a    0.876272\n",
      "b    0.083881\n",
      "dtype: float64\n"
     ]
    }
   ],
   "source": [
    "# 重新索引reindex\n",
    "\n",
    "s = pd.Series(np.random.rand(3),index=list('abc'))\n",
    "print(s)\n",
    "s1 = s.reindex(['c','d','a','b'])                  # .reindex将会根据索引重新排序，如果当前索引不存在，则引入缺失值\n",
    "print(s1)\n",
    "\n",
    "s2 = s.reindex(['c','d','a','b'],fill_value=0)     # fill_value参数：填充缺失值的值\n",
    "print(s2)"
   ]
  },
  {
   "cell_type": "code",
   "execution_count": 10,
   "metadata": {},
   "outputs": [
    {
     "name": "stdout",
     "output_type": "stream",
     "text": [
      "Jack     0.231875\n",
      "Marry    0.821655\n",
      "Tom      0.136299\n",
      "dtype: float64\n",
      "Wang     0.141094\n",
      "Jack     0.030777\n",
      "Marry    0.890564\n",
      "dtype: float64\n",
      "Jack     0.262652\n",
      "Marry    1.712219\n",
      "Tom           NaN\n",
      "Wang          NaN\n",
      "dtype: float64\n"
     ]
    }
   ],
   "source": [
    "# Series对齐\n",
    "\n",
    "s1 = pd.Series(np.random.rand(3),index=['Jack','Marry','Tom'])\n",
    "s2 = pd.Series(np.random.rand(3),index=['Wang','Jack','Marry'])\n",
    "print(s1)\n",
    "print(s2)\n",
    "print(s1+s2)\n",
    "\n",
    "'''\n",
    " Series 和 ndarray 之间的主要区别是，Series 上的操作会根据标签自动对齐\n",
    " index顺序不会影响数值计算，以标签来计算\n",
    " 空值和任何值计算结果扔为空值\n",
    "\n",
    "'''"
   ]
  },
  {
   "cell_type": "code",
   "execution_count": 14,
   "metadata": {},
   "outputs": [
    {
     "name": "stdout",
     "output_type": "stream",
     "text": [
      "n    0.097968\n",
      "g    0.176538\n",
      "j    0.663007\n",
      "u    0.143938\n",
      "r    0.579524\n",
      "dtype: float64\n",
      "g    0.176538\n",
      "j    0.663007\n",
      "u    0.143938\n",
      "r    0.579524\n",
      "dtype: float64\n",
      "None\n",
      "u    0.143938\n",
      "r    0.579524\n",
      "dtype: float64\n",
      "g    0.176538\n",
      "j    0.663007\n",
      "u    0.143938\n",
      "r    0.579524\n",
      "dtype: float64\n"
     ]
    }
   ],
   "source": [
    "# 删除：.drop\n",
    "\n",
    "s = pd.Series(np.random.rand(5),index=list('ngjur'))\n",
    "print(s)\n",
    "\n",
    "s1 = s.drop('n',inplace=True)    # .drop()删除元素之后返回副本\n",
    "s2 = s.drop(['g','j'])           # (inplace=False)表示不替换原有的序列\n",
    "print(s)\n",
    "print(s1)\n",
    "print(s2)\n",
    "print(s)"
   ]
  },
  {
   "cell_type": "code",
   "execution_count": 16,
   "metadata": {},
   "outputs": [
    {
     "name": "stdout",
     "output_type": "stream",
     "text": [
      "0    0.527558\n",
      "1    0.572404\n",
      "2    0.859919\n",
      "3    0.684130\n",
      "4    0.697772\n",
      "dtype: float64\n",
      "n    0.954272\n",
      "g    0.587054\n",
      "j    0.580921\n",
      "u    0.514328\n",
      "r    0.066339\n",
      "dtype: float64\n",
      "0      0.527558\n",
      "1      0.572404\n",
      "2      0.859919\n",
      "3      0.684130\n",
      "4      0.697772\n",
      "5    100.000000\n",
      "dtype: float64\n",
      "n      0.954272\n",
      "g      0.587054\n",
      "j      0.580921\n",
      "u      0.514328\n",
      "r      0.066339\n",
      "a    100.000000\n",
      "dtype: float64\n",
      "0      0.527558\n",
      "1      0.572404\n",
      "2      0.859919\n",
      "3      0.684130\n",
      "4      0.697772\n",
      "5    100.000000\n",
      "n      0.954272\n",
      "g      0.587054\n",
      "j      0.580921\n",
      "u      0.514328\n",
      "r      0.066339\n",
      "a    100.000000\n",
      "dtype: float64\n",
      "0      0.527558\n",
      "1      0.572404\n",
      "2      0.859919\n",
      "3      0.684130\n",
      "4      0.697772\n",
      "5    100.000000\n",
      "dtype: float64\n"
     ]
    }
   ],
   "source": [
    "# 添加\n",
    "\n",
    "s1 = pd.Series(np.random.rand(5))\n",
    "s2 = pd.Series(np.random.rand(5),index=list('ngjur'))\n",
    "print(s1)\n",
    "print(s2)\n",
    "\n",
    "s1[5] = 100                          #  直接通过下标索引/标签index添加值\n",
    "s2['a'] = 100\n",
    "print(s1)\n",
    "print(s2)\n",
    "\n",
    "s3 = s1.append(s2)                   # 通过.append方法，直接添加一个数组\n",
    "print(s3)                            \n",
    "print(s1)                            # .append方法生成一个新的数组，不改变之前的数组"
   ]
  },
  {
   "cell_type": "code",
   "execution_count": 17,
   "metadata": {},
   "outputs": [
    {
     "name": "stdout",
     "output_type": "stream",
     "text": [
      "a    0.750399\n",
      "b    0.286998\n",
      "c    0.243578\n",
      "dtype: float64\n",
      "a    100.0\n",
      "b    200.0\n",
      "c    200.0\n",
      "dtype: float64\n"
     ]
    }
   ],
   "source": [
    "# 修改\n",
    "\n",
    "s = pd.Series(np.random.rand(3),index=['a','b','c'])\n",
    "print(s)\n",
    "s['a'] = 100                          # 通过索引直接修改，类似序列\n",
    "s[['b','c']] = 200\n",
    "print(s)"
   ]
  },
  {
   "cell_type": "markdown",
   "metadata": {},
   "source": [
    "作业1：如图创建Series，并按照要求修改得到结果\n",
    "\n",
    "作业2：已有s1，s2（值为0-10的随机数），请求出s1+s2的值"
   ]
  },
  {
   "cell_type": "code",
   "execution_count": 22,
   "metadata": {},
   "outputs": [
    {
     "name": "stdout",
     "output_type": "stream",
     "text": [
      "a    0\n",
      "b    1\n",
      "c    2\n",
      "d    3\n",
      "e    4\n",
      "f    5\n",
      "g    6\n",
      "h    7\n",
      "i    8\n",
      "j    9\n",
      "dtype: int32\n",
      "修改后的值: a    100\n",
      "c      2\n",
      "d      3\n",
      "e    100\n",
      "f    100\n",
      "g      6\n",
      "h      7\n",
      "i      8\n",
      "j      9\n",
      "dtype: int32\n"
     ]
    }
   ],
   "source": [
    "s = pd.Series(np.array([0,1,2,3,4,5,6,7,8,9]),index=list('abcdefghij'))\n",
    "print(s)\n",
    "s[['a','e','f']] = 100\n",
    "s.drop('b',inplace=True)\n",
    "print(f'修改后的值:',s)"
   ]
  },
  {
   "cell_type": "code",
   "execution_count": 23,
   "metadata": {},
   "outputs": [
    {
     "name": "stdout",
     "output_type": "stream",
     "text": [
      "两数相加 a         NaN\n",
      "b         NaN\n",
      "c    5.070179\n",
      "d    8.862964\n",
      "e    9.372045\n",
      "f         NaN\n",
      "g         NaN\n",
      "dtype: float64\n"
     ]
    }
   ],
   "source": [
    "s1 = pd.Series(np.random.rand(5)*10,index=list('abcde'))\n",
    "s2 = pd.Series(np.random.rand(5)*10,index=list('cdefg'))\n",
    "print(s1)\n",
    "print(s2)\n",
    "print('两数相加',s1+s2)"
   ]
  },
  {
   "cell_type": "code",
   "execution_count": null,
   "metadata": {},
   "outputs": [],
   "source": []
  }
 ],
 "metadata": {
  "kernelspec": {
   "display_name": "Python 3",
   "language": "python",
   "name": "python3"
  },
  "language_info": {
   "codemirror_mode": {
    "name": "ipython",
    "version": 3
   },
   "file_extension": ".py",
   "mimetype": "text/x-python",
   "name": "python",
   "nbconvert_exporter": "python",
   "pygments_lexer": "ipython3",
   "version": "3.6.5"
  }
 },
 "nbformat": 4,
 "nbformat_minor": 2
}
