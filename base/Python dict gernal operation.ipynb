{
 "cells": [
  {
   "cell_type": "code",
   "execution_count": 1,
   "metadata": {},
   "outputs": [
    {
     "data": {
      "text/plain": [
       "'\\n【课程4.1】  字典dict基本概念\\n\\n字典是另一种可变容器模型，且可存储任意类型对象。\\n字典的每个键值(key=>value)对用冒号(:)分割，每个对之间用逗号(,)分割，整个字典包括在花括号({})中 \\n\\n键必须是唯一的，但值则不必。\\n\\n'"
      ]
     },
     "execution_count": 1,
     "metadata": {},
     "output_type": "execute_result"
    }
   ],
   "source": [
    "'''\n",
    "【课程4.1】  字典dict基本概念\n",
    "\n",
    "字典是另一种可变容器模型，且可存储任意类型对象。\n",
    "字典的每个键值(key=>value)对用冒号(:)分割，每个对之间用逗号(,)分割，整个字典包括在花括号({})中 \n",
    "\n",
    "键必须是唯一的，但值则不必。\n",
    "\n",
    "'''"
   ]
  },
  {
   "cell_type": "code",
   "execution_count": 3,
   "metadata": {},
   "outputs": [
    {
     "name": "stdout",
     "output_type": "stream",
     "text": [
      "{'tom': 6, 'jack': 18, 'alice': 23} <class 'dict'>\n",
      "[{'name': 'tom', 'age': 18}, {'name': 'jack', 'age': 20}, {'name': 'alice', 'age': 23}]\n"
     ]
    }
   ],
   "source": [
    "# 什么是映射？什么是字典dict？\n",
    "\n",
    "# 虽然序列是有序的,但不能把姓名和年龄一一关联起来,它们只是顺序上的对应关系\n",
    "name = ['tom','jack','alice']\n",
    "age = [6,18,23]\n",
    "\n",
    "# 用{}来表示，按照key：value来表示字典中的元素，其中key是键，value是值，key-value也就是键值对\n",
    "dic = {'tom':6,'jack':18,'alice':23}\n",
    "print(dic,type(dic))\n",
    "\n",
    "# 以一个列表来包含多个字典,是一种常见的数据格式\n",
    "dic = [{'name':'tom','age':18},{'name':'jack','age':20},{'name':'alice','age':23}]\n",
    "print(dic)\n",
    "\n"
   ]
  },
  {
   "cell_type": "code",
   "execution_count": 10,
   "metadata": {},
   "outputs": [
    {
     "name": "stdout",
     "output_type": "stream",
     "text": [
      "{'a': 2}\n",
      "{'var1': 1, 'var2': 'hello', 'var3': [1, 2, 3], 'var4': {'a': 1, 'b': 2}}\n",
      "{'var2': 'hello', 'var3': [1, 2, 3], 'var4': 'update value', 'var5': 'add value'}\n",
      "{}\n"
     ]
    }
   ],
   "source": [
    "# 字典的特点\n",
    "\n",
    "# 以键值对的形式共同出现,不能只出现一个\n",
    "dic = {'a':1,'b':2,'c':3}\n",
    "\n",
    "# 如果一个key被赋值2次,第二次的值生效\n",
    "dic = {'a':1,'a':2}\n",
    "print(dic)\n",
    "\n",
    "# key必须是不可变的对象,value可以为任意对象\n",
    "dic = {'var1':1,'var2':'hello','var3':[1,2,3],'var4':{'a':1,'b':2}}\n",
    "print(dic)\n",
    "\n",
    "# 字典是一个无序的数据结构,序列由于没有key来对应,所以序列中的元素是有序的\n",
    "# 序列中的元素是有序的,字典中的元素是无序的\n",
    "\n",
    "dic['var5'] = 'add value'         #添加值\n",
    "dic['var4'] = 'update value'      #修改值\n",
    "\n",
    "del dic['var1']                   #删除值\n",
    "\n",
    "print(dic)\n",
    "\n",
    "dic.clear()                       #清空key和value,但保留dict对象\n",
    "print(dic)\n",
    "\n",
    "del dic                           #删除dict对象 \n"
   ]
  },
  {
   "cell_type": "code",
   "execution_count": 14,
   "metadata": {},
   "outputs": [
    {
     "name": "stdout",
     "output_type": "stream",
     "text": [
      "{'m': 10, 'n': 'aa', 'h': [1, 2, 3]}\n",
      "{'a': 'fff', 'b': 'ggg'} {'c': 1, 'd': 2} {'e': [1, 2], 'f': [3, 4]}\n",
      "{'a': None, 'b': None, 'c': None} {'a': 'hello', 'b': 'hello', 'c': 'hello'}\n"
     ]
    }
   ],
   "source": [
    "# 申明一个字典\n",
    "\n",
    "# 直接手动去书写一个字典对象\n",
    "dic = {'a':1,'b':2}\n",
    "\n",
    "# 使用dict()函数,生成字典\n",
    "dic = dict(m=10,n='aa',h=[1,2,3])\n",
    "print(dic)\n",
    "\n",
    "# dict()是将list或者tuple生成一个字典的函数\n",
    "lst1 = [('a','fff'),('b','ggg')]\n",
    "lst2 = [['c',1],['d',2]]\n",
    "lst3 = [('e',[1,2]),('f',[3,4])]\n",
    "dic1 = dict(lst1)\n",
    "dic2 = dict(lst2)\n",
    "dic3 = dict(lst3)\n",
    "print(dic1,dic2,dic3)\n",
    "\n",
    "# 可以根据key来生成字典\n",
    "keys = ['a','b','c']\n",
    "dic1 = dict.fromkeys(keys)\n",
    "dic2 = dict.fromkeys(keys,'hello')\n",
    "print(dic1,dic2)"
   ]
  },
  {
   "cell_type": "markdown",
   "metadata": {},
   "source": [
    "小作业\n",
    "① 用dict函数的时候，和直接申明一个字典，操作上什么区别？\n",
    "② 用dict()函数从序列创建字典的时候，对序列有要求吗？必须是列表吗？\n",
    "③ 字典是无序的，强化一下\n",
    "④ 以dict()函数生成一个人的成绩单，包括语文，数学，外语，物理，化学几个元素"
   ]
  },
  {
   "cell_type": "code",
   "execution_count": 20,
   "metadata": {},
   "outputs": [
    {
     "name": "stdout",
     "output_type": "stream",
     "text": [
      "{'a': 1, 'b': 2, 'c': 3} {'m': 10, 'n': [1, 2, 4], 'o': 'hello'}\n",
      "{'literature': 88, 'math': 90, 'english': 89, 'physics': 96, 'chemistry': 95}\n"
     ]
    }
   ],
   "source": [
    "d1 = {'a':1,'b':2,'c':3}\n",
    "d2 = dict(m=10,n=[1,2,4],o='hello')\n",
    "print(d1,d2)\n",
    "# 没有,既可以用列表也可以是元组\n",
    "\n",
    "score = dict(literature=88,math=90,english=89,physics=96,chemistry=95)\n",
    "print(score)"
   ]
  },
  {
   "cell_type": "code",
   "execution_count": 21,
   "metadata": {},
   "outputs": [
    {
     "data": {
      "text/plain": [
       "'\\n【课程4.2】  字典常用操作\\n\\n字典内置函数&方法\\n\\n'"
      ]
     },
     "execution_count": 21,
     "metadata": {},
     "output_type": "execute_result"
    }
   ],
   "source": [
    "'''\n",
    "【课程4.2】  字典常用操作\n",
    "\n",
    "字典内置函数&方法\n",
    "\n",
    "'''"
   ]
  },
  {
   "cell_type": "code",
   "execution_count": 26,
   "metadata": {},
   "outputs": [
    {
     "name": "stdout",
     "output_type": "stream",
     "text": [
      "{'a': 1, 'b': 2, 'c': 3, 'd': 4} {'c': 3, 'd': 4}\n",
      "{'m': 1, 'n': 2, 'p': 3, 'q': 4} {'m': 1, 'n': 2, 'p': 3, 'q': 4}\n",
      "{'m': 1, 'n': 2, 'p': 3, 'q': 4} {'m': 1, 'n': 2, 'p': 3}\n",
      "4\n",
      "True\n",
      "False\n"
     ]
    }
   ],
   "source": [
    "# 字典常用操作\n",
    "\n",
    "# update()方法,更新或合并一个字典,把第二个字典添加到第一个字典上,改变了第一个字典\n",
    "dic1 = {'a':1,'b':2}\n",
    "dic2 = {'c':3,'d':4}\n",
    "dic1.update(dic2)\n",
    "print(dic1,dic2)\n",
    "\n",
    "# 和序列类似,a,b指向同一个内存地址,是同一个对象\n",
    "a = {'m':1,'n':2,'p':3}\n",
    "b = a\n",
    "a.update({'q':4})\n",
    "print(a,b)\n",
    "\n",
    "# 使用copy()方法,复制一个新字典\n",
    "a = {'m':1,'n':2,'p':3}\n",
    "b = a.copy()\n",
    "a.update({'q':4})\n",
    "print(a,b)\n",
    "\n",
    "# 查看字典中元素的个数\n",
    "print(len(a))\n",
    "\n",
    "# \n",
    "print('m' in a)\n",
    "print(1 in a)"
   ]
  },
  {
   "cell_type": "code",
   "execution_count": 27,
   "metadata": {},
   "outputs": [
    {
     "data": {
      "text/plain": [
       "'\\n【课程4.3】  字典的元素访问及遍历\\n\\n如何读取字典？\\n\\n'"
      ]
     },
     "execution_count": 27,
     "metadata": {},
     "output_type": "execute_result"
    }
   ],
   "source": [
    "'''\n",
    "【课程4.3】  字典的元素访问及遍历\n",
    "\n",
    "如何读取字典？\n",
    "\n",
    "'''"
   ]
  },
  {
   "cell_type": "code",
   "execution_count": 35,
   "metadata": {},
   "outputs": [
    {
     "name": "stdout",
     "output_type": "stream",
     "text": [
      "1\n",
      "somewhere\n",
      "shop\n",
      "None nothing\n",
      "dict_keys(['name', 'city', 'information']) <class 'dict_keys'>\n",
      "['name', 'city', 'information']\n",
      "dict_values(['shop', 'shanghai', {'address': 'somewhere', 'num': 66663333}]) <class 'dict_values'>\n",
      "['shop', 'shanghai', {'address': 'somewhere', 'num': 66663333}]\n",
      "dict_items([('name', 'shop'), ('city', 'shanghai'), ('information', {'address': 'somewhere', 'num': 66663333})]) <class 'dict_items'>\n",
      "[('name', 'shop'), ('city', 'shanghai'), ('information', {'address': 'somewhere', 'num': 66663333})]\n"
     ]
    }
   ],
   "source": [
    "# 字典的元素访问\n",
    "\n",
    "# 只能根据key进行访问\n",
    "dic = {'a':1,'b':2,'c':3}\n",
    "print(dic['a'])\n",
    "\n",
    "\n",
    "# 对于嵌套字典,通过重复指向来输出\n",
    "poi = {'name':'shop', 'city':'shanghai', 'information':{'address':'somewhere', 'num':66663333}}\n",
    "print(poi['information']['address'])\n",
    "\n",
    "# 使用get方法,根据key来获取value,如果找不到key,返回None\n",
    "print(poi.get('name'))\n",
    "print(poi.get('type'),'nothing')\n",
    "\n",
    "# .keys()方法可以输出字典所有的key值,返回的是range()类型,可以用list()函数转换成列表\n",
    "print(poi.keys(),type(poi.keys()))\n",
    "print(list(poi.keys()))\n",
    "\n",
    "# .values()方法可以输出字典所有的value值\n",
    "print(poi.values(),type(poi.values()))\n",
    "print(list(poi.values()))\n",
    "\n",
    "# .items()方法可以输出字典中所有的元素\n",
    "print(poi.items(),type(poi.items()))\n",
    "print(list(poi.items()))"
   ]
  },
  {
   "cell_type": "code",
   "execution_count": 38,
   "metadata": {},
   "outputs": [
    {
     "name": "stdout",
     "output_type": "stream",
     "text": [
      "name\n",
      "city\n",
      "information\n",
      "shop\n",
      "shanghai\n",
      "{'address': 'somewhere', 'num': 66663333}\n",
      "key为:name,value为:shop\n",
      "key为:city,value为:shanghai\n",
      "key为:information,value为:{'address': 'somewhere', 'num': 66663333}\n"
     ]
    }
   ],
   "source": [
    "# 字典的元素遍历\n",
    "\n",
    "poi = {'name':'shop', 'city':'shanghai', 'information':{'address':'somewhere', 'num':66663333}}\n",
    "for key in poi.keys():\n",
    "    print(key)\n",
    "    \n",
    "for value in poi.values():\n",
    "    print(value)\n",
    "    \n",
    "for (k,v) in poi.items():\n",
    "    print('key为:%s,value为:%s'%(k,v))"
   ]
  },
  {
   "cell_type": "markdown",
   "metadata": {},
   "source": [
    "小作业\n",
    "① dict.keys()生成的是不是列表？\n",
    "② 如何判断一个value是否存在于字典中？"
   ]
  },
  {
   "cell_type": "code",
   "execution_count": null,
   "metadata": {},
   "outputs": [],
   "source": [
    "# 不是\n",
    "if 'nanjing' in poi.values()"
   ]
  }
 ],
 "metadata": {
  "kernelspec": {
   "display_name": "Python 3",
   "language": "python",
   "name": "python3"
  },
  "language_info": {
   "codemirror_mode": {
    "name": "ipython",
    "version": 3
   },
   "file_extension": ".py",
   "mimetype": "text/x-python",
   "name": "python",
   "nbconvert_exporter": "python",
   "pygments_lexer": "ipython3",
   "version": "3.6.5"
  }
 },
 "nbformat": 4,
 "nbformat_minor": 2
}
