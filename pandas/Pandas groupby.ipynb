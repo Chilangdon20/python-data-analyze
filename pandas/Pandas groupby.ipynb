{
 "cells": [
  {
   "cell_type": "code",
   "execution_count": 1,
   "metadata": {},
   "outputs": [
    {
     "data": {
      "text/plain": [
       "'\\n【课程2.19】  数据分组\\n\\n分组统计 - groupby功能\\n\\n① 根据某些条件将数据拆分成组\\n② 对每个组独立应用函数\\n③ 将结果合并到一个数据结构中\\n\\nDataframe在行（axis=0）或列（axis=1）上进行分组，将一个函数应用到各个分组并产生一个新值，然后函数执行结果被合并到最终的结果对象中。\\n\\ndf.groupby(by=None, axis=0, level=None, as_index=True, sort=True, group_keys=True, squeeze=False, **kwargs)\\n \\n'"
      ]
     },
     "execution_count": 1,
     "metadata": {},
     "output_type": "execute_result"
    }
   ],
   "source": [
    "'''\n",
    "【课程2.19】  数据分组\n",
    "\n",
    "分组统计 - groupby功能\n",
    "\n",
    "① 根据某些条件将数据拆分成组\n",
    "② 对每个组独立应用函数\n",
    "③ 将结果合并到一个数据结构中\n",
    "\n",
    "Dataframe在行（axis=0）或列（axis=1）上进行分组，将一个函数应用到各个分组并产生一个新值，然后函数执行结果被合并到最终的结果对象中。\n",
    "\n",
    "df.groupby(by=None, axis=0, level=None, as_index=True, sort=True, group_keys=True, squeeze=False, **kwargs)\n",
    " \n",
    "'''"
   ]
  },
  {
   "cell_type": "code",
   "execution_count": 2,
   "metadata": {},
   "outputs": [],
   "source": [
    "import numpy as np\n",
    "import pandas as pd"
   ]
  },
  {
   "cell_type": "code",
   "execution_count": 8,
   "metadata": {},
   "outputs": [
    {
     "name": "stdout",
     "output_type": "stream",
     "text": [
      "     A      B         C         D\n",
      "0  foo    one  0.351004  0.493030\n",
      "1  bar    one  0.812770  0.513972\n",
      "2  foo    two -1.694344 -0.804614\n",
      "3  bar  three  0.232556 -0.562579\n",
      "4  foo    two -1.358699 -1.282642\n",
      "5  bar    two -0.151048  0.384698\n",
      "6  foo    one -0.152109 -1.363812\n",
      "7  foo  three -0.123727 -0.361776\n",
      "------\n",
      "<pandas.core.groupby.groupby.DataFrameGroupBy object at 0x000002CE06C4BC18> <class 'pandas.core.groupby.groupby.DataFrameGroupBy'>\n",
      "            C         D\n",
      "A                      \n",
      "bar  0.298093  0.112031\n",
      "foo -0.595575 -0.663963 <class 'pandas.core.frame.DataFrame'> \n",
      " Index(['C', 'D'], dtype='object')\n",
      "                  C         D\n",
      "A   B                        \n",
      "bar one    0.812770  0.513972\n",
      "    three  0.232556 -0.562579\n",
      "    two   -0.151048  0.384698\n",
      "foo one    0.099447 -0.435391\n",
      "    three -0.123727 -0.361776\n",
      "    two   -1.526522 -1.043628 <class 'pandas.core.frame.DataFrame'> \n",
      " Index(['C', 'D'], dtype='object')\n",
      "A\n",
      "bar    0.112031\n",
      "foo   -0.663963\n",
      "Name: D, dtype: float64 <class 'pandas.core.series.Series'>\n"
     ]
    }
   ],
   "source": [
    "# 分组\n",
    "df = pd.DataFrame({'A' : ['foo', 'bar', 'foo', 'bar','foo', 'bar', 'foo', 'foo'],\n",
    "                   'B' : ['one', 'one', 'two', 'three', 'two', 'two', 'one', 'three'],\n",
    "                   'C' : np.random.randn(8),\n",
    "                   'D' : np.random.randn(8)})\n",
    "print(df)\n",
    "print('------')\n",
    "print(df.groupby('A'),type(df.groupby('A')))           # 直接分组得到一个groupby对象，是一个中间数据，没有进行计算\n",
    "\n",
    "a = df.groupby('A').mean()\n",
    "b = df.groupby(['A','B']).mean()                       # 可单个或多个（[]）列分组\n",
    "c = df.groupby('A')['D'].mean()                        # 以A分组，算D的平均值\n",
    "print(a,type(a),'\\n',a.columns)\n",
    "print(b,type(b),'\\n',b.columns)\n",
    "print(c,type(c))\n",
    "'''\n",
    " 通过分组后的计算，得到一个新的dataframe\n",
    " 默认axis = 0，以行来分组\n",
    "'''"
   ]
  },
  {
   "cell_type": "code",
   "execution_count": 18,
   "metadata": {},
   "outputs": [
    {
     "name": "stdout",
     "output_type": "stream",
     "text": [
      "   X  Y\n",
      "0  A  1\n",
      "1  B  4\n",
      "2  A  3\n",
      "3  B  2\n",
      "<pandas.core.groupby.groupby.DataFrameGroupBy object at 0x000002CE03C3DB70> <class 'pandas.core.groupby.groupby.DataFrameGroupBy'>\n",
      "[('A',    X  Y\n",
      "0  A  1\n",
      "2  A  3), ('B',    X  Y\n",
      "1  B  4\n",
      "3  B  2)]\n",
      "('A',    X  Y\n",
      "0  A  1\n",
      "2  A  3)\n",
      "A\n",
      "   X  Y\n",
      "0  A  1\n",
      "2  A  3\n",
      "-----\n",
      "B\n",
      "   X  Y\n",
      "1  B  4\n",
      "3  B  2\n",
      "-----\n",
      "   X  Y\n",
      "0  A  1\n",
      "2  A  3\n",
      "   X  Y\n",
      "1  B  4\n",
      "3  B  2\n",
      "{'A': Int64Index([0, 2], dtype='int64'), 'B': Int64Index([1, 3], dtype='int64')}\n",
      "X\n",
      "A    2\n",
      "B    2\n",
      "dtype: int64 <class 'pandas.core.series.Series'>\n",
      "     A      B         C         D\n",
      "0  foo    one  1.003829  0.085945\n",
      "1  bar    one  0.225018  1.369479\n",
      "2  foo    two -0.890236  0.760082\n",
      "3  bar  three  1.417480 -1.358810\n",
      "4  foo    two -0.627206  1.556429\n",
      "5  bar    two  0.356416 -0.892341\n",
      "6  foo    one  0.474351  0.830039\n",
      "7  foo  three -2.457883 -0.721780\n",
      "{('bar', 'one'): Int64Index([1], dtype='int64'), ('bar', 'three'): Int64Index([3], dtype='int64'), ('bar', 'two'): Int64Index([5], dtype='int64'), ('foo', 'one'): Int64Index([0, 6], dtype='int64'), ('foo', 'three'): Int64Index([7], dtype='int64'), ('foo', 'two'): Int64Index([2, 4], dtype='int64')}\n",
      "Int64Index([7], dtype='int64')\n"
     ]
    }
   ],
   "source": [
    "# 分组 - 可迭代对象\n",
    "\n",
    "df = pd.DataFrame({'X':['A','B','A','B'],'Y':[1,4,3,2]})\n",
    "print(df)\n",
    "print(df.groupby('X'),type(df.groupby('X')))\n",
    "print(list(df.groupby('X')))                                      # 可迭代对象，直接生成list\n",
    "print(list(df.groupby('X'))[0])                                   # 以元祖形式显示\n",
    "for n,g in df.groupby('X'):                                       # n是组名，g是分组后的Dataframe\n",
    "    print(n)\n",
    "    print(g)\n",
    "    print('-----')\n",
    "    \n",
    "print(df.groupby('X').get_group('A'))                              # .get_group()提取分组后的组\n",
    "print(df.groupby('X').get_group('B'))\n",
    "\n",
    "grouped = df.groupby('X') \n",
    "print(grouped.groups)                                              # .groups：将分组后的groups转为dict\n",
    "                                                                   # 可以字典索引方法来查看groups里的元素\n",
    "sz = grouped.size()\n",
    "print(sz,type(sz))                                                 # .size()：查看分组后的长度\n",
    "\n",
    "df = pd.DataFrame({'A' : ['foo', 'bar', 'foo', 'bar','foo', 'bar', 'foo', 'foo'],\n",
    "                   'B' : ['one', 'one', 'two', 'three', 'two', 'two', 'one', 'three'],\n",
    "                   'C' : np.random.randn(8),\n",
    "                   'D' : np.random.randn(8)})\n",
    "grouped = df.groupby(['A','B']).groups\n",
    "print(df)\n",
    "print(grouped)\n",
    "print(grouped[('foo','three')])                                      # 按照两个列进行分组"
   ]
  },
  {
   "cell_type": "code",
   "execution_count": 22,
   "metadata": {},
   "outputs": [
    {
     "name": "stdout",
     "output_type": "stream",
     "text": [
      "      data1     data2 key1 key2\n",
      "0  0.512295  0.090427    a  one\n",
      "1  0.832056  0.482262    b  two\n",
      "data1    float64\n",
      "data2    float64\n",
      "key1      object\n",
      "key2      object\n",
      "dtype: object\n",
      "float64\n",
      "      data1     data2\n",
      "0  0.512295  0.090427\n",
      "1  0.832056  0.482262\n",
      "object\n",
      "  key1 key2\n",
      "0    a  one\n",
      "1    b  two\n"
     ]
    }
   ],
   "source": [
    "# 其他轴上的分组\n",
    "\n",
    "df = pd.DataFrame({\n",
    "    'data1':np.random.rand(2),\n",
    "    'data2':np.random.rand(2),\n",
    "    'key1':['a','b'],\n",
    "    'key2':['one','two']\n",
    "})\n",
    "print(df)\n",
    "print(df.dtypes)\n",
    "for n,g in df.groupby(df.dtypes,axis=1):          # 按值得类型进行分组\n",
    "    print(n)\n",
    "    print(g)"
   ]
  },
  {
   "cell_type": "code",
   "execution_count": 25,
   "metadata": {},
   "outputs": [
    {
     "name": "stdout",
     "output_type": "stream",
     "text": [
      "    a   b   c   d\n",
      "0   0   1   2   3\n",
      "1   4   5   6   7\n",
      "2   8   9  10  11\n",
      "3  12  13  14  15\n",
      "-----\n",
      "   one  two\n",
      "0    1    5\n",
      "1    9   13\n",
      "2   17   21\n",
      "3   25   29\n",
      "a      one\n",
      "b      one\n",
      "c      two\n",
      "d      two\n",
      "e    three\n",
      "dtype: object\n",
      "one      2\n",
      "three    1\n",
      "two      2\n",
      "dtype: int64\n"
     ]
    }
   ],
   "source": [
    "# 通过字典或者Series分组\n",
    "\n",
    "df = pd.DataFrame(np.arange(16).reshape(4,4),\n",
    "                  columns = ['a','b','c','d'])\n",
    "print(df)\n",
    "print('-----')\n",
    "\n",
    "mapping = {'a':'one','b':'one','c':'two','d':'two','e':'three'}\n",
    "by_column = df.groupby(mapping,axis=1)                            # mapping中，a、b列对应的为one，c、d列对应的为two，以字典来分组\n",
    "print(by_column.sum())\n",
    "\n",
    "s = pd.Series(mapping)\n",
    "print(s)\n",
    "print(s.groupby(s).count())                                       # s中，index中a、b对应的为one，c、d对应的为two，以Series来分组"
   ]
  },
  {
   "cell_type": "code",
   "execution_count": 26,
   "metadata": {},
   "outputs": [
    {
     "name": "stdout",
     "output_type": "stream",
     "text": [
      "      a   b   c   d\n",
      "abc   0   1   2   3\n",
      "bcd   4   5   6   7\n",
      "aa    8   9  10  11\n",
      "b    12  13  14  15 \n",
      "\n",
      "    a   b   c   d\n",
      "1  12  13  14  15\n",
      "2   8   9  10  11\n",
      "3   4   6   8  10\n"
     ]
    }
   ],
   "source": [
    "# 通过函数分组\n",
    "\n",
    "df = pd.DataFrame(np.arange(16).reshape(4,4),\n",
    "                  columns = ['a','b','c','d'],\n",
    "                 index = ['abc','bcd','aa','b'])\n",
    "print(df,'\\n')\n",
    "print(df.groupby(len).sum())                         # 按照字母长度分组"
   ]
  },
  {
   "cell_type": "code",
   "execution_count": 31,
   "metadata": {},
   "outputs": [
    {
     "name": "stdout",
     "output_type": "stream",
     "text": [
      "1     1\n",
      "2     2\n",
      "3     3\n",
      "1    10\n",
      "2    20\n",
      "3    30\n",
      "dtype: int64\n",
      "<pandas.core.groupby.groupby.SeriesGroupBy object at 0x000002CE06C5FF98>\n",
      "1    1\n",
      "2    2\n",
      "3    3\n",
      "dtype: int64\n",
      "1    10\n",
      "2    20\n",
      "3    30\n",
      "dtype: int64\n",
      "1    11\n",
      "2    22\n",
      "3    33\n",
      "dtype: int64\n",
      "1     5.5\n",
      "2    11.0\n",
      "3    16.5\n",
      "dtype: float64\n",
      "1     5.5\n",
      "2    11.0\n",
      "3    16.5\n",
      "dtype: float64\n",
      "1    2\n",
      "2    2\n",
      "3    2\n",
      "dtype: int64\n",
      "1    1\n",
      "2    2\n",
      "3    3\n",
      "dtype: int64\n",
      "1     6.363961\n",
      "2    12.727922\n",
      "3    19.091883\n",
      "dtype: float64\n",
      "1    10\n",
      "2    40\n",
      "3    90\n",
      "dtype: int64\n"
     ]
    }
   ],
   "source": [
    "# 分组计算函数方法\n",
    "\n",
    "s = pd.Series([1, 2, 3, 10, 20, 30], index = [1, 2, 3, 1, 2, 3])\n",
    "print(s)\n",
    "grouped = s.groupby(level=0)                                    # 唯一索引用.groupby(level=0)，将同一个index的分为一组\n",
    "print(grouped)\n",
    "print(grouped.first())                                          # 非NaN的第一个值\n",
    "print(grouped.last())                                           # 非NaN的最后一个值\n",
    "print(grouped.sum())                                            # 非NaN的和\n",
    "print(grouped.mean())                                           # 非NaN的平均值\n",
    "print(grouped.median())                                         # 非NaN的算术中位数\n",
    "print(grouped.count())                                          # 非NaN的值\n",
    "print(grouped.min())                                            # 非NaN的最小值\n",
    "print(grouped.std())                                            # 非NaN的标准差\n",
    "print(grouped.prod())                                           # 非NaN的积"
   ]
  },
  {
   "cell_type": "code",
   "execution_count": 33,
   "metadata": {},
   "outputs": [
    {
     "name": "stdout",
     "output_type": "stream",
     "text": [
      "   a         b         c         d\n",
      "0  1  0.957957  0.811324  0.130200\n",
      "1  1  0.227046  0.494055  0.111934\n",
      "2  2  0.511436  0.267109  0.917277\n",
      "3  2  0.269217  0.646650  0.889981\n",
      "          b                   c                   d          \n",
      "       mean       sum      mean       sum      mean       sum\n",
      "a                                                            \n",
      "1  0.592501  1.185002  0.652690  1.305380  0.121067  0.242134\n",
      "2  0.390326  0.780652  0.456879  0.913759  0.903629  1.807258\n",
      "    result1   result2\n",
      "a                    \n",
      "1  0.592501  1.185002\n",
      "2  0.390326  0.780652\n"
     ]
    },
    {
     "name": "stderr",
     "output_type": "stream",
     "text": [
      "D:\\Software\\anaconda\\lib\\site-packages\\ipykernel_launcher.py:9: FutureWarning: using a dict on a Series for aggregation\n",
      "is deprecated and will be removed in a future version\n",
      "  if __name__ == '__main__':\n"
     ]
    }
   ],
   "source": [
    "# 多函数计算：agg()\n",
    "\n",
    "df = pd.DataFrame({'a':[1,1,2,2],\n",
    "                   'b':np.random.rand(4),\n",
    "                   'c':np.random.rand(4),\n",
    "                   'd':np.random.rand(4)})\n",
    "print(df)\n",
    "print(df.groupby('a').agg(['mean',np.sum]))                             # 函数写法可以用str，或者np.方法\n",
    "print(df.groupby('a')['b'].agg({'result1':np.mean,'result2':np.sum}))   # 可以通过list，dict传入，当用dict时，key名为columns"
   ]
  },
  {
   "cell_type": "markdown",
   "metadata": {},
   "source": [
    "\t作业1：按要求创建Dataframe df，并通过分组得到以下结果\n",
    "① 以A分组，求出C,D的分组平均值\n",
    "② 以A,B分组，求出D,E的分组求和\n",
    "③ 以A分组，得到所有分组，以字典显示\n",
    "④ 按照数值类型分组，求和\n",
    "⑤ 将C,D作为一组分出来，并计算求和\n",
    "⑥ 以B分组，求出每组的均值，求和，最大值，最小值\n"
   ]
  },
  {
   "cell_type": "code",
   "execution_count": 49,
   "metadata": {},
   "outputs": [
    {
     "name": "stdout",
     "output_type": "stream",
     "text": [
      "       A  B   C         D         E\n",
      "0    one  h  10 -0.232747  0.945350\n",
      "1    two  h  12 -0.792261  0.712056\n",
      "2  three  h  14 -0.487869  0.495167\n",
      "3    one  h  16 -0.664008  0.615813\n",
      "4    two  f  18 -0.884931  0.519064\n",
      "5  three  f  20 -0.144699  0.957124\n",
      "6    one  f  22 -0.659732  0.274785\n",
      "7    two  f  24 -0.130303  0.058410\n",
      "A\n",
      "one      16\n",
      "three    17\n",
      "two      18\n",
      "Name: C, dtype: int64\n",
      "A\n",
      "one     -0.518829\n",
      "three   -0.316284\n",
      "two     -0.602498\n",
      "Name: D, dtype: float64\n",
      "A      B\n",
      "one    f   -0.659732\n",
      "       h   -0.448378\n",
      "three  f   -0.144699\n",
      "       h   -0.487869\n",
      "two    f   -0.507617\n",
      "       h   -0.792261\n",
      "Name: D, dtype: float64\n",
      "A      B\n",
      "one    f    0.274785\n",
      "       h    0.780582\n",
      "three  f    0.957124\n",
      "       h    0.495167\n",
      "two    f    0.288737\n",
      "       h    0.712056\n",
      "Name: E, dtype: float64\n",
      "{'one': Int64Index([0, 3, 6], dtype='int64'), 'three': Int64Index([2, 5], dtype='int64'), 'two': Int64Index([1, 4, 7], dtype='int64')}\n",
      "   int64   float64  object\n",
      "0     10  0.712603    oneh\n",
      "1     12 -0.080206    twoh\n",
      "2     14  0.007298  threeh\n",
      "3     16 -0.048195    oneh\n",
      "4     18 -0.365866    twof\n",
      "5     20  0.812425  threef\n",
      "6     22 -0.384947    onef\n",
      "7     24 -0.071892    twof\n",
      "           r\n",
      "0   9.767253\n",
      "1  11.207739\n",
      "2  13.512131\n",
      "3  15.335992\n",
      "4  17.115069\n",
      "5  19.855301\n",
      "6  21.340268\n",
      "7  23.869697\n",
      "     C                       D                                       E  \\\n",
      "  mean sum amax amin      mean       sum      amax      amin      mean   \n",
      "B                                                                        \n",
      "f   21  84   24   18 -0.454916 -1.819665 -0.130303 -0.884931  0.452346   \n",
      "h   13  52   16   10 -0.544221 -2.176886 -0.232747 -0.792261  0.692097   \n",
      "\n",
      "                                 \n",
      "        sum      amax      amin  \n",
      "B                                \n",
      "f  1.809383  0.957124  0.058410  \n",
      "h  2.768387  0.945350  0.495167  \n"
     ]
    }
   ],
   "source": [
    "df = pd.DataFrame({\n",
    "    'A':['one','two','three','one','two','three','one','two'],\n",
    "    'B':['h','h','h','h','f','f','f','f'],\n",
    "    'C':[10,12,14,16,18,20,22,24],\n",
    "    'D':np.random.rand(8)*-1,\n",
    "    'E':np.random.rand(8)\n",
    "})\n",
    "print(df)\n",
    "print(df.groupby('A')['C'].mean())\n",
    "print(df.groupby('A')['D'].mean())\n",
    "print(df.groupby(['A','B'])['D'].mean())\n",
    "print(df.groupby(['A','B'])['E'].mean())\n",
    "print(df.groupby('A').groups)\n",
    "print(df.groupby(df.dtypes,axis=1).sum())\n",
    "print(df.groupby({'C':'r','D':'r'},axis=1).sum())\n",
    "print(df.groupby('B').agg([np.mean,np.sum,np.max,np.min]))   "
   ]
  },
  {
   "cell_type": "code",
   "execution_count": 50,
   "metadata": {},
   "outputs": [
    {
     "data": {
      "text/plain": [
       "'\\n【课程2.20】  分组转换及一般性“拆分-应用-合并”\\n\\ntransform / apply\\n \\n'"
      ]
     },
     "execution_count": 50,
     "metadata": {},
     "output_type": "execute_result"
    }
   ],
   "source": [
    "'''\n",
    "【课程2.20】  分组转换及一般性“拆分-应用-合并”\n",
    "\n",
    "transform / apply\n",
    " \n",
    "'''"
   ]
  },
  {
   "cell_type": "code",
   "execution_count": 55,
   "metadata": {},
   "outputs": [
    {
     "name": "stdout",
     "output_type": "stream",
     "text": [
      "      data1     data2 key1 key2\n",
      "0  0.787058  0.782679    a  one\n",
      "1  0.907423  0.553354    a  two\n",
      "2  0.775521  0.833935    b  one\n",
      "3  0.836899  0.648955    b  two\n",
      "4  0.721239  0.252662    a  one\n",
      "        data1     data2\n",
      "key1                   \n",
      "a     0.80524  0.529565\n",
      "b     0.80621  0.741445\n",
      "   mean_data1_x  mean_data2_x mean_key1 mean_key2  mean_data1_y  mean_data2_y\n",
      "0      0.787058      0.782679         a       one       0.80524      0.529565\n",
      "1      0.907423      0.553354         a       two       0.80524      0.529565\n",
      "4      0.721239      0.252662         a       one       0.80524      0.529565\n",
      "2      0.775521      0.833935         b       one       0.80621      0.741445\n",
      "3      0.836899      0.648955         b       two       0.80621      0.741445\n",
      "         data1     data2\n",
      "key2                    \n",
      "one   0.761272  0.623092\n",
      "two   0.872161  0.601154\n",
      "      data1     data2\n",
      "0  0.761272  0.623092\n",
      "1  0.872161  0.601154\n",
      "2  0.761272  0.623092\n",
      "3  0.872161  0.601154\n",
      "4  0.761272  0.623092\n"
     ]
    }
   ],
   "source": [
    "\n",
    "df = pd.DataFrame({'data1':np.random.rand(5),\n",
    "                  'data2':np.random.rand(5),\n",
    "                  'key1':list('aabba'),\n",
    "                  'key2':['one','two','one','two','one']})\n",
    "print(df)\n",
    "k_mean = df.groupby('key1').mean()\n",
    "print(k_mean)\n",
    "print(pd.merge(df,k_mean,left_on='key1',right_index=True,).add_prefix('mean_'))       # 通过分组、合并，得到一个包含均值的Dataframe\n",
    "                                                                                      # .add_prefix('mean_')：添加前缀\n",
    "print(df.groupby('key2').mean())                                                      # 按照key2分组求均值\n",
    "print(df.groupby('key2').transform(np.mean))                                          # data1、data2每个位置元素取对应分组列的均值\n"
   ]
  },
  {
   "cell_type": "code",
   "execution_count": 60,
   "metadata": {},
   "outputs": [
    {
     "name": "stdout",
     "output_type": "stream",
     "text": [
      "               data1     data2\n",
      "key1                          \n",
      "a    count  3.000000  3.000000\n",
      "     mean   0.635309  0.547967\n",
      "     std    0.276636  0.275196\n",
      "     min    0.422380  0.243934\n",
      "     25%    0.478970  0.431940\n",
      "     50%    0.535561  0.619945\n",
      "     75%    0.741773  0.699983\n",
      "     max    0.947986  0.780022\n",
      "b    count  2.000000  2.000000\n",
      "     mean   0.421285  0.315322\n",
      "     std    0.266244  0.334652\n",
      "     min    0.233021  0.078687\n",
      "     25%    0.327153  0.197005\n",
      "     50%    0.421285  0.315322\n",
      "     75%    0.515416  0.433639\n",
      "     max    0.609548  0.551957\n",
      "           data1     data2 key1 key2\n",
      "key1                                \n",
      "a    0  0.535561  0.619945    a  one\n",
      "     1  0.422380  0.780022    a  two\n",
      "b    2  0.233021  0.551957    b  one\n",
      "     3  0.609548  0.078687    b  two\n",
      "key1   \n",
      "a     0    0.619945\n",
      "      1    0.780022\n",
      "      4    0.243934\n",
      "b     2    0.551957\n",
      "      3    0.078687\n",
      "Name: data2, dtype: float64\n",
      "<class 'pandas.core.series.Series'>\n"
     ]
    }
   ],
   "source": [
    "# 一般化Groupby方法：apply\n",
    "\n",
    "df = pd.DataFrame({'data1':np.random.rand(5),\n",
    "                  'data2':np.random.rand(5),\n",
    "                  'key1':list('aabba'),\n",
    "                  'key2':['one','two','one','two','one']})\n",
    "print(df.groupby('key1').apply(lambda x:x.describe()))              # apply直接运行其中的函数\n",
    "                                                                    # 这里为匿名函数，直接描述分组后的统计量\n",
    "    \n",
    "def f_df1(d,n):                                                     # f_df1函数：返回排序后的前n行数据\n",
    "    return(d.sort_index()[:n])\n",
    "\n",
    "def f_df2(d,k1):                                                    # f_df2函数：返回分组后表的k1列，结果为Series，层次化索引\n",
    "    return(d[k1])\n",
    "\n",
    "print(df.groupby('key1').apply(f_df1,2))\n",
    "print(df.groupby('key1').apply(f_df2,'data2'))\n",
    "print(type(df.groupby('key1').apply(f_df2,'data2')))"
   ]
  },
  {
   "cell_type": "markdown",
   "metadata": {},
   "source": [
    "\t作业1：按要求创建Dataframe df，通过key分组求和，并将求和结果并在原df中\n",
    "\n"
   ]
  },
  {
   "cell_type": "code",
   "execution_count": 67,
   "metadata": {},
   "outputs": [
    {
     "name": "stdout",
     "output_type": "stream",
     "text": [
      "      data1     data2 key\n",
      "0  0.818870  0.811658   a\n",
      "1  0.772471  0.596065   a\n",
      "2  0.349805  0.560457   b\n",
      "3  0.134294  0.088321   b\n",
      "4  0.955954  0.162587   a\n",
      "5  0.846340  0.196993   b\n",
      "6  0.018615  0.024984   a\n",
      "7  0.441740  0.640762   b\n",
      "      data1     data2 key  data1_mean  data2_mean\n",
      "0  0.818870  0.811658   a    0.641478    0.398824\n",
      "1  0.772471  0.596065   a    0.641478    0.398824\n",
      "2  0.349805  0.560457   b    0.443044    0.371633\n",
      "3  0.134294  0.088321   b    0.443044    0.371633\n",
      "4  0.955954  0.162587   a    0.641478    0.398824\n",
      "5  0.846340  0.196993   b    0.443044    0.371633\n",
      "6  0.018615  0.024984   a    0.641478    0.398824\n",
      "7  0.441740  0.640762   b    0.443044    0.371633\n"
     ]
    }
   ],
   "source": [
    "df = pd.DataFrame({\n",
    "    'data1':np.random.rand(8),\n",
    "    'data2':np.random.rand(8),\n",
    "    'key':['a','a','b','b','a','b','a','b']\n",
    "})\n",
    "print(df)\n",
    "k_mean = df.groupby('key').transform(np.mean)\n",
    "print(df.join(k_mean,rsuffix='_mean'))"
   ]
  },
  {
   "cell_type": "code",
   "execution_count": null,
   "metadata": {},
   "outputs": [],
   "source": []
  }
 ],
 "metadata": {
  "kernelspec": {
   "display_name": "Python 3",
   "language": "python",
   "name": "python3"
  },
  "language_info": {
   "codemirror_mode": {
    "name": "ipython",
    "version": 3
   },
   "file_extension": ".py",
   "mimetype": "text/x-python",
   "name": "python",
   "nbconvert_exporter": "python",
   "pygments_lexer": "ipython3",
   "version": "3.6.5"
  }
 },
 "nbformat": 4,
 "nbformat_minor": 2
}
