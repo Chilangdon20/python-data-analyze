{
 "cells": [
  {
   "cell_type": "markdown",
   "metadata": {},
   "source": [
    "'''\n",
    "【课程3.4】  Python数据预处理\n",
    "\n",
    "将数据中导演与演员的关系整理出来，得到导演与演员的关系数据，并统计合作次数\n",
    "\n",
    "'''"
   ]
  },
  {
   "cell_type": "code",
   "execution_count": 1,
   "metadata": {},
   "outputs": [],
   "source": [
    "import numpy as np\n",
    "import pandas as pd\n",
    "import matplotlib.pyplot as plt\n",
    "% matplotlib inline\n",
    "\n",
    "import warnings\n",
    "warnings.filterwarnings('ignore') \n"
   ]
  },
  {
   "cell_type": "code",
   "execution_count": 5,
   "metadata": {},
   "outputs": [
    {
     "name": "stdout",
     "output_type": "stream",
     "text": [
      "      imdb_id  imdb_n_comment  imdb_score   name  rating_people  score  \\\n",
      "0   tt1587878           222.0         7.0     团圆         4247.0    7.6   \n",
      "1   tt1810602           999.0         6.0  非诚勿扰2       216051.0    6.5   \n",
      "\n",
      "                                    上映日期  \\\n",
      "0   2013-09-19(中国大陆) / 2010-02-11(柏林电影节)   \n",
      "1                       2010-12-22(中国大陆)   \n",
      "\n",
      "                                                  主演 制片国家/地区  \\\n",
      "0                          卢燕 / 凌峰 / 徐才根 / 马晓晴 / 莫小棋    中国大陆   \n",
      "1   葛优 / 舒淇 / 孙红雷 / 姚晨 / 安以轩 / 邵兵 / 廖凡 / 邬逸聪 / 关晓...    中国大陆   \n",
      "\n",
      "                            又名  ...        片长        类型         编剧  \\\n",
      "0               Apart Together  ...      97分钟   剧情 / 家庭   金娜 / 王全安   \n",
      "1   不省心 / If You Are The One 2  ...     120分钟   喜剧 / 爱情   王朔 / 冯小刚   \n",
      "\n",
      "             语言 主演人数     r5     r4     r3     r2     r1  \n",
      "0   上海话 / 汉语普通话    5  0.177  0.497  0.283  0.034  0.008  \n",
      "1         汉语普通话   15  0.077  0.285  0.486  0.124  0.029  \n",
      "\n",
      "[2 rows x 21 columns]\n",
      "数据一共有2876条\n",
      "数据的字段为:\n",
      " ['imdb_id', 'imdb_n_comment', 'imdb_score', 'name', 'rating_people', 'score', '上映日期', '主演', '制片国家/地区', '又名', '导演', '片长', '类型', '编剧', '语言', '主演人数', 'r5', 'r4', 'r3', 'r2', 'r1']\n"
     ]
    }
   ],
   "source": [
    "import os\n",
    "os.chdir('D:\\\\user_profile\\\\python\\\\data visualization\\\\data relationship\\\\data cleaning')\n",
    "df = pd.read_excel('豆瓣电影数据.xlsx',sheet_name=0,header=0)\n",
    "print(df.head(2))\n",
    "print(f'数据一共有{len(df)}条')\n",
    "print(f'数据的字段为:\\n',df.columns.tolist())"
   ]
  },
  {
   "cell_type": "code",
   "execution_count": 15,
   "metadata": {},
   "outputs": [
    {
     "name": "stdout",
     "output_type": "stream",
     "text": [
      "    name    导演                                                 主演\n",
      "0     团圆   王全安                          卢燕 / 凌峰 / 徐才根 / 马晓晴 / 莫小棋\n",
      "1  非诚勿扰2   冯小刚   葛优 / 舒淇 / 孙红雷 / 姚晨 / 安以轩 / 邵兵 / 廖凡 / 邬逸聪 / 关晓...\n",
      "    yy0  yy1   yy2   yy3   yy4   yy5   yy6   yy7   yy8   yy9  ...   yy55  \\\n",
      "0   卢燕   凌峰   徐才根   马晓晴    莫小棋  None  None  None  None  None  ...   None   \n",
      "1   葛优   舒淇   孙红雷    姚晨   安以轩    邵兵    廖凡   邬逸聪   关晓彤   窦文涛   ...   None   \n",
      "\n",
      "   yy56  yy57  yy58  yy59  yy60  yy61  yy62  yy63  yy64  \n",
      "0  None  None  None  None  None  None  None  None  None  \n",
      "1  None  None  None  None  None  None  None  None  None  \n",
      "\n",
      "[2 rows x 65 columns]\n",
      "    dy0   dy1   dy2   dy3   dy4   dy5   dy6   dy7   dy8   dy9  dy10  dy11\n",
      "0   王全安  None  None  None  None  None  None  None  None  None  None  None\n",
      "1   冯小刚  None  None  None  None  None  None  None  None  None  None  None\n",
      "    yy0  yy1   yy2   yy3   yy4   yy5   yy6   yy7   yy8   yy9  ...     dy3  \\\n",
      "0   卢燕   凌峰   徐才根   马晓晴    莫小棋  None  None  None  None  None  ...    None   \n",
      "1   葛优   舒淇   孙红雷    姚晨   安以轩    邵兵    廖凡   邬逸聪   关晓彤   窦文涛   ...    None   \n",
      "\n",
      "    dy4   dy5   dy6   dy7   dy8   dy9  dy10  dy11   name  \n",
      "0  None  None  None  None  None  None  None  None     团圆  \n",
      "1  None  None  None  None  None  None  None  None  非诚勿扰2  \n",
      "\n",
      "[2 rows x 78 columns]\n"
     ]
    }
   ],
   "source": [
    "# 数据清洗\n",
    "\n",
    "data = df[['name','导演','主演']]                       # 提取数据\n",
    "print(data.head(2))\n",
    "data.dropna(inplace=True)                               # 删除缺失值\n",
    "\n",
    "data_yy = data['主演'].str.split('/ ',expand=True)      # 演员数据分列\n",
    "col_len1 = len(data_yy.columns)\n",
    "#print(col_len1)\n",
    "data_yy.columns = ['yy'+str(i) for i in range(col_len1)]\n",
    "print(data_yy.head(2))\n",
    "\n",
    "data_dy = data['导演'].str.split('/ ',expand=True)      # 导演数据分列\n",
    "col_len2 = len(data_dy.columns)\n",
    "data_dy.columns = ['dy'+str(i) for i in range(col_len2)]\n",
    "print(data_dy.head(2))\n",
    "\n",
    "data2 = data_yy.join(data_dy).join(data['name'])\n",
    "print(data2.head(2))"
   ]
  },
  {
   "cell_type": "code",
   "execution_count": 18,
   "metadata": {},
   "outputs": [
    {
     "name": "stdout",
     "output_type": "stream",
     "text": [
      "       name    导演     演员\n",
      "0        团圆   王全安    卢燕 \n",
      "1     非诚勿扰2   冯小刚    葛优 \n",
      "2     无蝉的夏天    苗月   吕聿来 \n",
      "3  狄仁杰之通天帝国    徐克   刘德华 \n",
      "4     我是植物人    王竞   李乃文 \n"
     ]
    }
   ],
   "source": [
    "# 数据拆分、合并\n",
    "\n",
    "data_re = pd.DataFrame(columns=['name','导演','演员'])      # 创建一个空的Dataframe\n",
    "col_yy = data_yy.columns                                    # 提取演员、导演的列名\n",
    "col_dy = data_dy.columns\n",
    "\n",
    "for dy in col_dy:\n",
    "    for yy in col_yy: \n",
    "        data_i = data2[['name',dy,yy]].dropna()              # 提取数据\n",
    "        data_i.columns = ['name','导演','演员']              # 列名重命名\n",
    "        data_re = pd.concat([data_re,data_i])                # 添加数据\n",
    "        \n",
    "print(data_re.head())"
   ]
  },
  {
   "cell_type": "code",
   "execution_count": 20,
   "metadata": {},
   "outputs": [
    {
     "name": "stdout",
     "output_type": "stream",
     "text": [
      "       导演    演员  合作次数\n",
      "0   (小)徐克   张欣      2\n",
      "1   (小)徐克   黄莺      1\n",
      "2   (小)徐克   刘彬      1\n",
      "3   (小)徐克   叶露      1\n",
      "4   (小)徐克   姜玉玲     2\n",
      "done\n"
     ]
    }
   ],
   "source": [
    "# 汇总统计导演和演员的合作次数\n",
    "\n",
    "res = data_re.groupby(['导演','演员']).count()               # 按照导演-演员进行计数统计，得到结果数据\n",
    "res.reset_index(inplace=True)                                # reset_index() → 将所有索引级别转换为列\n",
    "res.columns=['导演','演员','合作次数']\n",
    "print(res.head())\n",
    "\n",
    "writer = pd.ExcelWriter('result.xlsx')\n",
    "res.to_excel(writer,'sheet1')\n",
    "writer.save()\n",
    "print('done')"
   ]
  },
  {
   "cell_type": "code",
   "execution_count": null,
   "metadata": {},
   "outputs": [],
   "source": []
  }
 ],
 "metadata": {
  "kernelspec": {
   "display_name": "Python 3",
   "language": "python",
   "name": "python3"
  },
  "language_info": {
   "codemirror_mode": {
    "name": "ipython",
    "version": 3
   },
   "file_extension": ".py",
   "mimetype": "text/x-python",
   "name": "python",
   "nbconvert_exporter": "python",
   "pygments_lexer": "ipython3",
   "version": "3.6.5"
  }
 },
 "nbformat": 4,
 "nbformat_minor": 2
}
