{
 "cells": [
  {
   "cell_type": "code",
   "execution_count": 1,
   "metadata": {},
   "outputs": [
    {
     "data": {
      "text/plain": [
       "'\\n【课程6.2】  自定义函数\\n\\n如何创建函数？def 关键字\\n\\n'"
      ]
     },
     "execution_count": 1,
     "metadata": {},
     "output_type": "execute_result"
    }
   ],
   "source": [
    "'''\n",
    "【课程6.2】  自定义函数\n",
    "\n",
    "如何创建函数？def 关键字\n",
    "\n",
    "'''"
   ]
  },
  {
   "cell_type": "code",
   "execution_count": 2,
   "metadata": {},
   "outputs": [
    {
     "name": "stdout",
     "output_type": "stream",
     "text": [
      "input num more than 5\n"
     ]
    }
   ],
   "source": [
    "# 定义函数\n",
    "\n",
    "# 定义函数,x是参数(局部变量)\n",
    "def f(x):\n",
    "    if x < 5:\n",
    "        print('input num is less than 5')\n",
    "    else:\n",
    "        print('input num is more than 5')\n",
    "\n",
    "# 调用函数        \n",
    "f(10)\n"
   ]
  },
  {
   "cell_type": "code",
   "execution_count": 3,
   "metadata": {},
   "outputs": [
    {
     "name": "stdout",
     "output_type": "stream",
     "text": [
      "None 32\n"
     ]
    }
   ],
   "source": [
    "# 关于retuen\n",
    "\n",
    "# 没有return,函数返回None\n",
    "def f1(x):\n",
    "    y = 2**x\n",
    "    \n",
    "def f2(x):\n",
    "    y = 2**x\n",
    "    return y\n",
    "\n",
    "print(f1(5),f2(5))\n",
    "# return 语句退出函数,并且返回一个表达式"
   ]
  },
  {
   "cell_type": "code",
   "execution_count": 4,
   "metadata": {},
   "outputs": [
    {
     "name": "stdout",
     "output_type": "stream",
     "text": [
      "100\n",
      "1000\n"
     ]
    }
   ],
   "source": [
    "# 默认参数\n",
    "\n",
    "def f(x,n=2):\n",
    "    return x**n\n",
    "\n",
    "# 这里的默认值是2,不输入第二个参数就以默认值为主\n",
    "print(f(10))\n",
    "print(f(10,3))"
   ]
  },
  {
   "cell_type": "code",
   "execution_count": 5,
   "metadata": {},
   "outputs": [
    {
     "name": "stdout",
     "output_type": "stream",
     "text": [
      "(1,)\n",
      "('a', 'b')\n",
      "(1, 2, 3, [12, 22])\n",
      "('a', 'b')\n",
      "<class 'tuple'>\n"
     ]
    }
   ],
   "source": [
    "# 可变参数\n",
    "\n",
    "# 通过*定义可变参数\n",
    "# 默认会把可变参数转换成元组\n",
    "def f(*x):\n",
    "    print(x)\n",
    "    return x\n",
    "\n",
    "f(1)\n",
    "f('a','b')\n",
    "f(1,2,3,[12,22])\n",
    "print(type(f('a','b')))"
   ]
  },
  {
   "cell_type": "markdown",
   "metadata": {},
   "source": [
    "小作业\n",
    "① 函数f（x），输入一个字符串，分别print出每个字母\n",
    "② f(x,y,z),函数内部算法：生成 ((x+y)*(x-y))**z\n",
    "③ 编写一个求平均值的函数 f(*m)\n",
    "④ 定义一个函数，用于求矩形面积、圆形面积\n",
    "⑤ 定义一个函数，函数的作用是把输入的列表变成一连串字典的key，并生成字典，需要用input输入"
   ]
  },
  {
   "cell_type": "code",
   "execution_count": 10,
   "metadata": {},
   "outputs": [
    {
     "name": "stdout",
     "output_type": "stream",
     "text": [
      "a\n",
      "b\n",
      "c\n",
      "d\n",
      "e\n",
      "f\n",
      "g\n",
      "-27\n",
      "3.0\n",
      "12 50.24\n"
     ]
    }
   ],
   "source": [
    "\n",
    "def f(x):\n",
    "    for i in x:\n",
    "        print(i)\n",
    "        \n",
    "f('abcdefg')\n",
    "\n",
    "def f(x,y,z):\n",
    "    return ((x+y)*(x-y))**z\n",
    "\n",
    "print(f(1,2,3))\n",
    "\n",
    "def su(*m):\n",
    "    s = 0\n",
    "    for i in m:\n",
    "        s += i\n",
    "    avg = s / len(m)\n",
    "    return avg\n",
    "\n",
    "print(su(1,2,3,4,5))\n",
    "\n",
    "\n",
    "def rectangle(x,h):\n",
    "    return x*h\n",
    "\n",
    "def roundity(x):\n",
    "    return 3.14*x**2\n",
    "\n",
    "print(rectangle(3,4),roundity(4))\n",
    "\n",
    "m = input('请输入列表:')\n",
    "def f(*m):\n",
    "    dic = \n"
   ]
  },
  {
   "cell_type": "code",
   "execution_count": 11,
   "metadata": {},
   "outputs": [
    {
     "data": {
      "text/plain": [
       "'\\n【课程6.3】  局部变量及全局变量\\n\\n定义在函数内部的变量拥有一个局部作用域，定义在函数外的拥有全局作用域。\\n\\n局部变量只能在其被声明的函数内部访问，而全局变量可以在整个程序范围内访问。调用函数时，所有在函数内声明的变量名称都将被加入到作用域中\\n\\n'"
      ]
     },
     "execution_count": 11,
     "metadata": {},
     "output_type": "execute_result"
    }
   ],
   "source": [
    "'''\n",
    "【课程6.3】  局部变量及全局变量\n",
    "\n",
    "定义在函数内部的变量拥有一个局部作用域，定义在函数外的拥有全局作用域。\n",
    "\n",
    "局部变量只能在其被声明的函数内部访问，而全局变量可以在整个程序范围内访问。调用函数时，所有在函数内声明的变量名称都将被加入到作用域中\n",
    "\n",
    "'''"
   ]
  },
  {
   "cell_type": "code",
   "execution_count": 14,
   "metadata": {},
   "outputs": [
    {
     "name": "stdout",
     "output_type": "stream",
     "text": [
      "请输入一个数字:10\n",
      "函数内为局部变量:hehe\n",
      "函数外为局部变量:10\n"
     ]
    }
   ],
   "source": [
    "\n",
    "def f(m):\n",
    "    m = 'hehe'\n",
    "    print(f'函数内为局部变量:{m}')\n",
    "\n",
    "a = input('请输入一个数字:')\n",
    "f(a)\n",
    "print(f'函数外为局部变量:{a}')"
   ]
  },
  {
   "cell_type": "code",
   "execution_count": 15,
   "metadata": {},
   "outputs": [
    {
     "name": "stdout",
     "output_type": "stream",
     "text": [
      "请输入一个数字:12\n",
      "函数内转为全局变量hehe\n"
     ]
    }
   ],
   "source": [
    "# global语句 → 把局部变量变为全局变量\n",
    "\n",
    "def f():\n",
    "    global a\n",
    "    a = 'hehe'\n",
    "    print(f'函数内转为全局变量{a}')\n",
    "    \n",
    "a = input('请输入一个数字:')\n",
    "f()"
   ]
  },
  {
   "cell_type": "code",
   "execution_count": 16,
   "metadata": {},
   "outputs": [
    {
     "data": {
      "text/plain": [
       "'\\n【课程6.4】  匿名函数Lambda\\n\\nlambda 语句创建匿名函数。\\n\\n'"
      ]
     },
     "execution_count": 16,
     "metadata": {},
     "output_type": "execute_result"
    }
   ],
   "source": [
    "'''\n",
    "【课程6.4】  匿名函数Lambda\n",
    "\n",
    "lambda 语句创建匿名函数。\n",
    "\n",
    "'''"
   ]
  },
  {
   "cell_type": "code",
   "execution_count": 18,
   "metadata": {},
   "outputs": [
    {
     "name": "stdout",
     "output_type": "stream",
     "text": [
      "9\n",
      "6\n"
     ]
    }
   ],
   "source": [
    "def fun(a,b,c):\n",
    "    return (a+b+c)\n",
    "\n",
    "print(fun(2,3,4))\n",
    "\n",
    "f = lambda a,b,c:a+b+c\n",
    "print(f(1,2,3))"
   ]
  },
  {
   "cell_type": "code",
   "execution_count": null,
   "metadata": {},
   "outputs": [],
   "source": [
    "小作业\n",
    "① 用lambda创建一个求元素个数的匿名函数\n",
    "② 定义一个函数，可将输入的所有数字从大到小依次排序\n",
    "③ 定义一个函数，随机输入一个学生的成绩后，学习成绩>=90分的同学用A表示，60-89分之间的用B表示，60分以下的用C表示，最后输出成绩评分\n",
    "④ 定义一个函数，可统计出输入任意的字符中英文字母、空格、数字和其它字符的个数"
   ]
  }
 ],
 "metadata": {
  "kernelspec": {
   "display_name": "Python 3",
   "language": "python",
   "name": "python3"
  },
  "language_info": {
   "codemirror_mode": {
    "name": "ipython",
    "version": 3
   },
   "file_extension": ".py",
   "mimetype": "text/x-python",
   "name": "python",
   "nbconvert_exporter": "python",
   "pygments_lexer": "ipython3",
   "version": "3.6.5"
  }
 },
 "nbformat": 4,
 "nbformat_minor": 2
}
