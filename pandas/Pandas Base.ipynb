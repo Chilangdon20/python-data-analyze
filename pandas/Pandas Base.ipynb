{
 "cells": [
  {
   "cell_type": "markdown",
   "metadata": {},
   "source": [
    "'''\n",
    "【课程2.2】  Pandas数据结构Series：基本概念及创建\n",
    "\n",
    "\"一维数组\"Serise\n",
    "\n",
    "'''"
   ]
  },
  {
   "cell_type": "code",
   "execution_count": 5,
   "metadata": {},
   "outputs": [
    {
     "name": "stdout",
     "output_type": "stream",
     "text": [
      "0    0.428850\n",
      "1    0.499554\n",
      "2    0.000490\n",
      "3    0.585119\n",
      "4    0.436885\n",
      "dtype: float64\n",
      "<class 'pandas.core.series.Series'>\n",
      "RangeIndex(start=0, stop=5, step=1) <class 'pandas.core.indexes.range.RangeIndex'>\n",
      "[4.28850041e-01 4.99553571e-01 4.90091016e-04 5.85118840e-01\n",
      " 4.36885375e-01] <class 'numpy.ndarray'>\n"
     ]
    }
   ],
   "source": [
    "# Series 数据结构\n",
    "# Series 是带有标签的一维数组，可以保存任何数据类型（整数，字符串，浮点数，Python对象等）,轴标签统称为索引\n",
    "\n",
    "# 导入numpy、pandas模块\n",
    "import numpy as np\n",
    "import pandas as pd\n",
    "\n",
    "s = pd.Series(np.random.rand(5))\n",
    "print(s)\n",
    "print(type(s))\n",
    "\n",
    "print(s.index,type(s.index))                      # .index查看series索引，类型为rangeindex\n",
    "print(s.values,type(s.values))                    # .values查看series值，类型是ndarray\n",
    "\n",
    "'''\n",
    " 核心：series相比于ndarray，是一个自带索引index的数组 → 一维数组 + 对应索引\n",
    " 所以当只看series的值的时候，就是一个ndarray\n",
    " series和ndarray较相似，索引切片功能差别不大\n",
    " series和dict相比，series更像一个有顺序的字典（dict本身不存在顺序），其索引原理与字典相似（一个用key，一个用index）\n",
    "\n",
    "'''"
   ]
  },
  {
   "cell_type": "code",
   "execution_count": 6,
   "metadata": {},
   "outputs": [
    {
     "name": "stdout",
     "output_type": "stream",
     "text": [
      "a    1\n",
      "b    2\n",
      "c    3\n",
      "4    4\n",
      "5    5\n",
      "dtype: int64\n"
     ]
    }
   ],
   "source": [
    "# Series 创建方法一：由字典创建\n",
    "\n",
    "dic = {'a':1,'b':2,'c':3,'4':4,'5':5}                  # 字典的key就是index，values就是values\n",
    "s = pd.Series(dic)                                     # key肯定是字符串\n",
    "print(s)"
   ]
  },
  {
   "cell_type": "code",
   "execution_count": 8,
   "metadata": {},
   "outputs": [
    {
     "name": "stdout",
     "output_type": "stream",
     "text": [
      "[0.50293041 0.70218964 0.83369168 0.11242041 0.38301866]\n",
      "0    0.502930\n",
      "1    0.702190\n",
      "2    0.833692\n",
      "3    0.112420\n",
      "4    0.383019\n",
      "dtype: float64\n",
      "a     0.50293\n",
      "b     0.70219\n",
      "c    0.833692\n",
      "d     0.11242\n",
      "e    0.383019\n",
      "dtype: object\n"
     ]
    }
   ],
   "source": [
    "# Series 创建方法二：由数组创建(一维数组)\n",
    "\n",
    "arr = np.random.rand(5)\n",
    "s = pd.Series(arr)\n",
    "print(arr)\n",
    "print(s)                                                                 # 默认index是从0开始，步长为1的数字\n",
    "\n",
    "s = pd.Series(arr,index=['a','b','c','d','e'],dtype=np.object)           # index参数：设置index，长度保持一致\n",
    "print(s)                                                                 # dtype参数：设置数值类型"
   ]
  },
  {
   "cell_type": "code",
   "execution_count": 9,
   "metadata": {},
   "outputs": [
    {
     "name": "stdout",
     "output_type": "stream",
     "text": [
      "0    10\n",
      "1    10\n",
      "2    10\n",
      "3    10\n",
      "dtype: int64\n"
     ]
    }
   ],
   "source": [
    "# Series 创建方法三：由标量创建\n",
    "\n",
    "s = pd.Series(10,index=range(4))                                           # 如果data是标量值，则必须提供索引。该值会重复，来匹配索引的长度\n",
    "print(s)"
   ]
  },
  {
   "cell_type": "code",
   "execution_count": 12,
   "metadata": {},
   "outputs": [
    {
     "name": "stdout",
     "output_type": "stream",
     "text": [
      "0    0.707448\n",
      "1    0.686177\n",
      "2    0.415223\n",
      "3    0.343597\n",
      "4    0.524823\n",
      "dtype: float64\n",
      "-----\n",
      "0    0.991177\n",
      "1    0.474259\n",
      "2    0.026486\n",
      "3    0.558697\n",
      "4    0.187256\n",
      "Name: test, dtype: float64\n",
      "None test <class 'str'>\n",
      "test1 test\n"
     ]
    }
   ],
   "source": [
    "# Series 名称属性：name\n",
    "\n",
    "s1 = pd.Series(np.random.rand(5))\n",
    "print(s1)\n",
    "print('-----')\n",
    "s2 = pd.Series(np.random.rand(5),name='test')               # name为Series的一个参数，创建一个数组的 名称\n",
    "print(s2)\n",
    "print(s1.name,s2.name,type(s2.name))                        # .name方法：输出数组的名称，输出格式为str，如果没用定义输出名称，输出为None \n",
    "\n",
    "s3 = s2.rename('test1')\n",
    "print(s3.name,s2.name)                                      # .rename()重命名一个数组的名称，并且新指向一个数组，原数组不变"
   ]
  },
  {
   "cell_type": "markdown",
   "metadata": {},
   "source": [
    "\t作业1：分别由字典、数组的方式，创建以下要求的Series"
   ]
  },
  {
   "cell_type": "code",
   "execution_count": 15,
   "metadata": {},
   "outputs": [
    {
     "name": "stdout",
     "output_type": "stream",
     "text": [
      "Jack     90.0\n",
      "Marry    92.0\n",
      "Tom      89.0\n",
      "Zack     65.0\n",
      "Name: 作业1, dtype: float64\n",
      "Jack     90.0\n",
      "Marry    92.0\n",
      "Tom      89.0\n",
      "Zack     65.0\n",
      "Name: 作业1, dtype: float64\n"
     ]
    }
   ],
   "source": [
    "dic = {'Jack':90.0,'Marry':92.0,'Tom':89.0,'Zack':65.0}\n",
    "s1 = pd.Series(dic,name='作业1')\n",
    "print(s1)\n",
    "\n",
    "lst = [90.0,92.0,89.0,65.0]\n",
    "s2 = pd.Series(lst,index=['Jack','Marry','Tom','Zack'],name='作业1')\n",
    "print(s2)"
   ]
  },
  {
   "cell_type": "code",
   "execution_count": null,
   "metadata": {},
   "outputs": [],
   "source": []
  }
 ],
 "metadata": {
  "kernelspec": {
   "display_name": "Python 3",
   "language": "python",
   "name": "python3"
  },
  "language_info": {
   "codemirror_mode": {
    "name": "ipython",
    "version": 3
   },
   "file_extension": ".py",
   "mimetype": "text/x-python",
   "name": "python",
   "nbconvert_exporter": "python",
   "pygments_lexer": "ipython3",
   "version": "3.6.5"
  }
 },
 "nbformat": 4,
 "nbformat_minor": 2
}
