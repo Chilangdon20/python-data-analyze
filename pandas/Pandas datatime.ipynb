{
 "cells": [
  {
   "cell_type": "code",
   "execution_count": 1,
   "metadata": {},
   "outputs": [
    {
     "data": {
      "text/plain": [
       "'\\n【课程2.8】  时间模块：datetime\\n\\ndatetime模块，主要掌握：datetime.date(), datetime.datetime(), datetime.timedelta()\\n\\n日期解析方法：parser.parse\\n\\n'"
      ]
     },
     "execution_count": 1,
     "metadata": {},
     "output_type": "execute_result"
    }
   ],
   "source": [
    "'''\n",
    "【课程2.8】  时间模块：datetime\n",
    "\n",
    "datetime模块，主要掌握：datetime.date(), datetime.datetime(), datetime.timedelta()\n",
    "\n",
    "日期解析方法：parser.parse\n",
    "\n",
    "'''"
   ]
  },
  {
   "cell_type": "code",
   "execution_count": 13,
   "metadata": {},
   "outputs": [],
   "source": [
    "import numpy as np\n",
    "import pandas as pd\n",
    "import datetime"
   ]
  },
  {
   "cell_type": "code",
   "execution_count": 4,
   "metadata": {},
   "outputs": [
    {
     "name": "stdout",
     "output_type": "stream",
     "text": [
      "2018-07-25 <class 'datetime.date'>\n",
      "2018-07-25 <class 'str'>\n",
      "2017-06-05\n"
     ]
    }
   ],
   "source": [
    "today = datetime.date.today()\n",
    "print(today,type(today))                        # datetime.date.today 返回今日\n",
    "print(str(today),type(str(today)))              # 输出格式为date类\n",
    "\n",
    "t = datetime.date(2017,6,5)                     # (年，月，日) → 直接得到当时日期\n",
    "print(t)"
   ]
  },
  {
   "cell_type": "code",
   "execution_count": 7,
   "metadata": {},
   "outputs": [
    {
     "name": "stdout",
     "output_type": "stream",
     "text": [
      "2018-07-25 14:07:07.619006 <class 'datetime.datetime'>\n",
      "2018-07-25 14:07:07.619006 <class 'str'>\n",
      "2016-10-05 00:00:00 2016-07-08 15:33:54\n",
      "-89 days, 15:33:54\n"
     ]
    }
   ],
   "source": [
    "# datetime.datetime：datetime对象\n",
    "\n",
    "now = datetime.datetime.now()                     # .now()方法，输出当前时间\n",
    "print(now,type(now))                              # 输出格式为 datetime类\n",
    "print(str(now),type(str(now)))                    # 可通过str()转化为字符串\n",
    "\n",
    "t1 = datetime.datetime(2016,10,5)                 # (年，月，日，时，分，秒)，至少输入年月日\n",
    "t2 = datetime.datetime(2016,7,8,15,33,54)\n",
    "print(t1,t2)\n",
    "\n",
    "print(t2 - t1)                                    # 相减得到时间差 —— timedelta"
   ]
  },
  {
   "cell_type": "code",
   "execution_count": 9,
   "metadata": {},
   "outputs": [
    {
     "name": "stdout",
     "output_type": "stream",
     "text": [
      "2018-07-25 14:09:46.956450\n",
      "2018-07-24 14:09:46.956450\n",
      "2018-07-18 14:09:46.956450\n"
     ]
    }
   ],
   "source": [
    "# datetime.timedelta：时间差\n",
    "\n",
    "today = datetime.datetime.today()\n",
    "yesterday = today - datetime.timedelta(1)         # 减去一天的时间         \n",
    "print(today)\n",
    "print(yesterday)\n",
    "print(today - datetime.timedelta(7))              # 时间差主要用作时间的加减法，相当于可被识别的时间“差值”"
   ]
  },
  {
   "cell_type": "code",
   "execution_count": 11,
   "metadata": {},
   "outputs": [
    {
     "name": "stdout",
     "output_type": "stream",
     "text": [
      "2017-12-21 00:00:00 <class 'datetime.datetime'>\n",
      "2000-01-01 00:00:00 \n",
      " 2004-05-01 00:00:00 \n",
      " 2004-01-05 00:00:00 \n",
      " 2014-01-22 00:00:00 \n",
      " 1997-01-31 22:45:00\n"
     ]
    }
   ],
   "source": [
    "# parser.parse：日期字符串转换\n",
    "\n",
    "from dateutil.parser import parse\n",
    "\n",
    "date = '12-21-2017'\n",
    "t = parse(date)                                   # 直接将str转化成datetime.datetime\n",
    "print(t,type(t))\n",
    "\n",
    "print(parse('2000-1-1'),'\\n',                     # 国际通用格式中，日在月之前，可以通过dayfirst来设置\n",
    "      parse('5/1/2004'),'\\n',\n",
    "      parse('5/1/2004', dayfirst=True),'\\n',\n",
    "      parse('22/1/2014'),'\\n',\n",
    "      parse('Jan 31, 1997 10:45 PM'))"
   ]
  },
  {
   "cell_type": "code",
   "execution_count": null,
   "metadata": {},
   "outputs": [],
   "source": [
    "\t作业1：请调用datetime模块，输出以下时间信息\n",
    "\n",
    "\t作业2：请创建时间变量‘2000年5月1日’，求出1000天之后是哪年哪月哪日？"
   ]
  },
  {
   "cell_type": "code",
   "execution_count": 16,
   "metadata": {},
   "outputs": [
    {
     "name": "stdout",
     "output_type": "stream",
     "text": [
      "当前时间:2018-07-25 14:19:51.983352\n",
      "输出时间:2017-05-01 12:30:00\n",
      "输出时间:2000-12-01 00:00:00\n"
     ]
    }
   ],
   "source": [
    "print(f'当前时间:{datetime.datetime.now()}')\n",
    "print(f\"输出时间:{datetime.datetime(2017,5,1,12,30)}\")\n",
    "print(f\"输出时间:{datetime.datetime(2000,12,1)}\")"
   ]
  },
  {
   "cell_type": "code",
   "execution_count": 19,
   "metadata": {},
   "outputs": [
    {
     "name": "stdout",
     "output_type": "stream",
     "text": [
      "1000天之后:2003-01-26 00:00:00\n"
     ]
    }
   ],
   "source": [
    "t1 = datetime.datetime(2000,5,1)\n",
    "print(f\"1000天之后:{t1+datetime.timedelta(1000)}\")"
   ]
  },
  {
   "cell_type": "code",
   "execution_count": 20,
   "metadata": {},
   "outputs": [
    {
     "data": {
      "text/plain": [
       "'\\n【课程2.9】  Pandas时刻数据：Timestamp\\n\\n时刻数据代表时间点，是pandas的数据类型，是将值与时间点相关联的最基本类型的时间序列数据\\n\\npandas.Timestamp()\\n\\n'"
      ]
     },
     "execution_count": 20,
     "metadata": {},
     "output_type": "execute_result"
    }
   ],
   "source": [
    "'''\n",
    "【课程2.9】  Pandas时刻数据：Timestamp\n",
    "\n",
    "时刻数据代表时间点，是pandas的数据类型，是将值与时间点相关联的最基本类型的时间序列数据\n",
    "\n",
    "pandas.Timestamp()\n",
    "\n",
    "'''"
   ]
  },
  {
   "cell_type": "code",
   "execution_count": 21,
   "metadata": {},
   "outputs": [
    {
     "name": "stdout",
     "output_type": "stream",
     "text": [
      "2016-12-01 12:45:30 <class 'pandas._libs.tslibs.timestamps.Timestamp'>\n",
      "2017-12-21 00:00:00 <class 'pandas._libs.tslibs.timestamps.Timestamp'>\n",
      "2017-12-21 15:00:23\n"
     ]
    }
   ],
   "source": [
    "date1 = datetime.datetime(2016,12,1,12,45,30)\n",
    "date2 = '2017-12-21'\n",
    "\n",
    "t1 = pd.Timestamp(date1)                        # 可以把datetime类型转换为pandas的Timestamp\n",
    "t2 = pd.Timestamp(date2)                        # 可以把字符串类型转换为pandas的Timestamp\n",
    "\n",
    "print(t1,type(t1))\n",
    "print(t2,type(t2))\n",
    "print(pd.Timestamp('2017-12-21 15:00:23'))"
   ]
  },
  {
   "cell_type": "code",
   "execution_count": 25,
   "metadata": {},
   "outputs": [
    {
     "name": "stdout",
     "output_type": "stream",
     "text": [
      "2016-12-01 12:45:30 <class 'pandas._libs.tslibs.timestamps.Timestamp'>\n",
      "2017-12-21 00:00:00 <class 'pandas._libs.tslibs.timestamps.Timestamp'>\n",
      "DatetimeIndex(['2017-12-21', '2017-12-22', '2017-12-23'], dtype='datetime64[ns]', freq=None) <class 'pandas.core.indexes.datetimes.DatetimeIndex'>\n"
     ]
    }
   ],
   "source": [
    "# pd.to_datetime\n",
    "\n",
    "from datetime import datetime\n",
    "\n",
    "date1 = datetime(2016,12,1,12,45,30)\n",
    "date2 = '2017-12-21'\n",
    "\n",
    "t1 = pd.to_datetime(date1)                             # 如果是单个时间数据，转换成pandas的时刻数据，数据类型为Timestamp\n",
    "t2 = pd.to_datetime(date2)\n",
    "\n",
    "print(t1,type(t1))\n",
    "print(t2,type(t2))\n",
    "\n",
    "st_date = ['2017-12-21','2017-12-22','2017-12-23']\n",
    "t3 = pd.to_datetime(st_date)                           # 多个时间数据，将会转换为pandas的DatetimeIndex\n",
    "print(t3,type(t3))"
   ]
  },
  {
   "cell_type": "code",
   "execution_count": 29,
   "metadata": {},
   "outputs": [
    {
     "name": "stdout",
     "output_type": "stream",
     "text": [
      "[datetime.datetime(2015, 6, 1, 0, 0), datetime.datetime(2015, 7, 1, 0, 0), datetime.datetime(2015, 8, 1, 0, 0), datetime.datetime(2015, 9, 1, 0, 0), datetime.datetime(2015, 10, 1, 0, 0)]\n",
      "['2017-2-1', '2017-2-2', '2017-2-3', '2017-2-4', '2017-2-5', '2017-2-6']\n",
      "DatetimeIndex(['2015-06-01', '2015-07-01', '2015-08-01', '2015-09-01',\n",
      "               '2015-10-01'],\n",
      "              dtype='datetime64[ns]', freq=None)\n",
      "DatetimeIndex(['2017-02-01', '2017-02-02', '2017-02-03', '2017-02-04',\n",
      "               '2017-02-05', '2017-02-06'],\n",
      "              dtype='datetime64[ns]', freq=None)\n",
      "['2017-2-1' '2017-2-2' '2017-2-3' 'hello world!' '2017-2-5' '2017-2-6'] <class 'numpy.ndarray'>\n",
      "DatetimeIndex(['2017-02-01', '2017-02-02', '2017-02-03', 'NaT', '2017-02-05',\n",
      "               '2017-02-06'],\n",
      "              dtype='datetime64[ns]', freq=None) <class 'pandas.core.indexes.datetimes.DatetimeIndex'>\n"
     ]
    }
   ],
   "source": [
    "# pd.to_datetime → 多个时间数据转换时间戳索引\n",
    "\n",
    "date1 = [datetime(2015,6,1),datetime(2015,7,1),datetime(2015,8,1),datetime(2015,9,1),datetime(2015,10,1)]\n",
    "date2 = ['2017-2-1','2017-2-2','2017-2-3','2017-2-4','2017-2-5','2017-2-6']\n",
    "print(date1)\n",
    "print(date2)\n",
    "\n",
    "t1 = pd.to_datetime(date1)                            # 多个时间数据转换为 DatetimeIndex\n",
    "t2 = pd.to_datetime(date2)\n",
    "print(t1)\n",
    "print(t2)\n",
    "\n",
    "date3 = ['2017-2-1','2017-2-2','2017-2-3','hello world!','2017-2-5','2017-2-6']\n",
    "\n",
    "t3 = pd.to_datetime(date3,errors='ignore')           # 当一组时间序列中夹杂其他格式数据，可用errors参数返回\n",
    "print(t3,type(t3))                                   # errors = 'ignore':不可解析时返回字符串\n",
    "\n",
    "t4 = pd.to_datetime(date3,errors='coerce')           # errors = 'coerce':不可扩展，缺失值返回NaT（Not a Time），返回DatetimeIndex\n",
    "print(t4,type(t4))\n"
   ]
  },
  {
   "cell_type": "markdown",
   "metadata": {},
   "source": [
    "\t作业1：请通过迭代创建一个时间列表（如图，时间区间为任意一个月，这里可以用for语句），然后转化成DatetimeIndex，并print月中是多少号\n",
    "\n",
    "\t作业2：请如图创建一个包含时间日期的txt文件，通过open语句读取后转化成"
   ]
  },
  {
   "cell_type": "code",
   "execution_count": 42,
   "metadata": {},
   "outputs": [
    {
     "name": "stdout",
     "output_type": "stream",
     "text": [
      "时间列表为: ['2017-12-1', '2017-12-2', '2017-12-3', '2017-12-4', '2017-12-5', '2017-12-6', '2017-12-7', '2017-12-8', '2017-12-9', '2017-12-10', '2017-12-11', '2017-12-12', '2017-12-13', '2017-12-14', '2017-12-15', '2017-12-16', '2017-12-17', '2017-12-18', '2017-12-19', '2017-12-20', '2017-12-21', '2017-12-22', '2017-12-23', '2017-12-24', '2017-12-25', '2017-12-26', '2017-12-27', '2017-12-28', '2017-12-29', '2017-12-30', '2017-12-31']\n",
      "转换后的时间列表是: DatetimeIndex(['2017-12-01', '2017-12-02', '2017-12-03', '2017-12-04',\n",
      "               '2017-12-05', '2017-12-06', '2017-12-07', '2017-12-08',\n",
      "               '2017-12-09', '2017-12-10', '2017-12-11', '2017-12-12',\n",
      "               '2017-12-13', '2017-12-14', '2017-12-15', '2017-12-16',\n",
      "               '2017-12-17', '2017-12-18', '2017-12-19', '2017-12-20',\n",
      "               '2017-12-21', '2017-12-22', '2017-12-23', '2017-12-24',\n",
      "               '2017-12-25', '2017-12-26', '2017-12-27', '2017-12-28',\n",
      "               '2017-12-29', '2017-12-30', '2017-12-31'],\n",
      "              dtype='datetime64[ns]', freq=None)\n",
      "月中日期: 2017-12-16\n"
     ]
    }
   ],
   "source": [
    "tim_lst = []\n",
    "for i in range(1,32):\n",
    "    tim_lst.append('2017-12-%i' %i)\n",
    "print('时间列表为:',tim_lst)   \n",
    "\n",
    "n = pd.to_datetime(tim_lst)\n",
    "print('转换后的时间列表是:',n)\n",
    "\n",
    "d = (len(tim_lst)+1)/2-1\n",
    "print('月中日期:',tim_lst[int(d)])"
   ]
  },
  {
   "cell_type": "code",
   "execution_count": 14,
   "metadata": {},
   "outputs": [
    {
     "name": "stdout",
     "output_type": "stream",
     "text": [
      "转换后的数据:DatetimeIndex(['2017-01-01', '2017-01-02', '2017-01-03', '2017-01-04',\n",
      "               '2017-01-05', '2017-01-06', '2017-01-07', '2017-01-08',\n",
      "               '2017-01-09', '2017-01-10', '2017-01-11', '2017-01-12',\n",
      "               '2017-01-13', '2017-01-14', '2017-01-15', '2017-01-16',\n",
      "               '2017-01-17', '2017-01-18', '2017-01-19', '2017-01-20',\n",
      "               '2017-01-21', '2017-01-22', '2017-01-23', '2017-01-24',\n",
      "               '2017-01-25', '2017-01-26', '2017-01-27', '2017-01-28',\n",
      "               '2017-01-29', '2017-01-30', '2017-01-31'],\n",
      "              dtype='datetime64[ns]', freq=None)\n"
     ]
    }
   ],
   "source": [
    "def convert_dat():\n",
    "    f = open(r'D:\\user_profile\\python\\pandas\\date.txt','r',encoding='utf8')\n",
    "    for i in f.readlines():\n",
    "        lst_dat = i.split(',')\n",
    "    res_dat = pd.to_datetime(lst_dat)\n",
    "    return (res_dat)\n",
    "\n",
    "print(f'转换后的数据:{convert_dat()}')"
   ]
  },
  {
   "cell_type": "code",
   "execution_count": null,
   "metadata": {},
   "outputs": [],
   "source": []
  }
 ],
 "metadata": {
  "kernelspec": {
   "display_name": "Python 3",
   "language": "python",
   "name": "python3"
  },
  "language_info": {
   "codemirror_mode": {
    "name": "ipython",
    "version": 3
   },
   "file_extension": ".py",
   "mimetype": "text/x-python",
   "name": "python",
   "nbconvert_exporter": "python",
   "pygments_lexer": "ipython3",
   "version": "3.6.5"
  }
 },
 "nbformat": 4,
 "nbformat_minor": 2
}
