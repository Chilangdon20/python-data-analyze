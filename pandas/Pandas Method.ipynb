{
 "cells": [
  {
   "cell_type": "code",
   "execution_count": 1,
   "metadata": {},
   "outputs": [
    {
     "data": {
      "text/plain": [
       "'\\n【课程2.7】  Pandas数据结构Dataframe：基本技巧\\n\\n数据查看、转置 / 添加、修改、删除值 / 对齐 / 排序\\n\\n'"
      ]
     },
     "execution_count": 1,
     "metadata": {},
     "output_type": "execute_result"
    }
   ],
   "source": [
    "'''\n",
    "【课程2.7】  Pandas数据结构Dataframe：基本技巧\n",
    "\n",
    "数据查看、转置 / 添加、修改、删除值 / 对齐 / 排序\n",
    "\n",
    "'''"
   ]
  },
  {
   "cell_type": "code",
   "execution_count": 2,
   "metadata": {},
   "outputs": [],
   "source": [
    "import numpy as np\n",
    "import pandas as pd"
   ]
  },
  {
   "cell_type": "code",
   "execution_count": 5,
   "metadata": {},
   "outputs": [
    {
     "name": "stdout",
     "output_type": "stream",
     "text": [
      "           a          b\n",
      "0  28.285112  13.767660\n",
      "1  19.787740  74.487005\n",
      "2  58.427841  25.611302\n",
      "3  82.549895  83.257265\n",
      "4  86.874947  58.101735\n",
      "           a          b\n",
      "3  82.549895  83.257265\n",
      "4  86.874947  58.101735\n",
      "5  27.585624  66.450372\n",
      "6  82.914427  77.237759\n",
      "7   8.768356  72.340204\n",
      "           0          1          2          3          4          5  \\\n",
      "a  28.285112  19.787740  58.427841  82.549895  86.874947  27.585624   \n",
      "b  13.767660  74.487005  25.611302  83.257265  58.101735  66.450372   \n",
      "\n",
      "           6          7  \n",
      "a  82.914427   8.768356  \n",
      "b  77.237759  72.340204  \n"
     ]
    }
   ],
   "source": [
    "# 数据查看、转置\n",
    "\n",
    "df = pd.DataFrame(np.random.rand(16).reshape(8,2)*100,\n",
    "                 columns=['a','b'])\n",
    "\n",
    "print(df.head())                       # .head()查看头部数据\n",
    "print(df.tail())                       # .tail()查看尾部数据\n",
    "                                       # 默认查看5条\n",
    "     \n",
    "print(df.T)                            # 转置"
   ]
  },
  {
   "cell_type": "code",
   "execution_count": 7,
   "metadata": {},
   "outputs": [
    {
     "name": "stdout",
     "output_type": "stream",
     "text": [
      "           a          b          c          d\n",
      "0  74.829739  56.671385  42.570979  91.028328\n",
      "1  54.754347  52.880493  10.743175   2.791534\n",
      "2  45.343392  50.206084  99.638835  67.004918\n",
      "3  64.994358  68.354805  51.133182  77.666309\n",
      "           a          b          c          d   e\n",
      "0  74.829739  56.671385  42.570979  91.028328  10\n",
      "1  54.754347  52.880493  10.743175   2.791534  10\n",
      "2  45.343392  50.206084  99.638835  67.004918  10\n",
      "3  64.994358  68.354805  51.133182  77.666309  10\n",
      "4  20.000000  20.000000  20.000000  20.000000  20\n",
      "     a          b    c          d   e\n",
      "0  100  56.671385  100  91.028328  20\n",
      "1  100  52.880493  100   2.791534  20\n",
      "2  100  50.206084  100  67.004918  20\n",
      "3  100  68.354805  100  77.666309  20\n",
      "4  100  20.000000  100  20.000000  20\n"
     ]
    }
   ],
   "source": [
    "# 添加与修改\n",
    "\n",
    "df = pd.DataFrame(np.random.rand(16).reshape(4,4)*100,\n",
    "                 columns=['a','b','c','d'])\n",
    "print(df)\n",
    "\n",
    "df['e'] = 10                              # 新值行/列并赋值\n",
    "df.loc[4] = 20\n",
    "print(df)\n",
    "\n",
    "df['e'] = 20                             # 索引后直接更改值\n",
    "df[['a','c']] = 100\n",
    "print(df)"
   ]
  },
  {
   "cell_type": "code",
   "execution_count": 13,
   "metadata": {},
   "outputs": [
    {
     "name": "stdout",
     "output_type": "stream",
     "text": [
      "           a          b          c          d\n",
      "0  95.233093   0.638744  12.151152  74.569185\n",
      "1  16.018085  88.418042  31.976932  84.483517\n",
      "2  59.258877  89.408584  48.796213  45.164505\n",
      "3  74.510290  66.452937  34.864910   3.417813\n",
      "           b          c          d\n",
      "0   0.638744  12.151152  74.569185\n",
      "1  88.418042  31.976932  84.483517\n",
      "2  89.408584  48.796213  45.164505\n",
      "3  66.452937  34.864910   3.417813\n",
      "-----\n",
      "           b          c          d\n",
      "1  88.418042  31.976932  84.483517\n",
      "2  89.408584  48.796213  45.164505\n",
      "3  66.452937  34.864910   3.417813\n",
      "           b          c          d\n",
      "0   0.638744  12.151152  74.569185\n",
      "3  66.452937  34.864910   3.417813\n",
      "           b          c          d\n",
      "0   0.638744  12.151152  74.569185\n",
      "1  88.418042  31.976932  84.483517\n",
      "2  89.408584  48.796213  45.164505\n",
      "3  66.452937  34.864910   3.417813\n",
      "           b          c\n",
      "0   0.638744  12.151152\n",
      "1  88.418042  31.976932\n",
      "2  89.408584  48.796213\n",
      "3  66.452937  34.864910\n",
      "           b          c          d\n",
      "0   0.638744  12.151152  74.569185\n",
      "1  88.418042  31.976932  84.483517\n",
      "2  89.408584  48.796213  45.164505\n",
      "3  66.452937  34.864910   3.417813\n"
     ]
    }
   ],
   "source": [
    "# 删除  del / drop()\n",
    "\n",
    "df = pd.DataFrame(np.random.rand(16).reshape(4,4)*100,\n",
    "                   columns = ['a','b','c','d'])\n",
    "print(df)\n",
    "\n",
    "del df['a']                                # 直接删除列\n",
    "print(df)\n",
    "print('-----')\n",
    "\n",
    "print(df.drop(0))                         # 删除行\n",
    "print(df.drop([1,2],inplace=False))      # inplace=False → 删除后生成新的数据，不改变原数据\n",
    "print(df)\n",
    "\n",
    "print(df.drop(['d'],axis=1))             # 删除列,需要加上axis = 1   \n",
    "print(df)                               # inplace=False → 删除后生成新的数据，不改变原数据"
   ]
  },
  {
   "cell_type": "code",
   "execution_count": 14,
   "metadata": {},
   "outputs": [
    {
     "name": "stdout",
     "output_type": "stream",
     "text": [
      "          A         B         C   D\n",
      "0  1.202051  0.683266  1.146046 NaN\n",
      "1  0.817747  0.445596  1.595904 NaN\n",
      "2  0.449798  0.630813  1.879994 NaN\n",
      "3  1.051832  1.303946  1.114035 NaN\n",
      "4  0.887172  0.519084  1.478127 NaN\n",
      "5  1.176458  1.062792  1.138003 NaN\n",
      "6  0.797810  1.236676  1.830888 NaN\n",
      "7       NaN       NaN       NaN NaN\n",
      "8       NaN       NaN       NaN NaN\n",
      "9       NaN       NaN       NaN NaN\n"
     ]
    }
   ],
   "source": [
    "# 对齐\n",
    "\n",
    "df1 = pd.DataFrame(np.random.rand(10,4),columns=['A','B','C','D'])\n",
    "df2 = pd.DataFrame(np.random.rand(7,3),columns=['A','B','C'])\n",
    "\n",
    "print(df1+df2)                             # DataFrame对象之间的数据自动按照列和索引（行标签）对齐"
   ]
  },
  {
   "cell_type": "code",
   "execution_count": 19,
   "metadata": {},
   "outputs": [
    {
     "name": "stdout",
     "output_type": "stream",
     "text": [
      "           a          b          c          d\n",
      "0   9.288968  71.159413  61.821797  34.472572\n",
      "1  45.459405  10.650539  43.131287   7.854884\n",
      "2  97.681489  56.187811  97.901810  71.275846\n",
      "3  93.842151  29.786197  49.287671  68.773308\n",
      "           a          b          c          d\n",
      "0   9.288968  71.159413  61.821797  34.472572\n",
      "1  45.459405  10.650539  43.131287   7.854884\n",
      "3  93.842151  29.786197  49.287671  68.773308\n",
      "2  97.681489  56.187811  97.901810  71.275846\n",
      "           a          b          c          d\n",
      "2  97.681489  56.187811  97.901810  71.275846\n",
      "3  93.842151  29.786197  49.287671  68.773308\n",
      "1  45.459405  10.650539  43.131287   7.854884\n",
      "0   9.288968  71.159413  61.821797  34.472572\n",
      "   a  b  c\n",
      "0  1  0  8\n",
      "1  1  1  7\n",
      "2  1  2  6\n",
      "3  1  3  5\n",
      "4  2  4  4\n",
      "5  2  5  3\n",
      "6  2  6  2\n",
      "7  2  7  1\n",
      "   a  b  c\n",
      "3  1  3  5\n",
      "2  1  2  6\n",
      "1  1  1  7\n",
      "0  1  0  8\n",
      "7  2  7  1\n",
      "6  2  6  2\n",
      "5  2  5  3\n",
      "4  2  4  4\n"
     ]
    }
   ],
   "source": [
    "# 排序1 - 按值排序 .sort_values\n",
    "# 适用于Series\n",
    "\n",
    "df1 = pd.DataFrame(np.random.rand(16).reshape(4,4)*100,\n",
    "                   columns = ['a','b','c','d'])\n",
    "print(df1)                                          # 单列排序 \n",
    "print(df1.sort_values(['a'],ascending=True))        # 升序\n",
    "print(df1.sort_values(['a'],ascending=False))       # 降序\n",
    "\n",
    "df2 = pd.DataFrame({\n",
    "    'a':[1,1,1,1,2,2,2,2],\n",
    "    'b':list(range(8)),\n",
    "    'c':list(range(8,0,-1))\n",
    "})\n",
    "print(df2)\n",
    "print(df2.sort_values(['a','c']))                   # 多列排序，按列顺序排序"
   ]
  },
  {
   "cell_type": "code",
   "execution_count": 20,
   "metadata": {},
   "outputs": [
    {
     "name": "stdout",
     "output_type": "stream",
     "text": [
      "           a          b          c          d\n",
      "5  56.430531  97.028925   9.312275  15.551422\n",
      "4  96.774760  47.421059  62.299458  24.906133\n",
      "3  46.632243  32.169600  64.968861  57.791260\n",
      "2  90.427570  70.290015   3.226346  16.841667\n",
      "           a          b          c          d\n",
      "2  90.427570  70.290015   3.226346  16.841667\n",
      "3  46.632243  32.169600  64.968861  57.791260\n",
      "4  96.774760  47.421059  62.299458  24.906133\n",
      "5  56.430531  97.028925   9.312275  15.551422\n",
      "           a          b          c          d\n",
      "h  42.386369  34.043394  91.833442   8.886014\n",
      "s  73.587380  42.756723  37.998640   8.203630\n",
      "x  50.973741   3.446857  11.521115  15.215139\n",
      "g  47.300087  32.466859   9.212194  97.559203\n",
      "           a          b          c          d\n",
      "g  47.300087  32.466859   9.212194  97.559203\n",
      "h  42.386369  34.043394  91.833442   8.886014\n",
      "s  73.587380  42.756723  37.998640   8.203630\n",
      "x  50.973741   3.446857  11.521115  15.215139\n"
     ]
    }
   ],
   "source": [
    "# 排序2 - 索引排序 .sort_index\n",
    "\n",
    "df1 = pd.DataFrame(np.random.rand(16).reshape(4,4)*100,\n",
    "                   index = [5,4,3,2],\n",
    "                   columns = ['a','b','c','d'])\n",
    "\n",
    "df2 = pd.DataFrame(np.random.rand(16).reshape(4,4)*100,\n",
    "                   index = ['h','s','x','g'],\n",
    "                   columns = ['a','b','c','d'])\n",
    "\n",
    "print(df1)\n",
    "print(df1.sort_index())\n",
    "print(df2)\n",
    "print(df2.sort_index())"
   ]
  },
  {
   "cell_type": "code",
   "execution_count": null,
   "metadata": {},
   "outputs": [],
   "source": [
    "\t作业1：创建一个3*3，值在0-100区间随机值的Dataframe（如图），分别按照index和第二列值大小，降序排序\n",
    "\n",
    "\t作业2：创建一个5*2，值在0-100区间随机值的Dataframe（如图）df1，通过修改得到df2"
   ]
  },
  {
   "cell_type": "code",
   "execution_count": 26,
   "metadata": {},
   "outputs": [
    {
     "name": "stdout",
     "output_type": "stream",
     "text": [
      "原数据为:\n",
      "          v1         v2         v3\n",
      "a  95.541646  55.006110   6.787059\n",
      "b  22.686798  68.884836  92.648073\n",
      "c  32.245678  24.055926  25.845177\n",
      "按照index和第二列值大小降序排列:\n",
      "          v1         v2         v3\n",
      "b  22.686798  68.884836  92.648073\n",
      "a  95.541646  55.006110   6.787059\n",
      "c  32.245678  24.055926  25.845177\n"
     ]
    }
   ],
   "source": [
    "df1 = pd.DataFrame(np.random.rand(9).reshape(3,3)*100,\n",
    "                  index = ['a','b','c'],\n",
    "                  columns = ['v1','v2','v3'])\n",
    "print(f'原数据为:\\n{df1}')\n",
    "\n",
    "print(f\"按照index和第二列值大小降序排列:\\n{df1.sort_values(['v2'],ascending=False)}\")"
   ]
  },
  {
   "cell_type": "code",
   "execution_count": 31,
   "metadata": {},
   "outputs": [
    {
     "name": "stdout",
     "output_type": "stream",
     "text": [
      "原数据为:\n",
      "          v1         v2\n",
      "a  99.417337  38.098930\n",
      "b  70.778217  24.046732\n",
      "c  48.997211  37.581275\n",
      "d  23.719464  11.228016\n",
      "e  59.199480   5.502694\n",
      "修改后数据为:\n",
      "            a      b          c          d\n",
      "v1  99.417337  100.0  48.997211  23.719464\n",
      "v2  38.098930  100.0  37.581275  11.228016\n"
     ]
    }
   ],
   "source": [
    "df2 = pd.DataFrame(np.random.rand(10).reshape(5,2)*100,\n",
    "                  index=['a','b','c','d','e'],\n",
    "                  columns=['v1','v2'])\n",
    "print(f'原数据为:\\n{df2}')\n",
    "\n",
    "df2.loc['b'] = 100\n",
    "df2.drop(['e'],inplace=True)\n",
    "print(f'修改后数据为:\\n{df2.T}')"
   ]
  },
  {
   "cell_type": "code",
   "execution_count": null,
   "metadata": {},
   "outputs": [],
   "source": []
  }
 ],
 "metadata": {
  "kernelspec": {
   "display_name": "Python 3",
   "language": "python",
   "name": "python3"
  },
  "language_info": {
   "codemirror_mode": {
    "name": "ipython",
    "version": 3
   },
   "file_extension": ".py",
   "mimetype": "text/x-python",
   "name": "python",
   "nbconvert_exporter": "python",
   "pygments_lexer": "ipython3",
   "version": "3.6.5"
  }
 },
 "nbformat": 4,
 "nbformat_minor": 2
}
