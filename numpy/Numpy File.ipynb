{
 "cells": [
  {
   "cell_type": "code",
   "execution_count": null,
   "metadata": {},
   "outputs": [],
   "source": [
    "'''\n",
    "【课程1.6】  Numpy数据的输入输出\n",
    "\n",
    "numpy读取/写入数组数据、文本数据\n",
    "\n",
    "'''"
   ]
  },
  {
   "cell_type": "code",
   "execution_count": 2,
   "metadata": {},
   "outputs": [],
   "source": [
    "import numpy as np"
   ]
  },
  {
   "cell_type": "code",
   "execution_count": 4,
   "metadata": {},
   "outputs": [
    {
     "name": "stdout",
     "output_type": "stream",
     "text": [
      "[[0.03345752 0.98704777 0.05589934 0.89298751 0.62797244]\n",
      " [0.13390943 0.4764105  0.08056207 0.60272845 0.98491185]\n",
      " [0.83349608 0.62722893 0.15286671 0.59988915 0.25886288]\n",
      " [0.11299974 0.6076214  0.68465745 0.02146056 0.12285964]\n",
      " [0.92562851 0.34791903 0.06614385 0.41942627 0.64323142]]\n"
     ]
    }
   ],
   "source": [
    "# 存储数组数据 .npy文件\n",
    "\n",
    "import os\n",
    "os.chdir(r'D:\\user_profile\\python')\n",
    "\n",
    "ar = np.random.rand(5,5)\n",
    "print(ar)\n",
    "np.save('arraydata.npy',ar)"
   ]
  },
  {
   "cell_type": "code",
   "execution_count": 5,
   "metadata": {},
   "outputs": [
    {
     "name": "stdout",
     "output_type": "stream",
     "text": [
      "[[0.03345752 0.98704777 0.05589934 0.89298751 0.62797244]\n",
      " [0.13390943 0.4764105  0.08056207 0.60272845 0.98491185]\n",
      " [0.83349608 0.62722893 0.15286671 0.59988915 0.25886288]\n",
      " [0.11299974 0.6076214  0.68465745 0.02146056 0.12285964]\n",
      " [0.92562851 0.34791903 0.06614385 0.41942627 0.64323142]]\n"
     ]
    }
   ],
   "source": [
    "# 读取数组数据 .npy文件\n",
    "\n",
    "ar_load = np.load('arraydata.npy')\n",
    "print(ar_load)"
   ]
  },
  {
   "cell_type": "code",
   "execution_count": 8,
   "metadata": {},
   "outputs": [
    {
     "name": "stdout",
     "output_type": "stream",
     "text": [
      "[[0.04 0.89 0.48 0.54 0.37]\n",
      " [0.38 0.75 0.38 0.42 0.95]\n",
      " [0.   0.01 0.53 0.26 0.15]\n",
      " [0.84 0.47 0.22 0.3  0.61]\n",
      " [0.16 0.15 0.68 0.38 0.09]]\n"
     ]
    }
   ],
   "source": [
    "# 存储/读取文本文件\n",
    "\n",
    "ar = np.random.rand(5,5)\n",
    "np.savetxt('array.txt',ar,delimiter=',',fmt='%.2f')                # savetxt方法存储为文本txt文件,delimiter指定分隔符,fmt指定格式\n",
    "\n",
    "ar_loadtxt = np.loadtxt('array.txt',delimiter=',')\n",
    "print(ar_loadtxt)"
   ]
  },
  {
   "cell_type": "code",
   "execution_count": null,
   "metadata": {},
   "outputs": [],
   "source": [
    "\t作业1：创建一个10*10的整数随机数组，取值范围为0-100，并存为txt文件，用逗号分开\t"
   ]
  },
  {
   "cell_type": "code",
   "execution_count": 15,
   "metadata": {},
   "outputs": [
    {
     "name": "stdout",
     "output_type": "stream",
     "text": [
      "[[29. 38. 68. 75. 15.  9.  7. 27. 50. 43.]\n",
      " [45. 52. 77. 51. 38. 51. 60. 40. 62. 65.]\n",
      " [24. 10.  9. 69. 39. 98.  3. 41. 46. 58.]\n",
      " [86. 53. 92. 58. 25. 68. 39.  2. 23. 18.]\n",
      " [21. 16. 33. 43. 23. 14. 79. 76. 39.  3.]\n",
      " [50.  3. 17. 84. 97. 58. 83. 73. 10. 42.]\n",
      " [71. 66. 67. 46. 29. 59. 98. 25. 46. 42.]\n",
      " [34. 33. 53. 31. 72. 77.  7. 65. 68. 11.]\n",
      " [31.  6. 15.  4. 65. 79. 29. 33. 72. 32.]\n",
      " [55. 56. 33. 84. 33. 60. 24. 69. 33. 12.]]\n"
     ]
    }
   ],
   "source": [
    "ar = np.random.randint(100,size=(10,10))\n",
    "\n",
    "np.savetxt('arr.txt',ar,delimiter=',',fmt='%i')\n",
    "ar_load = np.loadtxt('arr.txt',delimiter=',')\n",
    "print(ar_load)"
   ]
  },
  {
   "cell_type": "code",
   "execution_count": null,
   "metadata": {},
   "outputs": [],
   "source": []
  }
 ],
 "metadata": {
  "kernelspec": {
   "display_name": "Python 3",
   "language": "python",
   "name": "python3"
  },
  "language_info": {
   "codemirror_mode": {
    "name": "ipython",
    "version": 3
   },
   "file_extension": ".py",
   "mimetype": "text/x-python",
   "name": "python",
   "nbconvert_exporter": "python",
   "pygments_lexer": "ipython3",
   "version": "3.6.5"
  }
 },
 "nbformat": 4,
 "nbformat_minor": 2
}
