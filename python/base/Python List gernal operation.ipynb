{
 "cells": [
  {
   "cell_type": "code",
   "execution_count": null,
   "metadata": {},
   "outputs": [],
   "source": [
    "'''\n",
    "【课程3.2】  序列通用操作\n",
    "\n",
    "序列分类：可变序列list，不可变序列tuple、str\n",
    "\n",
    "'''"
   ]
  },
  {
   "cell_type": "code",
   "execution_count": 2,
   "metadata": {},
   "outputs": [
    {
     "name": "stdout",
     "output_type": "stream",
     "text": [
      "True\n",
      "True\n"
     ]
    }
   ],
   "source": [
    "# 判断是否属于序列\n",
    "lst = [1,2,3,4,5,6]\n",
    "a,b = 1,10\n",
    "print(a in lst)\n",
    "print(b not in lst)"
   ]
  },
  {
   "cell_type": "code",
   "execution_count": 3,
   "metadata": {},
   "outputs": [
    {
     "name": "stdout",
     "output_type": "stream",
     "text": [
      "[1, 2, 3, 'a', 'b', 'c']\n",
      "[1, 2, 3, 1, 2, 3, 1, 2, 3] ['a', 'b', 'c', 'a', 'b', 'c']\n"
     ]
    }
   ],
   "source": [
    "# 序列链接与重复\n",
    "lst1 = [1,2,3]\n",
    "lst2 = ['a','b','c']\n",
    "print(lst1 + lst2)\n",
    "print(lst1*3,lst2*2)"
   ]
  },
  {
   "cell_type": "code",
   "execution_count": 4,
   "metadata": {},
   "outputs": [
    {
     "name": "stdout",
     "output_type": "stream",
     "text": [
      "1 3 0\n",
      "0\n"
     ]
    }
   ],
   "source": [
    "# 下标索引\n",
    "lst = [1,2,3,4,5,6,7,8,9,0]\n",
    "print(lst[0],lst[2],lst[9]) #索引从0开始,lst[2]中下标索引是2,指向列表中的第三个元素\n",
    "print(lst[-1]) # -表示从末端开始获取数据,-1表示最后一个值\n",
    "#print(lst[10])  # 这里一共有10个值，所以最大索引是9"
   ]
  },
  {
   "cell_type": "code",
   "execution_count": 6,
   "metadata": {},
   "outputs": [
    {
     "name": "stdout",
     "output_type": "stream",
     "text": [
      "[3, 4, 5]\n",
      "[1, 2, 3, 4, 5]\n",
      "[5, 6, 7, 8, 9, 0]\n",
      "[6, 7, 8, 9]\n"
     ]
    }
   ],
   "source": [
    "# 切片\n",
    "lst = [1,2,3,4,5,6,7,8,9,0]\n",
    "print(lst[2:5])   #切片可以看做是列表的值得区间,且是一个左闭右开的区间,这里lst[2:5]代表的区间是:索引\n",
    "print(lst[:5])    #左边无索引,代表从0开始\n",
    "print(lst[4:])    #右边无索引,代表以最后一个值结束\n",
    "print(lst[5:-1])  #索引为5的值 - 到索引倒数第二个值"
   ]
  },
  {
   "cell_type": "code",
   "execution_count": 7,
   "metadata": {},
   "outputs": [
    {
     "name": "stdout",
     "output_type": "stream",
     "text": [
      "[1, 3, 5]\n",
      "[1, 3, 5, 7, 9]\n",
      "[2, 4, 6, 8, 0]\n"
     ]
    }
   ],
   "source": [
    "# 切片\n",
    "lst = [1,2,3,4,5,6,7,8,9,0]\n",
    "print(lst[0:5:2])  #List[i:j:k]代表:索引i到索引j,以k为步长\n",
    "print(lst[::2])    #按照2为步长,从第一个值开始截取lst的数据\n",
    "print(lst[1::2])   #按照2为步长,从第二个值开始截取lst的数据"
   ]
  },
  {
   "cell_type": "code",
   "execution_count": 8,
   "metadata": {},
   "outputs": [
    {
     "name": "stdout",
     "output_type": "stream",
     "text": [
      "10\n",
      "9 0 45\n",
      "2\n",
      "1\n"
     ]
    }
   ],
   "source": [
    "# 序列的基本内置全局函数\n",
    "\n",
    "lst = [1,2,3,4,5,6,7,8,9,0]\n",
    "print(len(lst))     #获取列表的元素个数\n",
    "print(max(lst),min(lst),sum(lst)) #返回列表中的最大值,最小值,求和,只针对number类型的列表\n",
    "print(lst.index(3)) #通过索引来获取lst中对应的值\n",
    "print(lst.count(4)) #计算lst中该值出现的次数"
   ]
  },
  {
   "cell_type": "markdown",
   "metadata": {},
   "source": [
    "小作业\n",
    "① x=[1,2,3,1,[1],[1,1]]，请问x.count(1)为多少？\n",
    "② x=[1,2,5,1,“1”，“1”]，请问x.count(1)为多少？\n",
    "③ y=[45,67,89,45,34,22,1],请问y.index(45)等于多少？\n",
    "④ 创建一个列表，用type函数判断list[1]和list[2:5]的区别"
   ]
  },
  {
   "cell_type": "code",
   "execution_count": 14,
   "metadata": {},
   "outputs": [
    {
     "name": "stdout",
     "output_type": "stream",
     "text": [
      "2\n",
      "2\n",
      "0\n",
      "<class 'int'>\n",
      "<class 'list'>\n"
     ]
    }
   ],
   "source": [
    "lst = [1,2,3,1,[1],[1,1]]\n",
    "print(lst.count(1))\n",
    "\n",
    "lst = [1,2,5,1,'1','1']\n",
    "print(lst.count(1))\n",
    "\n",
    "lst = [45,67,89,45,34,22,1]\n",
    "print(lst.index(45))\n",
    "\n",
    "lst = [1,2,3,4,5,6,7,8,9,0]\n",
    "print(type(lst[1]))\n",
    "print(type(lst[2:5]))"
   ]
  },
  {
   "cell_type": "markdown",
   "metadata": {},
   "source": [
    "'''\n",
    "【课程3.3】  列表list常用操作\n",
    "\n",
    "序列是Python中最基本的数据结构，它支持字符，数字，字符串甚至可以包含列表（即嵌套）\n",
    "列表用 [ ] 标识，是 python 最通用的复合数据类型。\n",
    "列表中值的切片也可以用到变量 [头下标:尾下标] ，就可以截取相应的列表，从左到右索引默认 0 开始，从右到左索引默认 -1 开始，下标可以为空表示取到头或尾。\n",
    "加号 + 是列表连接运算符，星号 * 是重复操作\n",
    "\n",
    "'''"
   ]
  },
  {
   "cell_type": "code",
   "execution_count": 17,
   "metadata": {},
   "outputs": [
    {
     "name": "stdout",
     "output_type": "stream",
     "text": [
      "143 43 43\n",
      "[1, 2, 3, 1, 2, 3, 1, 2, 3]\n",
      "[10, 101, 102]\n"
     ]
    }
   ],
   "source": [
    "# 列表的特征\n",
    "\n",
    "#1.可以包含任意的对象:数值,字符串,列表,字典\n",
    "lst1 = [1,2,3,'a','b','c',[1,2,3]]\n",
    "\n",
    "#2.通过下标索引访问序列中的值 → 序列的顺序是不变的,通过索引来定位列表的元素\n",
    "lst2 = [143,56,894,67,43]\n",
    "print(lst2[0],lst2[4],lst2[-1])\n",
    "\n",
    "#3.可以任意改变列表长度,相当于重新生成一份新的列表\n",
    "lst3 = [1,2,3]\n",
    "lst3 = lst3 * 3\n",
    "print(lst3)\n",
    "\n",
    "#4.可以嵌套列表\n",
    "lst4 = [1,2,['a','b']]\n",
    "\n",
    "#5.可以根据索引来修改值\n",
    "lst5 = [100,101,102]\n",
    "lst5[0] = 10\n",
    "print(lst5)"
   ]
  },
  {
   "cell_type": "markdown",
   "metadata": {},
   "source": [
    "小作业\n",
    "① [1,2,3]和[“1”, “2”, “3”]什么区别\n",
    "② 创建一个列表，包括3个人的数学成绩100，89,78\n",
    "③ 创建一个列表，包括5个中国城市名称\n",
    "④ 现有一个列表name = ['小明', '小红'] ,增加“团支书”的名字上去\n",
    "⑤ 现有一个列表m=[3.1,5.5,4,3,77,8]，用print分别输出第2、4个元素"
   ]
  },
  {
   "cell_type": "code",
   "execution_count": null,
   "metadata": {},
   "outputs": [],
   "source": [
    "第一个list中是存储的是number类型的元素,第二个list中存放的是字符串类型的元素\n",
    "\n"
   ]
  }
 ],
 "metadata": {
  "kernelspec": {
   "display_name": "Python 3",
   "language": "python",
   "name": "python3"
  },
  "language_info": {
   "codemirror_mode": {
    "name": "ipython",
    "version": 3
   },
   "file_extension": ".py",
   "mimetype": "text/x-python",
   "name": "python",
   "nbconvert_exporter": "python",
   "pygments_lexer": "ipython3",
   "version": "3.6.5"
  }
 },
 "nbformat": 4,
 "nbformat_minor": 2
}
