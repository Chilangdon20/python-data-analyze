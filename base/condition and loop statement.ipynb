{
 "cells": [
  {
   "cell_type": "code",
   "execution_count": null,
   "metadata": {},
   "outputs": [],
   "source": [
    "'''\n",
    "【课程5.2】  条件判断：if语句\n",
    "\n",
    "Python条件语句是通过一条或多条语句的执行结果（True或者False）来决定执行的代码块。\n",
    "\n",
    "if 判断条件：\n",
    "    执行语句……\n",
    "else：\n",
    "    执行语句……\n",
    "    \n",
    "** 开始有缩进的概念\n",
    "\n",
    "'''"
   ]
  },
  {
   "cell_type": "code",
   "execution_count": 1,
   "metadata": {},
   "outputs": [
    {
     "name": "stdout",
     "output_type": "stream",
     "text": [
      "can not enter\n"
     ]
    }
   ],
   "source": [
    "# 基本判断语句\n",
    "\n",
    "# if之后必须有:\n",
    "# 自动缩进\n",
    "# if写完后要退回原先的缩进,继续写\n",
    "# 具有相同缩进的代码是属于一个代码块的\n",
    "age = 10\n",
    "if age < 18:\n",
    "    print('can not enter')"
   ]
  },
  {
   "cell_type": "code",
   "execution_count": 3,
   "metadata": {},
   "outputs": [
    {
     "name": "stdout",
     "output_type": "stream",
     "text": [
      "please input the score:88\n",
      "score is:88\n",
      "<class 'str'>\n"
     ]
    }
   ],
   "source": [
    "# 输入函数 input()\n",
    "\n",
    "score = input('please input the score:')\n",
    "print('score is:%s'%score)\n",
    "print(type(score))"
   ]
  },
  {
   "cell_type": "code",
   "execution_count": 4,
   "metadata": {},
   "outputs": [
    {
     "name": "stdout",
     "output_type": "stream",
     "text": [
      "finish\n"
     ]
    }
   ],
   "source": [
    "# 两种条件判断:if-else\n",
    "\n",
    "flag = False\n",
    "name = 'coco'\n",
    "if name == 'python':        # 判断变量是否为python\n",
    "    flag = True             # 条件为真时设置flag为true\n",
    "    print('welcome')        # 并输出欢迎信息\n",
    "else:                       #\n",
    "    print('finish')         # 条件不为真时输出finish\n"
   ]
  },
  {
   "cell_type": "code",
   "execution_count": 5,
   "metadata": {},
   "outputs": [
    {
     "name": "stdout",
     "output_type": "stream",
     "text": [
      "user\n"
     ]
    }
   ],
   "source": [
    "# 多种条件判断:if-elif-...-else\n",
    "\n",
    "num =2\n",
    "if num == 3:                # 判断num的值\n",
    "    print('boss')\n",
    "elif num == 2:\n",
    "    print('user')\n",
    "elif num == 1:\n",
    "    print('worker')\n",
    "elif num < 0:               # 值小于0时输出\n",
    "    print('error')\n",
    "else:\n",
    "    print('random')         # 条件均不成立时输出\n",
    "    "
   ]
  },
  {
   "cell_type": "code",
   "execution_count": 8,
   "metadata": {},
   "outputs": [
    {
     "name": "stdout",
     "output_type": "stream",
     "text": [
      "hello\n",
      "undefine\n",
      "undefine\n"
     ]
    }
   ],
   "source": [
    "# 单语句多条件判断：or and\n",
    "\n",
    "# 判断num是否在 0 ~ 10 之间\n",
    "num = 5\n",
    "if num >= 0 and num <= 10:\n",
    "    print('hello')\n",
    "\n",
    "# 判断是否小于0或者大于10\n",
    "num = 10\n",
    "if num < 0 or num > 10:\n",
    "    print('hello')\n",
    "else:\n",
    "    print('undefine')\n",
    "  \n",
    "# 判断是否在0~5 或者 10~15之间\n",
    "num = 8\n",
    "if (num >= 0 and num <= 5) or (num >= 10 and num <= 15):\n",
    "    print('hello')\n",
    "else:\n",
    "    print('undefine')\n"
   ]
  },
  {
   "cell_type": "markdown",
   "metadata": {},
   "source": [
    "小作业\n",
    "① 编写一个简单的判断语句代码：输入某个成绩，如果成绩分数大于或等于60分，则返回及格，小于60分，则返回不及格\n",
    "② 编写猜数字小游戏的代码：输入一个数字，分别针对猜对数字、猜错数字、输入错误给予判断"
   ]
  },
  {
   "cell_type": "code",
   "execution_count": 3,
   "metadata": {},
   "outputs": [
    {
     "name": "stdout",
     "output_type": "stream",
     "text": [
      "please input a num:78\n",
      "not correct\n"
     ]
    }
   ],
   "source": [
    "# score = float(input('please input score:'))\n",
    "# if score >= 60.0:\n",
    "#     print('passed')\n",
    "# else:\n",
    "#     print('not passed')\n",
    "    \n",
    "\n",
    "num = input('please input a num:')\n",
    "if num == 55:\n",
    "    print('correct')\n",
    "elif num != 55:\n",
    "    print('not correct')\n",
    "else:\n",
    "    print('input error')"
   ]
  },
  {
   "cell_type": "code",
   "execution_count": 4,
   "metadata": {},
   "outputs": [
    {
     "data": {
      "text/plain": [
       "'\\n【课程5.3】  循环语句：for循环\\n\\nfor循环可以遍历任何序列的项目，如一个列表或者一个字符串。\\n\\n迭代\\n\\n'"
      ]
     },
     "execution_count": 4,
     "metadata": {},
     "output_type": "execute_result"
    }
   ],
   "source": [
    "'''\n",
    "【课程5.3】  循环语句：for循环\n",
    "\n",
    "for循环可以遍历任何序列的项目，如一个列表或者一个字符串。\n",
    "\n",
    "迭代\n",
    "\n",
    "'''"
   ]
  },
  {
   "cell_type": "code",
   "execution_count": 5,
   "metadata": {},
   "outputs": [
    {
     "name": "stdout",
     "output_type": "stream",
     "text": [
      "hello world\n",
      "hello world\n",
      "hello world\n",
      "hello world\n",
      "hello world\n"
     ]
    }
   ],
   "source": [
    "# 输出hello world 5次\n",
    "for i in range(5):\n",
    "    print('hello world')   "
   ]
  },
  {
   "cell_type": "code",
   "execution_count": 8,
   "metadata": {},
   "outputs": [
    {
     "name": "stdout",
     "output_type": "stream",
     "text": [
      "0\n",
      "2\n",
      "4\n",
      "6\n",
      "8\n",
      "tom age is 18\n",
      "jack age is 19\n",
      "alex age is 17\n",
      "mary age is 20\n"
     ]
    }
   ],
   "source": [
    "# 通过for遍历序列、映射\n",
    "\n",
    "# 步长为2,便利lst\n",
    "lst = list(range(10))\n",
    "for i in lst[::2]:\n",
    "    print(i)\n",
    "\n",
    "# 遍历字典中的key,value\n",
    "age = {'tom':18,'jack':19,'alex':17,'mary':20}\n",
    "for name in age:\n",
    "    print(name + ' age is %s'%age[name])"
   ]
  },
  {
   "cell_type": "code",
   "execution_count": 9,
   "metadata": {},
   "outputs": [
    {
     "name": "stdout",
     "output_type": "stream",
     "text": [
      "0 0\n",
      "0 1\n",
      "0 2\n",
      "0 3\n",
      "0 4\n",
      "1 0\n",
      "1 1\n",
      "1 2\n",
      "1 3\n",
      "1 4\n",
      "2 0\n",
      "2 1\n",
      "2 2\n",
      "2 3\n",
      "2 4\n",
      "3 0\n",
      "3 1\n",
      "3 2\n",
      "3 3\n",
      "3 4\n",
      "4 0\n",
      "4 1\n",
      "4 2\n",
      "4 3\n",
      "4 4\n",
      "5 0\n",
      "5 1\n",
      "5 2\n",
      "5 3\n",
      "5 4\n",
      "6 0\n",
      "6 1\n",
      "6 2\n",
      "6 3\n",
      "6 4\n",
      "7 0\n",
      "7 1\n",
      "7 2\n",
      "7 3\n",
      "7 4\n",
      "8 0\n",
      "8 1\n",
      "8 2\n",
      "8 3\n",
      "8 4\n",
      "9 0\n",
      "9 1\n",
      "9 2\n",
      "9 3\n",
      "9 4\n"
     ]
    }
   ],
   "source": [
    "# 嵌套循环\n",
    "\n",
    "# 循环嵌套,最好不要超过3层\n",
    "for i in range(10):\n",
    "    for j in range(5):\n",
    "        print(i,j)"
   ]
  },
  {
   "cell_type": "code",
   "execution_count": null,
   "metadata": {},
   "outputs": [],
   "source": [
    "小作业\n",
    "① 生成一个数值列表，用for循环打印出所有元素\n",
    "② 用for循环遍历一个字符串，打印出各个字母\n",
    "③ 生成一个字典，分别打印出key和value\n",
    "④ 用input输入一个循环次数n，打印hello world n遍\n",
    "⑤ 码一个等差数列，四个变量：首项a，项数n，公差d，求和s，这几个参数都可通过input()输入\n",
    "⑥ 两组列表[\"a\", \"b\", \"c\"],[1,2,3]，用for循环把它们组成一个字典，一一对应"
   ]
  },
  {
   "cell_type": "code",
   "execution_count": 27,
   "metadata": {},
   "outputs": [
    {
     "name": "stdout",
     "output_type": "stream",
     "text": [
      "[('a', 1), ('a', 2), ('a', 3), ('b', 1), ('b', 2), ('b', 3), ('c', 1), ('c', 2), ('c', 3)]\n"
     ]
    }
   ],
   "source": [
    "# nums = [12,13,14,15,16,17,18,19,20]\n",
    "# for i in nums:\n",
    "#     print(i)\n",
    "    \n",
    "# name = 'jimmy'\n",
    "# for n in name:\n",
    "#     print(n)\n",
    "    \n",
    "# dic = {'a':1,'b':2,'c':3}\n",
    "# for k in dic:\n",
    "#     print(k)\n",
    "\n",
    "# for v in dic:\n",
    "#     print(dic[v])\n",
    "    \n",
    "# num = int(input('please input num'))\n",
    "# for i in range(num):\n",
    "#     print('hello world')\n",
    "    \n",
    "# a = float(input('please input first element:'))\n",
    "# n = int(input('please input nums:'))\n",
    "# d = float(input('please input tolerance:'))\n",
    "\n",
    "# s = 0\n",
    "# for i in range(n):\n",
    "#     an = a + i*d\n",
    "#     s += an\n",
    "# print(s)\n",
    "\n",
    "lst1 = ['a','b','c']\n",
    "lst2 = [1,2,3]\n"
   ]
  },
  {
   "cell_type": "markdown",
   "metadata": {},
   "source": [
    "'''\n",
    "【课程5.4】  循环语句：while循环\n",
    "\n",
    "执行语句可以是单个语句或语句块\n",
    "\n",
    "判断条件可以是任何表达式，任何非零、或非空（null）的值均为true。\n",
    "\n",
    "当判断条件假false时，循环结束。\n",
    "\n",
    "'''"
   ]
  },
  {
   "cell_type": "code",
   "execution_count": 28,
   "metadata": {},
   "outputs": [
    {
     "name": "stdout",
     "output_type": "stream",
     "text": [
      "the count is:0\n",
      "the count is:1\n",
      "the count is:2\n",
      "the count is:3\n",
      "the count is:4\n",
      "the count is:5\n",
      "the count is:6\n",
      "the count is:7\n",
      "the count is:8\n",
      "done\n"
     ]
    }
   ],
   "source": [
    "# 基本运行逻辑\n",
    "\n",
    "count = 0\n",
    "while count < 9:\n",
    "    print('the count is:%d'%count)\n",
    "    count += 1\n",
    "print('done')"
   ]
  },
  {
   "cell_type": "code",
   "execution_count": 30,
   "metadata": {},
   "outputs": [
    {
     "name": "stdout",
     "output_type": "stream",
     "text": [
      "input a num10\n",
      "you num is 10\n",
      "done\n"
     ]
    }
   ],
   "source": [
    "# 关于无限循环：如果条件判断语句永远为 true，循环将会无限的执行下去\n",
    "\n",
    "# 条件判断永远为true,将会永远执行下去\n",
    "# 避免出现无线循环\n",
    "num = 1\n",
    "while num == 1:\n",
    "    num = input('input a num')\n",
    "    print('you num is %d'%int(num))\n",
    "print('done')\n"
   ]
  },
  {
   "cell_type": "code",
   "execution_count": 31,
   "metadata": {},
   "outputs": [
    {
     "name": "stdout",
     "output_type": "stream",
     "text": [
      "count is less than:0\n",
      "count is less than:1\n",
      "count is less than:2\n",
      "count is less than:3\n",
      "count is less than:4\n",
      "count is not less than:5\n"
     ]
    }
   ],
   "source": [
    "# while-else语句\n",
    "\n",
    "count = 0\n",
    "while count < 5:\n",
    "    print('count is less than:%d'%count)\n",
    "    count += 1\n",
    "else:\n",
    "    print('count is not less than:%d'%count)"
   ]
  },
  {
   "cell_type": "code",
   "execution_count": 32,
   "metadata": {},
   "outputs": [
    {
     "data": {
      "text/plain": [
       "'\\n【课程5.5】  循环控制语句\\n\\nbreak：在语句块执行过程中终止循环，并且跳出整个循环\\n\\ncontinue：在语句块执行过程中跳出该次循环，执行下一次循环\\n\\npass：pass是空语句，是为了保持程序结构的完整性\\n\\n'"
      ]
     },
     "execution_count": 32,
     "metadata": {},
     "output_type": "execute_result"
    }
   ],
   "source": [
    "'''\n",
    "【课程5.5】  循环控制语句\n",
    "\n",
    "break：在语句块执行过程中终止循环，并且跳出整个循环\n",
    "\n",
    "continue：在语句块执行过程中跳出该次循环，执行下一次循环\n",
    "\n",
    "pass：pass是空语句，是为了保持程序结构的完整性\n",
    "\n",
    "'''"
   ]
  },
  {
   "cell_type": "code",
   "execution_count": 34,
   "metadata": {},
   "outputs": [
    {
     "name": "stdout",
     "output_type": "stream",
     "text": [
      "190\n",
      "第0次计算\n",
      "第1次计算\n",
      "第2次计算\n",
      "第3次计算\n",
      "第4次计算\n",
      "第1次计算\n",
      "第2次计算\n",
      "第3次计算\n",
      "第4次计算\n",
      "第5次计算\n",
      "第2次计算\n",
      "第3次计算\n",
      "第4次计算\n",
      "第5次计算\n",
      "第6次计算\n",
      "结果为:30\n"
     ]
    }
   ],
   "source": [
    "# break语句\n",
    "\n",
    "\n",
    "# break用来终止循环,即使循环中没有False或者循环结束这类的条件\n",
    "s = 0\n",
    "n = 1\n",
    "while n > 0:\n",
    "    s = s + n \n",
    "    n = n + 1\n",
    "    if n == 20:\n",
    "        break\n",
    "print(s)\n",
    "\n",
    "s = 0\n",
    "for i in range(10):\n",
    "    for j in range(5):\n",
    "        s = s + (i*j)\n",
    "        print('第%i次计算'%(i+j))\n",
    "    if s >20:\n",
    "        break\n",
    "print('结果为:%i'%s)"
   ]
  },
  {
   "cell_type": "code",
   "execution_count": 35,
   "metadata": {},
   "outputs": [
    {
     "name": "stdout",
     "output_type": "stream",
     "text": [
      "第0次运算\n",
      "第1次运算\n",
      "第2次运算\n",
      "第3次运算\n",
      "第4次运算\n",
      "第5次运算\n",
      "第6次运算\n",
      "第7次运算\n",
      "第8次运算\n",
      "第9次运算\n",
      "第10次运算\n",
      "第11次运算\n",
      "第12次运算\n",
      "第13次运算\n",
      "第14次运算\n",
      "第15次运算\n",
      "第16次运算\n",
      "第17次运算\n",
      "第18次运算\n",
      "第19次运算\n",
      "第20次运算\n",
      "第21次运算\n",
      "第22次运算\n",
      "第23次运算\n",
      "第24次运算\n",
      "计算结果是:600\n"
     ]
    }
   ],
   "source": [
    "# continue语句\n",
    "\n",
    "# continue是跳过当前循环的剩余语句,然后继续进行下一次循环\n",
    "s = 0\n",
    "for i in range(50):\n",
    "    if i%2 == 0:\n",
    "        s += i\n",
    "    else:\n",
    "        continue\n",
    "    print('第%i次运算'%(i/2))\n",
    "print('计算结果是:%i'%s)"
   ]
  },
  {
   "cell_type": "code",
   "execution_count": 37,
   "metadata": {},
   "outputs": [
    {
     "name": "stdout",
     "output_type": "stream",
     "text": [
      "当前字母: p\n",
      "当前字母: y\n",
      "当前字母: t\n",
      "当前字母: o\n",
      "当前字母: n\n",
      "done\n"
     ]
    }
   ],
   "source": [
    "# pass语句\n",
    "\n",
    "# pass是空语句,保持程序的完整性,不跳过也不中断\n",
    "for letter in 'python':\n",
    "    if letter == 'h':\n",
    "        #continue\n",
    "        pass\n",
    "        print( '当前字母:h，但是我pass了')\n",
    "    print('当前字母:',letter)\n",
    "print('done')"
   ]
  },
  {
   "cell_type": "code",
   "execution_count": null,
   "metadata": {},
   "outputs": [],
   "source": []
  }
 ],
 "metadata": {
  "kernelspec": {
   "display_name": "Python 3",
   "language": "python",
   "name": "python3"
  },
  "language_info": {
   "codemirror_mode": {
    "name": "ipython",
    "version": 3
   },
   "file_extension": ".py",
   "mimetype": "text/x-python",
   "name": "python",
   "nbconvert_exporter": "python",
   "pygments_lexer": "ipython3",
   "version": "3.6.5"
  }
 },
 "nbformat": 4,
 "nbformat_minor": 2
}
